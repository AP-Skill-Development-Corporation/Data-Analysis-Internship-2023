{
 "cells": [
  {
   "cell_type": "markdown",
   "id": "b70b90a3",
   "metadata": {},
   "source": [
    "### Functional programming\n",
    "\n",
    "* functional programming is a programming paradigm in which we try to bind everything in pre mathematical functional style\n",
    "* python supports functional programming\n"
   ]
  },
  {
   "cell_type": "markdown",
   "id": "574a1c27",
   "metadata": {},
   "source": [
    "### lambda: \n",
    "\n",
    "* Anonymous function\n",
    "* syntax: lambda arg1,arg2:expression"
   ]
  },
  {
   "cell_type": "code",
   "execution_count": 1,
   "id": "cc054e2d",
   "metadata": {},
   "outputs": [
    {
     "data": {
      "text/plain": [
       "101"
      ]
     },
     "execution_count": 1,
     "metadata": {},
     "output_type": "execute_result"
    }
   ],
   "source": [
    "def add(a,b):\n",
    "    return a+b\n",
    "add(78,23)"
   ]
  },
  {
   "cell_type": "code",
   "execution_count": 3,
   "id": "872be894",
   "metadata": {},
   "outputs": [
    {
     "data": {
      "text/plain": [
       "57"
      ]
     },
     "execution_count": 3,
     "metadata": {},
     "output_type": "execute_result"
    }
   ],
   "source": [
    "ad=lambda a,b:a+b\n",
    "ad(45,12)"
   ]
  },
  {
   "cell_type": "code",
   "execution_count": 4,
   "id": "ab2b169d",
   "metadata": {},
   "outputs": [
    {
     "data": {
      "text/plain": [
       "function"
      ]
     },
     "execution_count": 4,
     "metadata": {},
     "output_type": "execute_result"
    }
   ],
   "source": [
    "type(ad)"
   ]
  },
  {
   "cell_type": "code",
   "execution_count": 5,
   "id": "1be887fa",
   "metadata": {},
   "outputs": [
    {
     "data": {
      "text/plain": [
       "16"
      ]
     },
     "execution_count": 5,
     "metadata": {},
     "output_type": "execute_result"
    }
   ],
   "source": [
    "# write a lambda function to perform square of a number\n",
    "\n",
    "sq=lambda n:n**2\n",
    "sq(4)"
   ]
  },
  {
   "cell_type": "code",
   "execution_count": 6,
   "id": "491bf069",
   "metadata": {},
   "outputs": [
    {
     "data": {
      "text/plain": [
       "64"
      ]
     },
     "execution_count": 6,
     "metadata": {},
     "output_type": "execute_result"
    }
   ],
   "source": [
    "pow=lambda n1,n2:n1**n2\n",
    "pow(2,6)"
   ]
  },
  {
   "cell_type": "code",
   "execution_count": 7,
   "id": "a7cbbca7",
   "metadata": {},
   "outputs": [
    {
     "data": {
      "text/plain": [
       "125"
      ]
     },
     "execution_count": 7,
     "metadata": {},
     "output_type": "execute_result"
    }
   ],
   "source": [
    "# cube of a number\n",
    "\n",
    "cube=lambda a:a**3\n",
    "cube(5)"
   ]
  },
  {
   "cell_type": "code",
   "execution_count": 8,
   "id": "fff4479c",
   "metadata": {},
   "outputs": [
    {
     "data": {
      "text/plain": [
       "True"
      ]
     },
     "execution_count": 8,
     "metadata": {},
     "output_type": "execute_result"
    }
   ],
   "source": [
    "# if else in lambda\n",
    "\n",
    "def numcheck(num):\n",
    "    if num<20 and num>10:\n",
    "        return True\n",
    "    else:\n",
    "        return False\n",
    "numcheck(18)"
   ]
  },
  {
   "cell_type": "code",
   "execution_count": 9,
   "id": "a213c79d",
   "metadata": {},
   "outputs": [
    {
     "data": {
      "text/plain": [
       "False"
      ]
     },
     "execution_count": 9,
     "metadata": {},
     "output_type": "execute_result"
    }
   ],
   "source": [
    "numcheck(60)"
   ]
  },
  {
   "cell_type": "code",
   "execution_count": 12,
   "id": "fed6e81c",
   "metadata": {},
   "outputs": [
    {
     "name": "stdout",
     "output_type": "stream",
     "text": [
      "True\n",
      "False\n"
     ]
    }
   ],
   "source": [
    "nc=lambda a:True if (a<20 and a>10) else False\n",
    "print(nc(19))\n",
    "print(nc(80))"
   ]
  },
  {
   "cell_type": "code",
   "execution_count": 13,
   "id": "d6607475",
   "metadata": {},
   "outputs": [
    {
     "data": {
      "text/plain": [
       "True"
      ]
     },
     "execution_count": 13,
     "metadata": {},
     "output_type": "execute_result"
    }
   ],
   "source": [
    "# without using if else\n",
    "\n",
    "nn=lambda a:(a>10 and a<20)\n",
    "nn(16)"
   ]
  },
  {
   "cell_type": "code",
   "execution_count": 14,
   "id": "369c86b9",
   "metadata": {},
   "outputs": [
    {
     "data": {
      "text/plain": [
       "False"
      ]
     },
     "execution_count": 14,
     "metadata": {},
     "output_type": "execute_result"
    }
   ],
   "source": [
    "nn(90)"
   ]
  },
  {
   "cell_type": "markdown",
   "id": "f87608a9",
   "metadata": {},
   "source": [
    "### Map()\n",
    "\n",
    "* map() function takes function and iterable as a parameters and applies functionality to each item in the iterable\n",
    "* syntax:\n",
    "* map(function,iterable)"
   ]
  },
  {
   "cell_type": "code",
   "execution_count": 17,
   "id": "99fc33e8",
   "metadata": {},
   "outputs": [
    {
     "name": "stdout",
     "output_type": "stream",
     "text": [
      "1 4 9 16 25 36 49 64 81 100 "
     ]
    }
   ],
   "source": [
    "for i in range(1,11):\n",
    "    print(i*i,end=\" \")"
   ]
  },
  {
   "cell_type": "code",
   "execution_count": 22,
   "id": "a28905fa",
   "metadata": {},
   "outputs": [
    {
     "name": "stdout",
     "output_type": "stream",
     "text": [
      "<map object at 0x000001A18B0EA0A0>\n",
      "[100, 400, 900, 1600, 2500]\n"
     ]
    }
   ],
   "source": [
    "def sq(x):\n",
    "    return x*x\n",
    "\n",
    "f=map(sq,[10,20,30,40,50])\n",
    "print(f)\n",
    "print(list(f))"
   ]
  },
  {
   "cell_type": "code",
   "execution_count": 26,
   "id": "9ebc28e4",
   "metadata": {},
   "outputs": [
    {
     "data": {
      "text/plain": [
       "[8, 64, 216, 512, 1000]"
      ]
     },
     "execution_count": 26,
     "metadata": {},
     "output_type": "execute_result"
    }
   ],
   "source": [
    "# cubes \n",
    "\n",
    "def cube(x):\n",
    "    return x*x*x\n",
    "\n",
    "list(map(cube,[2,4,6,8,10]))\n"
   ]
  },
  {
   "cell_type": "code",
   "execution_count": 25,
   "id": "b5b1fd83",
   "metadata": {},
   "outputs": [
    {
     "data": {
      "text/plain": [
       "[1, 8, 27, 64, 125, 216, 343, 512, 729, 1000]"
      ]
     },
     "execution_count": 25,
     "metadata": {},
     "output_type": "execute_result"
    }
   ],
   "source": [
    "list(map(cube,range(1,11)))"
   ]
  },
  {
   "cell_type": "code",
   "execution_count": 27,
   "id": "4556684c",
   "metadata": {},
   "outputs": [
    {
     "data": {
      "text/plain": [
       "[1, 8, 27, 64, 125]"
      ]
     },
     "execution_count": 27,
     "metadata": {},
     "output_type": "execute_result"
    }
   ],
   "source": [
    "list(map(lambda x:x*x*x,[1,2,3,4,5]))"
   ]
  },
  {
   "cell_type": "markdown",
   "id": "e3341b52",
   "metadata": {},
   "source": [
    "### filter()\n",
    "\n",
    "* filter takes a function and a sequence and returns an iterable\n",
    "* filters the given iterable with the help of a function that tests each element in the iterable true or false\n",
    "* syntax: filter(function,iterable)\n"
   ]
  },
  {
   "cell_type": "code",
   "execution_count": 28,
   "id": "bf23c27c",
   "metadata": {},
   "outputs": [
    {
     "data": {
      "text/plain": [
       "True"
      ]
     },
     "execution_count": 28,
     "metadata": {},
     "output_type": "execute_result"
    }
   ],
   "source": [
    "def is_even(x):\n",
    "    if x%2==0:\n",
    "        return True\n",
    "    else:\n",
    "        return False\n",
    "    \n",
    "is_even(90)"
   ]
  },
  {
   "cell_type": "code",
   "execution_count": 29,
   "id": "5eaf68d5",
   "metadata": {},
   "outputs": [
    {
     "data": {
      "text/plain": [
       "False"
      ]
     },
     "execution_count": 29,
     "metadata": {},
     "output_type": "execute_result"
    }
   ],
   "source": [
    "is_even(99)"
   ]
  },
  {
   "cell_type": "code",
   "execution_count": 31,
   "id": "9d6f02d9",
   "metadata": {
    "collapsed": true
   },
   "outputs": [
    {
     "data": {
      "text/plain": [
       "[2,\n",
       " 4,\n",
       " 6,\n",
       " 8,\n",
       " 10,\n",
       " 12,\n",
       " 14,\n",
       " 16,\n",
       " 18,\n",
       " 20,\n",
       " 22,\n",
       " 24,\n",
       " 26,\n",
       " 28,\n",
       " 30,\n",
       " 32,\n",
       " 34,\n",
       " 36,\n",
       " 38,\n",
       " 40,\n",
       " 42,\n",
       " 44,\n",
       " 46,\n",
       " 48,\n",
       " 50]"
      ]
     },
     "execution_count": 31,
     "metadata": {},
     "output_type": "execute_result"
    }
   ],
   "source": [
    "f=filter(is_even,range(1,51))\n",
    "list(f)"
   ]
  },
  {
   "cell_type": "code",
   "execution_count": 33,
   "id": "4346e482",
   "metadata": {},
   "outputs": [
    {
     "data": {
      "text/plain": [
       "[6, 8, 56, 90]"
      ]
     },
     "execution_count": 33,
     "metadata": {},
     "output_type": "execute_result"
    }
   ],
   "source": [
    "list(filter(is_even,[1,6,9,8,56,90]))"
   ]
  },
  {
   "cell_type": "code",
   "execution_count": 34,
   "id": "be4ef15e",
   "metadata": {},
   "outputs": [
    {
     "data": {
      "text/plain": [
       "['u', 'a', 'i', 'e', 'o']"
      ]
     },
     "execution_count": 34,
     "metadata": {},
     "output_type": "execute_result"
    }
   ],
   "source": [
    "lis=['b','u','y','a','i','z','e','r','o']\n",
    "\n",
    "def is_vowel(l):\n",
    "    v=['a','e','i','o','u']\n",
    "    if l in v:\n",
    "        return True\n",
    "    else:\n",
    "        return False\n",
    "    \n",
    "# filter(func,lis)\n",
    "\n",
    "list(filter(is_vowel,['b','u','y','a','i','z','e','r','o']))"
   ]
  },
  {
   "cell_type": "markdown",
   "id": "67f65f1b",
   "metadata": {},
   "source": [
    "### reduce()\n",
    "\n",
    "* reduce(func,seq) is used to apply a particular function passed in its arguments to all of the list elements in the sequence\n",
    "\n",
    "* functools module"
   ]
  },
  {
   "cell_type": "code",
   "execution_count": 35,
   "id": "af079a43",
   "metadata": {},
   "outputs": [],
   "source": [
    "import functools"
   ]
  },
  {
   "cell_type": "code",
   "execution_count": 37,
   "id": "c1fb3802",
   "metadata": {},
   "outputs": [
    {
     "data": {
      "text/plain": [
       "15"
      ]
     },
     "execution_count": 37,
     "metadata": {},
     "output_type": "execute_result"
    }
   ],
   "source": [
    "l=[1,2,3,4,5]\n",
    "functools.reduce(lambda a,b:a+b   ,  l)   # 1+2+3+4+5"
   ]
  },
  {
   "cell_type": "code",
   "execution_count": 38,
   "id": "6eabfb72",
   "metadata": {},
   "outputs": [
    {
     "data": {
      "text/plain": [
       "3628800"
      ]
     },
     "execution_count": 38,
     "metadata": {},
     "output_type": "execute_result"
    }
   ],
   "source": [
    "# multiplication of numbers in the range of 1 to 10\n",
    "\n",
    "functools.reduce(lambda a,b:a*b, range(1,11))"
   ]
  },
  {
   "cell_type": "code",
   "execution_count": null,
   "id": "2310ed46",
   "metadata": {},
   "outputs": [],
   "source": []
  }
 ],
 "metadata": {
  "kernelspec": {
   "display_name": "Python 3 (ipykernel)",
   "language": "python",
   "name": "python3"
  },
  "language_info": {
   "codemirror_mode": {
    "name": "ipython",
    "version": 3
   },
   "file_extension": ".py",
   "mimetype": "text/x-python",
   "name": "python",
   "nbconvert_exporter": "python",
   "pygments_lexer": "ipython3",
   "version": "3.9.13"
  }
 },
 "nbformat": 4,
 "nbformat_minor": 5
}
