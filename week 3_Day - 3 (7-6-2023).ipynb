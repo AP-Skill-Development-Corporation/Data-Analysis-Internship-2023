{
 "cells": [
  {
   "cell_type": "markdown",
   "id": "0f94b8b2",
   "metadata": {},
   "source": [
    "### Inheritance\n",
    "\n",
    "* inheritance enables us to define  a class that takes all the functionality from a <br>\n",
    "parent class and allows us to add more\n",
    "* it refers to defining a new class with little or no modification to a existing class\n",
    "\n",
    "* new class is called derived ( child) class\n",
    "* one from which it inherits is called base (parent) class\n"
   ]
  },
  {
   "cell_type": "markdown",
   "id": "8db0d1e8",
   "metadata": {},
   "source": [
    "### benefits\n",
    "\n",
    "* code reusability\n",
    "* it allows us to add more features to a class without modifying it"
   ]
  },
  {
   "cell_type": "markdown",
   "id": "465c3a58",
   "metadata": {},
   "source": [
    "### Single inheritance\n",
    "\n",
    "* When a child class inherits properties from only one parent class,it is called as single inheritance"
   ]
  },
  {
   "cell_type": "code",
   "execution_count": null,
   "id": "a02b934f",
   "metadata": {},
   "outputs": [],
   "source": [
    "class Baseclass:\n",
    "    body of baseclass\n",
    "    \n",
    "class Derived(Baseclass):\n",
    "    body of derivedclass"
   ]
  },
  {
   "cell_type": "code",
   "execution_count": 4,
   "id": "73bf1334",
   "metadata": {},
   "outputs": [
    {
     "name": "stdout",
     "output_type": "stream",
     "text": [
      "This is chid class\n"
     ]
    }
   ],
   "source": [
    "class A:\n",
    "    def sample(self):\n",
    "        print(\"This is base class\")\n",
    "    \n",
    "class B(A):\n",
    "    def sample2(self):\n",
    "        print(\"This is chid class\")\n",
    "\n",
    "obj=B()   # object for child \n",
    "obj.sample2()"
   ]
  },
  {
   "cell_type": "code",
   "execution_count": 5,
   "id": "ef998da3",
   "metadata": {},
   "outputs": [
    {
     "name": "stdout",
     "output_type": "stream",
     "text": [
      "This is base class\n"
     ]
    }
   ],
   "source": [
    "obj.sample()"
   ]
  },
  {
   "cell_type": "code",
   "execution_count": null,
   "id": "4915536d",
   "metadata": {},
   "outputs": [],
   "source": []
  }
 ],
 "metadata": {
  "kernelspec": {
   "display_name": "Python 3 (ipykernel)",
   "language": "python",
   "name": "python3"
  },
  "language_info": {
   "codemirror_mode": {
    "name": "ipython",
    "version": 3
   },
   "file_extension": ".py",
   "mimetype": "text/x-python",
   "name": "python",
   "nbconvert_exporter": "python",
   "pygments_lexer": "ipython3",
   "version": "3.9.13"
  }
 },
 "nbformat": 4,
 "nbformat_minor": 5
}
