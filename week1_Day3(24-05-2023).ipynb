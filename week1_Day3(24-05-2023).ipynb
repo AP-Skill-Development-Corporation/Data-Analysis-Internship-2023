{
 "cells": [
  {
   "cell_type": "markdown",
   "id": "bfaec811",
   "metadata": {},
   "source": [
    "- Python introduction:\n",
    "            - Python is a very popular programming lanfuage.\n",
    "            - It is developed by 'Guido Van Rossum ' in the year of 1991.\n",
    "            - Easy to learn.\n",
    "            - simple syntax.\n",
    "            - It is open source.\n",
    "            - It can support the object oriented programming.\n",
    "            - It can accept the standard libraries."
   ]
  },
  {
   "cell_type": "markdown",
   "id": "7d74bca0",
   "metadata": {},
   "source": [
    "### Python Basics:"
   ]
  },
  {
   "cell_type": "code",
   "execution_count": 1,
   "id": "10e74364",
   "metadata": {},
   "outputs": [
    {
     "name": "stdout",
     "output_type": "stream",
     "text": [
      "welcome to python programming\n"
     ]
    }
   ],
   "source": [
    "print(\"welcome to python programming\")"
   ]
  },
  {
   "cell_type": "code",
   "execution_count": 2,
   "id": "d928af12",
   "metadata": {},
   "outputs": [
    {
     "name": "stdout",
     "output_type": "stream",
     "text": [
      "pythonprogramming\n"
     ]
    }
   ],
   "source": [
    "# TO join the two strings we can use '+' operators\n",
    "print(\"python\"+\"programming\")"
   ]
  },
  {
   "cell_type": "code",
   "execution_count": 4,
   "id": "184d71b4",
   "metadata": {},
   "outputs": [
    {
     "name": "stdout",
     "output_type": "stream",
     "text": [
      "apssdc234\n"
     ]
    }
   ],
   "source": [
    "print(\"apssdc\"+'234')"
   ]
  },
  {
   "cell_type": "code",
   "execution_count": 5,
   "id": "735257c8",
   "metadata": {},
   "outputs": [
    {
     "name": "stdout",
     "output_type": "stream",
     "text": [
      "apssdc 456\n"
     ]
    }
   ],
   "source": [
    "print('apssdc',456)\n",
    "# To join the interger and string we can use ','"
   ]
  },
  {
   "cell_type": "code",
   "execution_count": 7,
   "id": "34c13b1c",
   "metadata": {},
   "outputs": [
    {
     "name": "stdout",
     "output_type": "stream",
     "text": [
      "10\n",
      "a\n"
     ]
    }
   ],
   "source": [
    "a = 10\n",
    "print(a)\n",
    "print('a')"
   ]
  },
  {
   "cell_type": "markdown",
   "id": "81686df7",
   "metadata": {},
   "source": [
    "### comments:\n",
    "            - It is mainly used for the user readability of text..\n",
    "            - compiler will not execute the comment section lines.\n",
    "            - In python two types of comments...\n",
    "            - 1. single line comments -> using '#'\n",
    "            - 2. Multi line comments -> using sinlge triple quotes or double tripple quotes.\n",
    "              - # addition of two numbers.\n",
    "              - ''' statement1\n",
    "                    statement2 '''"
   ]
  },
  {
   "cell_type": "markdown",
   "id": "976b294a",
   "metadata": {},
   "source": [
    "#### Data types:\n",
    "                - Data type defines the type of the value...\n",
    "                - In python 3 basic data types...\n",
    "                - 1. int : To store the integer data type.\n",
    "                - 2. str : To store the string data type.\n",
    "                - 3. float : To store the floating data type.\n",
    "- using type() method to know the data type of a value or variable.\n",
    "- syntax: print(type(value/variable))"
   ]
  },
  {
   "cell_type": "code",
   "execution_count": 8,
   "id": "9c69a1c3",
   "metadata": {},
   "outputs": [
    {
     "name": "stdout",
     "output_type": "stream",
     "text": [
      "<class 'int'>\n"
     ]
    }
   ],
   "source": [
    "a = 100\n",
    "print(type(a))"
   ]
  },
  {
   "cell_type": "code",
   "execution_count": 9,
   "id": "473ac36c",
   "metadata": {},
   "outputs": [
    {
     "name": "stdout",
     "output_type": "stream",
     "text": [
      "<class 'str'>\n"
     ]
    }
   ],
   "source": [
    "s = \"python\"\n",
    "print(type(s))"
   ]
  },
  {
   "cell_type": "code",
   "execution_count": 10,
   "id": "561f3d80",
   "metadata": {},
   "outputs": [
    {
     "name": "stdout",
     "output_type": "stream",
     "text": [
      "<class 'float'>\n"
     ]
    }
   ],
   "source": [
    "n = 23.456\n",
    "print(type(n))"
   ]
  },
  {
   "cell_type": "markdown",
   "id": "ae949e59",
   "metadata": {},
   "source": [
    "### Type conversions:\n",
    "                - To convert the data into one data type another data type.\n",
    "                * int->float conversion\n",
    "                * float->int conversion\n",
    "                * str->int   conversion"
   ]
  },
  {
   "cell_type": "code",
   "execution_count": 14,
   "id": "84806543",
   "metadata": {},
   "outputs": [
    {
     "name": "stdout",
     "output_type": "stream",
     "text": [
      "456\n",
      "<class 'int'>\n",
      "<class 'float'>\n",
      "456.0\n"
     ]
    }
   ],
   "source": [
    "# To convert the data into integer to float?\n",
    "m = 456 \n",
    "print(m)\n",
    "print(type(m))\n",
    "m = float(m)\n",
    "print(type(m))\n",
    "print(m)"
   ]
  },
  {
   "cell_type": "code",
   "execution_count": 16,
   "id": "a7ecc30f",
   "metadata": {},
   "outputs": [
    {
     "name": "stdout",
     "output_type": "stream",
     "text": [
      "23.89\n",
      "<class 'float'>\n",
      "23\n",
      "<class 'int'>\n"
     ]
    }
   ],
   "source": [
    "# To convert the float data into integer?\n",
    "f = 23.89\n",
    "print(f)\n",
    "print(type(f))\n",
    "f = int(f)\n",
    "print(f)\n",
    "print(type(f))"
   ]
  },
  {
   "cell_type": "code",
   "execution_count": 18,
   "id": "ad17de76",
   "metadata": {},
   "outputs": [
    {
     "name": "stdout",
     "output_type": "stream",
     "text": [
      "234\n",
      "<class 'str'>\n",
      "<class 'int'>\n",
      "234\n"
     ]
    }
   ],
   "source": [
    "# To convert the string data into integer?\n",
    "s =\"234\"\n",
    "print(s)\n",
    "print(type(s))\n",
    "s = int(s)\n",
    "print(type(s))\n",
    "print(s)"
   ]
  },
  {
   "cell_type": "code",
   "execution_count": 24,
   "id": "43cfcfdd",
   "metadata": {},
   "outputs": [
    {
     "name": "stdout",
     "output_type": "stream",
     "text": [
      "45.67\n"
     ]
    }
   ],
   "source": [
    "n = 45.6723418\n",
    "# output: 45.67\n",
    "# round(variable_name,number of digits)\n",
    "print(round(n,2))"
   ]
  },
  {
   "cell_type": "markdown",
   "id": "cf79077d",
   "metadata": {},
   "source": [
    "### input method:\n",
    "                   - To take the data from the user.\n",
    "\n",
    "- syntax:\n",
    "         varibale_name = data_type(input(prompt message))\n",
    "    example:\n",
    "          a = int(input(\"enter a value\"))\n",
    "          f = float(input(\"Enter f value\")\n",
    "          s = str(input(\"Enter s value\"))\n"
   ]
  },
  {
   "cell_type": "code",
   "execution_count": 25,
   "id": "066593a5",
   "metadata": {},
   "outputs": [
    {
     "name": "stdout",
     "output_type": "stream",
     "text": [
      "Enter a value: 23\n",
      "23\n",
      "<class 'int'>\n"
     ]
    }
   ],
   "source": [
    "# To read the integer data...\n",
    "a = int(input(\"Enter a value: \"))\n",
    "print(a)\n",
    "print(type(a))"
   ]
  },
  {
   "cell_type": "code",
   "execution_count": 27,
   "id": "15bf37e9",
   "metadata": {},
   "outputs": [
    {
     "name": "stdout",
     "output_type": "stream",
     "text": [
      "enter f value: 34.56\n",
      "34.56\n",
      "<class 'float'>\n"
     ]
    }
   ],
   "source": [
    "# TO read the float data..\n",
    "f = float(input(\"enter f value: \"))\n",
    "print(f)\n",
    "print(type(f))"
   ]
  },
  {
   "cell_type": "code",
   "execution_count": 29,
   "id": "0047128c",
   "metadata": {},
   "outputs": [
    {
     "name": "stdout",
     "output_type": "stream",
     "text": [
      "Enter s value: 45.6\n",
      "45.6\n",
      "<class 'str'>\n"
     ]
    }
   ],
   "source": [
    "# To read the string data...\n",
    "s = input(\"Enter s value: \")\n",
    "print(s)\n",
    "print(type(s))"
   ]
  },
  {
   "cell_type": "markdown",
   "id": "e5c660a0",
   "metadata": {},
   "source": [
    "### variable:\n",
    "              - To store the data..\n",
    "- Rules:\n",
    "- 1. starts with alphabets,alphabets followed by digits,underscore.\n",
    "- 2. To join the two words we can use underscore.\n",
    "- 3. should not starts with digits,keywords,functions,special chatracters."
   ]
  },
  {
   "cell_type": "code",
   "execution_count": 30,
   "id": "528c6ab3",
   "metadata": {},
   "outputs": [
    {
     "name": "stdout",
     "output_type": "stream",
     "text": [
      "10 10 10 10\n"
     ]
    }
   ],
   "source": [
    "# To store the single value to different variable names?\n",
    "a=b=c=d=10\n",
    "print(a,b,c,d)"
   ]
  },
  {
   "cell_type": "code",
   "execution_count": 31,
   "id": "ebe4a188",
   "metadata": {},
   "outputs": [
    {
     "name": "stdout",
     "output_type": "stream",
     "text": [
      "12 34.5 python\n"
     ]
    }
   ],
   "source": [
    "# To store the different data to different variable names?\n",
    "a,b,c=12,34.5,'python'\n",
    "print(a,b,c)"
   ]
  },
  {
   "cell_type": "code",
   "execution_count": 32,
   "id": "d504abbd",
   "metadata": {},
   "outputs": [
    {
     "name": "stdout",
     "output_type": "stream",
     "text": [
      "Enter a value: 157\n",
      "Enter b value: 678\n",
      "Addition is: 835\n"
     ]
    }
   ],
   "source": [
    "# TO read two numbers to perform the addition?\n",
    "a = int(input(\"Enter a value: \"))\n",
    "b = int(input(\"Enter b value: \"))\n",
    "print('Addition is:',a+b)"
   ]
  },
  {
   "cell_type": "code",
   "execution_count": 33,
   "id": "6ba8fea6",
   "metadata": {},
   "outputs": [
    {
     "name": "stdout",
     "output_type": "stream",
     "text": [
      "Enter p value: 10000\n",
      "enter t value: 2\n",
      "Enter r value: 3\n",
      "simple interest is:  600.0\n"
     ]
    }
   ],
   "source": [
    "# To find the simple interest?\n",
    "p = int(input(\"Enter p value: \"))\n",
    "t = int(input(\"enter t value: \"))\n",
    "r = int(input(\"Enter r value: \"))\n",
    "print('simple interest is: ',p*t*r/100)"
   ]
  },
  {
   "cell_type": "markdown",
   "id": "d55374d0",
   "metadata": {},
   "source": [
    "### Basic programs:\n",
    "\n",
    "- To print the swapping of two numbers?\n",
    "input: a=10 b=20\n",
    "output: before swapping a=10 and b=20\n",
    "        After swapping a=20 and b=10\n",
    "- To convert the data into dollars to rupees?\n",
    "- To convert the data into rupes to dollars?\n",
    "- To read the one number and then print the last digit of number?\n",
    "input: n=563425448\n",
    "output: last digit is: 8"
   ]
  },
  {
   "cell_type": "markdown",
   "id": "e1320385",
   "metadata": {},
   "source": [
    "### operators:\n",
    "                - To operates the two operands.\n",
    "- In python 7 types of operators:\n",
    "- 1. Arithmetic operators.(+,-,*,/,%,//(floor division),**(power)**\n",
    "- 2. comparision operators.(<,<=,>,>=,!=,==)\n",
    "- 3. Assignment operators.(+=,-=,*=,/=,//=,%=,**=)\n",
    "- 4. Logical opeartors.(and ,or,not)\n",
    "- 5. Bitwise operators.(&,|,^(x-or),left shift,right shift,negation)\n",
    "- 6. memebership operators.(in,not in)\n",
    "- 7. idenitity operators.(is,is not)"
   ]
  },
  {
   "cell_type": "code",
   "execution_count": 37,
   "id": "70cc936f",
   "metadata": {},
   "outputs": [
    {
     "name": "stdout",
     "output_type": "stream",
     "text": [
      "14\n",
      "40\n",
      "2.5\n",
      "2\n",
      "10000\n"
     ]
    }
   ],
   "source": [
    "# Arithmetic operators.\n",
    "# def: To calculate the simple mathematical calculations.\n",
    "a= 10\n",
    "b= 4\n",
    "print(a+b)\n",
    "print(a*b)\n",
    "print(a/b)\n",
    "print(a//b)\n",
    "print(a**b)"
   ]
  },
  {
   "cell_type": "code",
   "execution_count": null,
   "id": "494a8856",
   "metadata": {},
   "outputs": [],
   "source": []
  }
 ],
 "metadata": {
  "kernelspec": {
   "display_name": "Python 3",
   "language": "python",
   "name": "python3"
  },
  "language_info": {
   "codemirror_mode": {
    "name": "ipython",
    "version": 3
   },
   "file_extension": ".py",
   "mimetype": "text/x-python",
   "name": "python",
   "nbconvert_exporter": "python",
   "pygments_lexer": "ipython3",
   "version": "3.8.8"
  }
 },
 "nbformat": 4,
 "nbformat_minor": 5
}
