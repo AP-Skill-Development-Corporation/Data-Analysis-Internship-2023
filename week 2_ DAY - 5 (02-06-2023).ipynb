{
 "cells": [
  {
   "cell_type": "markdown",
   "id": "9bc575d6",
   "metadata": {},
   "source": [
    "### comprehension\n",
    "\n",
    "* We can create a new sequence using a given python sequence\n",
    "* we can reduce the lines of code"
   ]
  },
  {
   "cell_type": "markdown",
   "id": "7c9cf0a3",
   "metadata": {},
   "source": [
    "### Types\n",
    "* List Comprehension\n",
    "* Dictionary comprehension\n",
    "* Set comprehension"
   ]
  },
  {
   "cell_type": "code",
   "execution_count": 2,
   "id": "e16e9b54",
   "metadata": {},
   "outputs": [],
   "source": [
    "### List comprehension\n",
    "\n",
    "# syntax: [output-variable loop conditions]"
   ]
  },
  {
   "cell_type": "code",
   "execution_count": 3,
   "id": "a7246ba6",
   "metadata": {},
   "outputs": [
    {
     "name": "stdout",
     "output_type": "stream",
     "text": [
      "1 2 3 4 5 6 7 8 9 10 "
     ]
    }
   ],
   "source": [
    "# to print 1 to 10 natural numbers\n",
    "\n",
    "for i in range(1,11):\n",
    "    print(i,end=\" \")"
   ]
  },
  {
   "cell_type": "code",
   "execution_count": 4,
   "id": "99022636",
   "metadata": {},
   "outputs": [
    {
     "data": {
      "text/plain": [
       "[1, 2, 3, 4, 5, 6, 7, 8, 9, 10]"
      ]
     },
     "execution_count": 4,
     "metadata": {},
     "output_type": "execute_result"
    }
   ],
   "source": [
    "[i for i in range(1,11)]"
   ]
  },
  {
   "cell_type": "code",
   "execution_count": 5,
   "id": "a3629650",
   "metadata": {},
   "outputs": [
    {
     "name": "stdout",
     "output_type": "stream",
     "text": [
      "h e l l o "
     ]
    }
   ],
   "source": [
    "#\"hello\"\n",
    "\n",
    "for ch in \"hello\":\n",
    "    print(ch,end=\" \")"
   ]
  },
  {
   "cell_type": "code",
   "execution_count": 6,
   "id": "956550c7",
   "metadata": {},
   "outputs": [
    {
     "data": {
      "text/plain": [
       "['h', 'e', 'l', 'l', 'o']"
      ]
     },
     "execution_count": 6,
     "metadata": {},
     "output_type": "execute_result"
    }
   ],
   "source": [
    "[ch for ch in \"hello\"]"
   ]
  },
  {
   "cell_type": "code",
   "execution_count": 7,
   "id": "ef82f61a",
   "metadata": {},
   "outputs": [
    {
     "name": "stdout",
     "output_type": "stream",
     "text": [
      "[2, 4, 6, 8, 10, 12, 14, 16, 18, 20, 22, 24, 26, 28, 30, 32, 34, 36, 38, 40, 42, 44, 46, 48, 50]\n"
     ]
    }
   ],
   "source": [
    "# write a program to print even numbers in the range of 1 to 50\n",
    "even=[]\n",
    "for i in range(1,51):\n",
    "    if i%2==0:\n",
    "        even.append(i)\n",
    "print(even)        "
   ]
  },
  {
   "cell_type": "code",
   "execution_count": 8,
   "id": "4f7b1cc2",
   "metadata": {},
   "outputs": [
    {
     "name": "stdout",
     "output_type": "stream",
     "text": [
      "[2, 4, 6, 8, 10, 12, 14, 16, 18, 20, 22, 24, 26, 28, 30, 32, 34, 36, 38, 40, 42, 44, 46, 48, 50]\n"
     ]
    }
   ],
   "source": [
    "even=[i for i in range(1,51) if i%2==0]\n",
    "print(even)"
   ]
  },
  {
   "cell_type": "code",
   "execution_count": 9,
   "id": "95f36d95",
   "metadata": {
    "collapsed": true
   },
   "outputs": [
    {
     "name": "stdout",
     "output_type": "stream",
     "text": [
      "2 4 6 8 10 12 14 16 18 20 22 24 26 28 30 32 34 36 38 40 42 44 46 48 50 "
     ]
    },
    {
     "data": {
      "text/plain": [
       "[None,\n",
       " None,\n",
       " None,\n",
       " None,\n",
       " None,\n",
       " None,\n",
       " None,\n",
       " None,\n",
       " None,\n",
       " None,\n",
       " None,\n",
       " None,\n",
       " None,\n",
       " None,\n",
       " None,\n",
       " None,\n",
       " None,\n",
       " None,\n",
       " None,\n",
       " None,\n",
       " None,\n",
       " None,\n",
       " None,\n",
       " None,\n",
       " None]"
      ]
     },
     "execution_count": 9,
     "metadata": {},
     "output_type": "execute_result"
    }
   ],
   "source": [
    "[print(i,end=\" \") for i in range(1,51) if i%2==0]"
   ]
  },
  {
   "cell_type": "markdown",
   "id": "0862c7ea",
   "metadata": {},
   "source": [
    "### Dictionary comprehension\n",
    "\n",
    "* If we write our code inside a dictionary and output is printed in dictionary format, then it is dictionary comprehension"
   ]
  },
  {
   "cell_type": "code",
   "execution_count": 11,
   "id": "2c5fd4e5",
   "metadata": {},
   "outputs": [
    {
     "data": {
      "text/plain": [
       "{1: 1, 2: 4, 3: 9, 4: 16, 5: 25}"
      ]
     },
     "execution_count": 11,
     "metadata": {},
     "output_type": "execute_result"
    }
   ],
   "source": [
    "# {1:1,2:4,3:9,4:16,5:25}\n",
    "\n",
    "d=dict()\n",
    "for i in range(1,6):\n",
    "    d[i]=i*i\n",
    "d     "
   ]
  },
  {
   "cell_type": "code",
   "execution_count": 12,
   "id": "a1c5963f",
   "metadata": {},
   "outputs": [
    {
     "data": {
      "text/plain": [
       "{1: 1, 2: 4, 3: 9, 4: 16, 5: 25}"
      ]
     },
     "execution_count": 12,
     "metadata": {},
     "output_type": "execute_result"
    }
   ],
   "source": [
    "d1={i:i*i for i in range(1,6)}\n",
    "d1"
   ]
  },
  {
   "cell_type": "markdown",
   "id": "f239ee26",
   "metadata": {},
   "source": [
    "### set comprehension"
   ]
  },
  {
   "cell_type": "code",
   "execution_count": 13,
   "id": "c70f5736",
   "metadata": {},
   "outputs": [
    {
     "data": {
      "text/plain": [
       "{1, 2, 3, 4, 5, 6}"
      ]
     },
     "execution_count": 13,
     "metadata": {},
     "output_type": "execute_result"
    }
   ],
   "source": [
    "\n",
    "\n",
    "l=[1,2,3,4,4,5,3,6,5,3]\n",
    "set(l)"
   ]
  },
  {
   "cell_type": "code",
   "execution_count": 14,
   "id": "0c834b94",
   "metadata": {},
   "outputs": [
    {
     "data": {
      "text/plain": [
       "{1, 3, 5}"
      ]
     },
     "execution_count": 14,
     "metadata": {},
     "output_type": "execute_result"
    }
   ],
   "source": [
    "l=[1,2,3,4,4,5,3,6,5,3]\n",
    "\n",
    "s=set()\n",
    "for i in l:\n",
    "    if i%2!=0:\n",
    "        s.add(i)\n",
    "        \n",
    "s"
   ]
  },
  {
   "cell_type": "code",
   "execution_count": 15,
   "id": "4f996a7a",
   "metadata": {},
   "outputs": [
    {
     "data": {
      "text/plain": [
       "{1, 3, 5}"
      ]
     },
     "execution_count": 15,
     "metadata": {},
     "output_type": "execute_result"
    }
   ],
   "source": [
    "l=[1,2,3,4,4,5,3,6,5,3]\n",
    "\n",
    "s={i for i in l if i%2!=0}\n",
    "s"
   ]
  },
  {
   "cell_type": "markdown",
   "id": "247f1d38",
   "metadata": {},
   "source": [
    "### Iterators\n",
    "\n",
    "* Iterator in python is simply an object that can be iterated upon\n",
    "* same as for loop,but difference is we can access elements as per our requirements\n",
    "* iterator have 2 methods , iter(), next()\n",
    "\n",
    "* iter() -> used to create iterator object\n",
    "* next() -> returns one element at a time, iterate through all the items of iterator. will return \n",
    "StopIterationException when we reach end of the data"
   ]
  },
  {
   "cell_type": "code",
   "execution_count": 16,
   "id": "3fa33821",
   "metadata": {
    "collapsed": true
   },
   "outputs": [
    {
     "name": "stdout",
     "output_type": "stream",
     "text": [
      "11\n",
      "12\n",
      "13\n",
      "14\n",
      "15\n",
      "16\n",
      "17\n",
      "18\n",
      "19\n",
      "20\n"
     ]
    }
   ],
   "source": [
    "for i in range(11,21):\n",
    "    print(i)"
   ]
  },
  {
   "cell_type": "code",
   "execution_count": 19,
   "id": "efd302e8",
   "metadata": {},
   "outputs": [
    {
     "name": "stdout",
     "output_type": "stream",
     "text": [
      "[11, 12, 13, 14, 15, 16, 17, 18, 19, 20] "
     ]
    },
    {
     "data": {
      "text/plain": [
       "<list_iterator at 0x1d788f1c8e0>"
      ]
     },
     "execution_count": 19,
     "metadata": {},
     "output_type": "execute_result"
    }
   ],
   "source": [
    "l=[i for i in range(11,21)]\n",
    "print(l,end=\" \")\n",
    "l_iter=iter(l)   # creating iterator object\n",
    "l_iter"
   ]
  },
  {
   "cell_type": "code",
   "execution_count": 20,
   "id": "03bd6ecd",
   "metadata": {},
   "outputs": [
    {
     "data": {
      "text/plain": [
       "11"
      ]
     },
     "execution_count": 20,
     "metadata": {},
     "output_type": "execute_result"
    }
   ],
   "source": [
    "next(l_iter)"
   ]
  },
  {
   "cell_type": "code",
   "execution_count": 21,
   "id": "6afe9e1e",
   "metadata": {},
   "outputs": [
    {
     "data": {
      "text/plain": [
       "12"
      ]
     },
     "execution_count": 21,
     "metadata": {},
     "output_type": "execute_result"
    }
   ],
   "source": [
    "next(l_iter)"
   ]
  },
  {
   "cell_type": "markdown",
   "id": "529a8516",
   "metadata": {},
   "source": [
    "### Generators\n",
    "\n",
    "* returns an object , which we can iterate over\n",
    "* in place of return will use yield\n",
    "* any function which contains atleast 1 yield is considered as generator\n",
    "* Uses : Easy to implement and memory efficient\n",
    "* Generatos are always used in combination with an iterator\n"
   ]
  },
  {
   "cell_type": "code",
   "execution_count": 22,
   "id": "461e2003",
   "metadata": {},
   "outputs": [
    {
     "name": "stdout",
     "output_type": "stream",
     "text": [
      "1\n",
      "2\n"
     ]
    }
   ],
   "source": [
    "def sample():\n",
    "    n=1\n",
    "    yield n\n",
    "    n+=1\n",
    "    yield n\n",
    "    \n",
    "for i in sample():\n",
    "    print(i)    "
   ]
  },
  {
   "cell_type": "code",
   "execution_count": 27,
   "id": "da9d7f08",
   "metadata": {},
   "outputs": [
    {
     "name": "stdout",
     "output_type": "stream",
     "text": [
      "enter a number: 8\n"
     ]
    },
    {
     "data": {
      "text/plain": [
       "64"
      ]
     },
     "execution_count": 27,
     "metadata": {},
     "output_type": "execute_result"
    }
   ],
   "source": [
    "# square of  a given number\n",
    "\n",
    "n=int(input(\"enter a number: \"))\n",
    "def gen(n):\n",
    "    while True:\n",
    "        n**=2\n",
    "        yield n\n",
    "        \n",
    "g=gen(n)\n",
    "next(g)"
   ]
  },
  {
   "cell_type": "code",
   "execution_count": 28,
   "id": "e06455da",
   "metadata": {},
   "outputs": [
    {
     "name": "stdout",
     "output_type": "stream",
     "text": [
      "<generator object <genexpr> at 0x000001D788F75350>\n"
     ]
    }
   ],
   "source": [
    "# generator comprehension\n",
    "\n",
    "l=[1,2,3,4,5]\n",
    "g=(i**3 for i in l)\n",
    "print(g)"
   ]
  },
  {
   "cell_type": "code",
   "execution_count": 29,
   "id": "7b47fbfc",
   "metadata": {},
   "outputs": [
    {
     "name": "stdout",
     "output_type": "stream",
     "text": [
      "1\n",
      "8\n",
      "27\n",
      "64\n",
      "125\n"
     ]
    }
   ],
   "source": [
    "for i in g:\n",
    "    print(i)"
   ]
  },
  {
   "cell_type": "code",
   "execution_count": null,
   "id": "fefec65b",
   "metadata": {},
   "outputs": [],
   "source": []
  }
 ],
 "metadata": {
  "kernelspec": {
   "display_name": "Python 3 (ipykernel)",
   "language": "python",
   "name": "python3"
  },
  "language_info": {
   "codemirror_mode": {
    "name": "ipython",
    "version": 3
   },
   "file_extension": ".py",
   "mimetype": "text/x-python",
   "name": "python",
   "nbconvert_exporter": "python",
   "pygments_lexer": "ipython3",
   "version": "3.9.13"
  }
 },
 "nbformat": 4,
 "nbformat_minor": 5
}
