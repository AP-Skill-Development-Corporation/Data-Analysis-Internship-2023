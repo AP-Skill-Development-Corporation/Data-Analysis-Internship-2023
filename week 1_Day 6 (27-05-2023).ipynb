{
 "cells": [
  {
   "cell_type": "markdown",
   "id": "64dc4417",
   "metadata": {},
   "source": [
    "### Loop Control statements"
   ]
  },
  {
   "cell_type": "markdown",
   "id": "64707c54",
   "metadata": {},
   "source": [
    "### Jump statements\n",
    "\n",
    "* 1. Break\n",
    "* 2. continue\n",
    "\n",
    "### Break : \n",
    "* The break statement is used to terminate the loop or statement in which it is present.\n",
    "* the control flow goes to the next statement that is present after the break statement"
   ]
  },
  {
   "cell_type": "code",
   "execution_count": 3,
   "id": "e99f4aea",
   "metadata": {},
   "outputs": [
    {
     "name": "stdout",
     "output_type": "stream",
     "text": [
      "p\n",
      "y\n",
      "t\n",
      "h\n",
      "hello world\n"
     ]
    }
   ],
   "source": [
    "s=\"python\"\n",
    "for ch in s:\n",
    "    if ch=='o':\n",
    "        break\n",
    "    print(ch)\n",
    "    \n",
    "print(\"hello world\")"
   ]
  },
  {
   "cell_type": "markdown",
   "id": "4f555858",
   "metadata": {},
   "source": [
    "### continue\n",
    "\n",
    "* The continue statement is used to skip the current iteration of the loop, the control flow of the program goes to the next iteration\n",
    "\n",
    "* syntax:\n",
    "* continue"
   ]
  },
  {
   "cell_type": "code",
   "execution_count": 5,
   "id": "580fd27d",
   "metadata": {},
   "outputs": [
    {
     "name": "stdout",
     "output_type": "stream",
     "text": [
      "0\n",
      "1\n",
      "3\n",
      "4\n"
     ]
    }
   ],
   "source": [
    "for i  in range(5):\n",
    "    if i==2:\n",
    "        continue\n",
    "    print(i)\n",
    "    "
   ]
  },
  {
   "cell_type": "code",
   "execution_count": 6,
   "id": "19b79bd0",
   "metadata": {},
   "outputs": [
    {
     "name": "stdout",
     "output_type": "stream",
     "text": [
      "p\n",
      "r\n",
      "o\n",
      "r\n",
      "a\n",
      "m\n"
     ]
    }
   ],
   "source": [
    "s=\"program\"\n",
    "\n",
    "# o/p:  proram\n",
    "\n",
    "for i in s:\n",
    "    if i=='g':\n",
    "        continue\n",
    "    print(i)"
   ]
  },
  {
   "cell_type": "code",
   "execution_count": 7,
   "id": "d5bc648f",
   "metadata": {},
   "outputs": [
    {
     "name": "stdout",
     "output_type": "stream",
     "text": [
      "1\n",
      "3\n",
      "5\n",
      "7\n",
      "9\n"
     ]
    }
   ],
   "source": [
    "# continue statement with while loop\n",
    "\n",
    "n=0\n",
    "while n<10:\n",
    "    n+=1\n",
    "    if n%2==0:\n",
    "        continue\n",
    "    print(n)   "
   ]
  },
  {
   "cell_type": "markdown",
   "id": "92e4c991",
   "metadata": {},
   "source": [
    "### pass statement\n",
    "\n",
    "* The pass statement is used as a placeholder for future code\n",
    "* when pass statement is executed nothing happens but it avoids getting errors , when empty code is not allowed\n",
    "\n"
   ]
  },
  {
   "cell_type": "code",
   "execution_count": 9,
   "id": "749d4ea7",
   "metadata": {},
   "outputs": [],
   "source": [
    "for i in range(1,10):\n",
    "    pass"
   ]
  },
  {
   "cell_type": "markdown",
   "id": "bd7f93f0",
   "metadata": {},
   "source": [
    "### Strings \n",
    "\n",
    "* a string is a group of characters\n",
    "* enclosed with a single quotes same as double quotes"
   ]
  },
  {
   "cell_type": "code",
   "execution_count": 11,
   "id": "ee92400c",
   "metadata": {},
   "outputs": [
    {
     "name": "stdout",
     "output_type": "stream",
     "text": [
      "<class 'str'>\n",
      "welcome\n"
     ]
    }
   ],
   "source": [
    "s='welcome'\n",
    "\n",
    "print(type(s))\n",
    "print(s)"
   ]
  },
  {
   "cell_type": "code",
   "execution_count": 12,
   "id": "9f91fcb9",
   "metadata": {},
   "outputs": [
    {
     "data": {
      "text/plain": [
       "str"
      ]
     },
     "execution_count": 12,
     "metadata": {},
     "output_type": "execute_result"
    }
   ],
   "source": [
    "s1=\"python\"\n",
    "type(s1)"
   ]
  },
  {
   "cell_type": "code",
   "execution_count": null,
   "id": "fed80e18",
   "metadata": {},
   "outputs": [],
   "source": [
    "### accessing characters from a string (using index)\n",
    "\n",
    "# forward index: 0,1,2...\n",
    "# backward index -1,-2,-3 ...\n",
    "\n",
    "# s= w  e  l  c  o  m  e\n",
    "#    0  1  2  3  4  5  6    -> forward index\n",
    "#   -7 -6 -5 -4 -3 -2 -1    -> backward index"
   ]
  },
  {
   "cell_type": "code",
   "execution_count": 13,
   "id": "67e382ff",
   "metadata": {},
   "outputs": [
    {
     "data": {
      "text/plain": [
       "'c'"
      ]
     },
     "execution_count": 13,
     "metadata": {},
     "output_type": "execute_result"
    }
   ],
   "source": [
    "s=\"welcome\"\n",
    "s[3]"
   ]
  },
  {
   "cell_type": "code",
   "execution_count": 14,
   "id": "c938d1b2",
   "metadata": {},
   "outputs": [
    {
     "data": {
      "text/plain": [
       "'c'"
      ]
     },
     "execution_count": 14,
     "metadata": {},
     "output_type": "execute_result"
    }
   ],
   "source": [
    "s[-4]"
   ]
  },
  {
   "cell_type": "code",
   "execution_count": 16,
   "id": "04ee2c7a",
   "metadata": {},
   "outputs": [
    {
     "data": {
      "text/plain": [
       "'m'"
      ]
     },
     "execution_count": 16,
     "metadata": {},
     "output_type": "execute_result"
    }
   ],
   "source": [
    "s[5]"
   ]
  },
  {
   "cell_type": "markdown",
   "id": "6542ea05",
   "metadata": {},
   "source": [
    "### string slicing  [start:stop:step]\n",
    "\n",
    "* to print particular portion of a string starting from index start to index stop\n",
    "\n"
   ]
  },
  {
   "cell_type": "code",
   "execution_count": 17,
   "id": "9788d578",
   "metadata": {},
   "outputs": [
    {
     "data": {
      "text/plain": [
       "'wel'"
      ]
     },
     "execution_count": 17,
     "metadata": {},
     "output_type": "execute_result"
    }
   ],
   "source": [
    "s=\"welcome\"\n",
    "# \"wel\"\n",
    "\n",
    "s[0:2+1]  "
   ]
  },
  {
   "cell_type": "code",
   "execution_count": 18,
   "id": "68eb38f0",
   "metadata": {},
   "outputs": [
    {
     "data": {
      "text/plain": [
       "'wel'"
      ]
     },
     "execution_count": 18,
     "metadata": {},
     "output_type": "execute_result"
    }
   ],
   "source": [
    "s[0:3]"
   ]
  },
  {
   "cell_type": "code",
   "execution_count": 19,
   "id": "5247be72",
   "metadata": {},
   "outputs": [
    {
     "data": {
      "text/plain": [
       "'wloe'"
      ]
     },
     "execution_count": 19,
     "metadata": {},
     "output_type": "execute_result"
    }
   ],
   "source": [
    "#  o/p:wloe\n",
    "\n",
    "# printing alternate characters from a string starting from index 0\n",
    "\n",
    "s[0::2]"
   ]
  },
  {
   "cell_type": "code",
   "execution_count": 20,
   "id": "40f0aba6",
   "metadata": {},
   "outputs": [
    {
     "data": {
      "text/plain": [
       "'wlo'"
      ]
     },
     "execution_count": 20,
     "metadata": {},
     "output_type": "execute_result"
    }
   ],
   "source": [
    "s[0:6:2]"
   ]
  },
  {
   "cell_type": "code",
   "execution_count": 21,
   "id": "528b6523",
   "metadata": {},
   "outputs": [
    {
     "data": {
      "text/plain": [
       "'ecm'"
      ]
     },
     "execution_count": 21,
     "metadata": {},
     "output_type": "execute_result"
    }
   ],
   "source": [
    "# printing alternate characters from a string starting from index 1\n",
    "\n",
    "s[1::2]"
   ]
  },
  {
   "cell_type": "code",
   "execution_count": 23,
   "id": "2f0f8ca0",
   "metadata": {},
   "outputs": [
    {
     "name": "stdout",
     "output_type": "stream",
     "text": [
      "['__add__', '__class__', '__contains__', '__delattr__', '__dir__', '__doc__', '__eq__', '__format__', '__ge__', '__getattribute__', '__getitem__', '__getnewargs__', '__gt__', '__hash__', '__init__', '__init_subclass__', '__iter__', '__le__', '__len__', '__lt__', '__mod__', '__mul__', '__ne__', '__new__', '__reduce__', '__reduce_ex__', '__repr__', '__rmod__', '__rmul__', '__setattr__', '__sizeof__', '__str__', '__subclasshook__', 'capitalize', 'casefold', 'center', 'count', 'encode', 'endswith', 'expandtabs', 'find', 'format', 'format_map', 'index', 'isalnum', 'isalpha', 'isascii', 'isdecimal', 'isdigit', 'isidentifier', 'islower', 'isnumeric', 'isprintable', 'isspace', 'istitle', 'isupper', 'join', 'ljust', 'lower', 'lstrip', 'maketrans', 'partition', 'removeprefix', 'removesuffix', 'replace', 'rfind', 'rindex', 'rjust', 'rpartition', 'rsplit', 'rstrip', 'split', 'splitlines', 'startswith', 'strip', 'swapcase', 'title', 'translate', 'upper', 'zfill'] "
     ]
    }
   ],
   "source": [
    "print(dir(s),end=\" \")"
   ]
  },
  {
   "cell_type": "code",
   "execution_count": 24,
   "id": "c6c62cb4",
   "metadata": {},
   "outputs": [
    {
     "data": {
      "text/plain": [
       "'maha'"
      ]
     },
     "execution_count": 24,
     "metadata": {},
     "output_type": "execute_result"
    }
   ],
   "source": [
    "name=\"MAHA\"\n",
    "name.lower()   # to convert string into lowercase "
   ]
  },
  {
   "cell_type": "code",
   "execution_count": 25,
   "id": "bc25365b",
   "metadata": {},
   "outputs": [
    {
     "data": {
      "text/plain": [
       "'welcome'"
      ]
     },
     "execution_count": 25,
     "metadata": {},
     "output_type": "execute_result"
    }
   ],
   "source": [
    "s"
   ]
  },
  {
   "cell_type": "code",
   "execution_count": 26,
   "id": "e9a21157",
   "metadata": {},
   "outputs": [
    {
     "data": {
      "text/plain": [
       "'WELCOME'"
      ]
     },
     "execution_count": 26,
     "metadata": {},
     "output_type": "execute_result"
    }
   ],
   "source": [
    "s.upper()  # to convert string into uppercase"
   ]
  },
  {
   "cell_type": "code",
   "execution_count": 27,
   "id": "87a0106b",
   "metadata": {},
   "outputs": [
    {
     "data": {
      "text/plain": [
       "'welcome'"
      ]
     },
     "execution_count": 27,
     "metadata": {},
     "output_type": "execute_result"
    }
   ],
   "source": [
    "s"
   ]
  },
  {
   "cell_type": "code",
   "execution_count": 28,
   "id": "467b23a9",
   "metadata": {},
   "outputs": [
    {
     "data": {
      "text/plain": [
       "'I Am Learning Python'"
      ]
     },
     "execution_count": 28,
     "metadata": {},
     "output_type": "execute_result"
    }
   ],
   "source": [
    "s='i am learning python'\n",
    "s.title()"
   ]
  },
  {
   "cell_type": "code",
   "execution_count": 29,
   "id": "85703149",
   "metadata": {},
   "outputs": [
    {
     "data": {
      "text/plain": [
       "'I am learning python'"
      ]
     },
     "execution_count": 29,
     "metadata": {},
     "output_type": "execute_result"
    }
   ],
   "source": [
    "s.capitalize()"
   ]
  },
  {
   "cell_type": "code",
   "execution_count": 30,
   "id": "073fe5ef",
   "metadata": {},
   "outputs": [
    {
     "data": {
      "text/plain": [
       "'i am learning python'"
      ]
     },
     "execution_count": 30,
     "metadata": {},
     "output_type": "execute_result"
    }
   ],
   "source": [
    "s"
   ]
  },
  {
   "cell_type": "code",
   "execution_count": 31,
   "id": "966a5e85",
   "metadata": {},
   "outputs": [
    {
     "data": {
      "text/plain": [
       "'i am lear$i$g pytho$'"
      ]
     },
     "execution_count": 31,
     "metadata": {},
     "output_type": "execute_result"
    }
   ],
   "source": [
    "s.replace('n',\"$\")"
   ]
  },
  {
   "cell_type": "code",
   "execution_count": 32,
   "id": "5e48b915",
   "metadata": {},
   "outputs": [
    {
     "data": {
      "text/plain": [
       "'i am leaPERSONning python'"
      ]
     },
     "execution_count": 32,
     "metadata": {},
     "output_type": "execute_result"
    }
   ],
   "source": [
    "s.replace('r','PERSON')"
   ]
  },
  {
   "cell_type": "code",
   "execution_count": 33,
   "id": "89014ff3",
   "metadata": {},
   "outputs": [
    {
     "data": {
      "text/plain": [
       "['i', 'am', 'learning', 'python']"
      ]
     },
     "execution_count": 33,
     "metadata": {},
     "output_type": "execute_result"
    }
   ],
   "source": [
    "s.split()"
   ]
  },
  {
   "cell_type": "code",
   "execution_count": 36,
   "id": "8e38cec2",
   "metadata": {},
   "outputs": [
    {
     "data": {
      "text/plain": [
       "['i am ', 'earning python']"
      ]
     },
     "execution_count": 36,
     "metadata": {},
     "output_type": "execute_result"
    }
   ],
   "source": [
    "s.split('l')"
   ]
  },
  {
   "cell_type": "code",
   "execution_count": 37,
   "id": "69a039bc",
   "metadata": {},
   "outputs": [
    {
     "data": {
      "text/plain": [
       "'p_y_t_h_o_n'"
      ]
     },
     "execution_count": 37,
     "metadata": {},
     "output_type": "execute_result"
    }
   ],
   "source": [
    "s1='_'\n",
    "s='python'\n",
    "s1.join(s)"
   ]
  },
  {
   "cell_type": "code",
   "execution_count": 38,
   "id": "40c2e3fa",
   "metadata": {},
   "outputs": [
    {
     "data": {
      "text/plain": [
       "'hello world'"
      ]
     },
     "execution_count": 38,
     "metadata": {},
     "output_type": "execute_result"
    }
   ],
   "source": [
    "s=\"  hello world\"\n",
    "s.strip()"
   ]
  },
  {
   "cell_type": "code",
   "execution_count": 39,
   "id": "933e9f54",
   "metadata": {},
   "outputs": [
    {
     "data": {
      "text/plain": [
       "'  hello world'"
      ]
     },
     "execution_count": 39,
     "metadata": {},
     "output_type": "execute_result"
    }
   ],
   "source": [
    "s=\"  hello world   \"\n",
    "s.rstrip()   # to remove right side spaces"
   ]
  },
  {
   "cell_type": "code",
   "execution_count": 40,
   "id": "634b6d72",
   "metadata": {},
   "outputs": [
    {
     "data": {
      "text/plain": [
       "'hello world   '"
      ]
     },
     "execution_count": 40,
     "metadata": {},
     "output_type": "execute_result"
    }
   ],
   "source": [
    "s.lstrip()   #to remove left side spaces"
   ]
  },
  {
   "cell_type": "code",
   "execution_count": 41,
   "id": "265b4d0d",
   "metadata": {},
   "outputs": [
    {
     "data": {
      "text/plain": [
       "'PROGRAMming'"
      ]
     },
     "execution_count": 41,
     "metadata": {},
     "output_type": "execute_result"
    }
   ],
   "source": [
    "s='programMING'\n",
    "s.swapcase()"
   ]
  },
  {
   "cell_type": "code",
   "execution_count": 44,
   "id": "7c658a62",
   "metadata": {},
   "outputs": [
    {
     "data": {
      "text/plain": [
       "3"
      ]
     },
     "execution_count": 44,
     "metadata": {},
     "output_type": "execute_result"
    }
   ],
   "source": [
    "# length of a string\n",
    "\n",
    "dept=\"CSE\"\n",
    "len(dept)"
   ]
  },
  {
   "cell_type": "code",
   "execution_count": 46,
   "id": "89257a32",
   "metadata": {},
   "outputs": [
    {
     "data": {
      "text/plain": [
       "'APSSDC PYTHON PROGRAMMING'"
      ]
     },
     "execution_count": 46,
     "metadata": {},
     "output_type": "execute_result"
    }
   ],
   "source": [
    "# concatenation by using +\n",
    "\n",
    "s=\"APSSDC\"\n",
    "s1=\" PYTHON PROGRAMMING\"\n",
    "s+s1"
   ]
  },
  {
   "cell_type": "code",
   "execution_count": 47,
   "id": "bce242b5",
   "metadata": {},
   "outputs": [
    {
     "data": {
      "text/plain": [
       "'APSSDCAPSSDCAPSSDCAPSSDCAPSSDC'"
      ]
     },
     "execution_count": 47,
     "metadata": {},
     "output_type": "execute_result"
    }
   ],
   "source": [
    "# repetition *\n",
    "\n",
    "s*5"
   ]
  },
  {
   "cell_type": "code",
   "execution_count": 48,
   "id": "fb59703e",
   "metadata": {},
   "outputs": [
    {
     "data": {
      "text/plain": [
       "True"
      ]
     },
     "execution_count": 48,
     "metadata": {},
     "output_type": "execute_result"
    }
   ],
   "source": [
    "'a' in 'program'"
   ]
  },
  {
   "cell_type": "code",
   "execution_count": 49,
   "id": "c66eeb0a",
   "metadata": {},
   "outputs": [
    {
     "data": {
      "text/plain": [
       "False"
      ]
     },
     "execution_count": 49,
     "metadata": {},
     "output_type": "execute_result"
    }
   ],
   "source": [
    "'R' in 'program'"
   ]
  },
  {
   "cell_type": "code",
   "execution_count": 50,
   "id": "ea34c6c2",
   "metadata": {},
   "outputs": [
    {
     "data": {
      "text/plain": [
       "True"
      ]
     },
     "execution_count": 50,
     "metadata": {},
     "output_type": "execute_result"
    }
   ],
   "source": [
    "'r' in 'program'"
   ]
  },
  {
   "cell_type": "code",
   "execution_count": 51,
   "id": "fee66e98",
   "metadata": {},
   "outputs": [],
   "source": [
    "del s   # delete a string"
   ]
  },
  {
   "cell_type": "code",
   "execution_count": 52,
   "id": "d0ef6469",
   "metadata": {
    "collapsed": true
   },
   "outputs": [
    {
     "ename": "NameError",
     "evalue": "name 's' is not defined",
     "output_type": "error",
     "traceback": [
      "\u001b[1;31m---------------------------------------------------------------------------\u001b[0m",
      "\u001b[1;31mNameError\u001b[0m                                 Traceback (most recent call last)",
      "\u001b[1;32m~\\AppData\\Local\\Temp\\ipykernel_15648\\1028141915.py\u001b[0m in \u001b[0;36m<module>\u001b[1;34m\u001b[0m\n\u001b[1;32m----> 1\u001b[1;33m \u001b[0ms\u001b[0m\u001b[1;33m\u001b[0m\u001b[1;33m\u001b[0m\u001b[0m\n\u001b[0m",
      "\u001b[1;31mNameError\u001b[0m: name 's' is not defined"
     ]
    }
   ],
   "source": [
    "s"
   ]
  },
  {
   "cell_type": "code",
   "execution_count": 53,
   "id": "31c6dacb",
   "metadata": {},
   "outputs": [
    {
     "data": {
      "text/plain": [
       "2"
      ]
     },
     "execution_count": 53,
     "metadata": {},
     "output_type": "execute_result"
    }
   ],
   "source": [
    "s1=\"hello everyone\"\n",
    "s1.find('l')  # if the given character is present then it returns index of the character"
   ]
  },
  {
   "cell_type": "code",
   "execution_count": 54,
   "id": "520f969f",
   "metadata": {},
   "outputs": [
    {
     "data": {
      "text/plain": [
       "-1"
      ]
     },
     "execution_count": 54,
     "metadata": {},
     "output_type": "execute_result"
    }
   ],
   "source": [
    "s1.find('z')    # if the given character in not present"
   ]
  },
  {
   "cell_type": "code",
   "execution_count": 55,
   "id": "0a38d3f1",
   "metadata": {},
   "outputs": [
    {
     "data": {
      "text/plain": [
       "2"
      ]
     },
     "execution_count": 55,
     "metadata": {},
     "output_type": "execute_result"
    }
   ],
   "source": [
    "s1=\"python program python\"\n",
    "s1.count('python')"
   ]
  },
  {
   "cell_type": "code",
   "execution_count": 57,
   "id": "bfd13d60",
   "metadata": {},
   "outputs": [
    {
     "data": {
      "text/plain": [
       "3"
      ]
     },
     "execution_count": 57,
     "metadata": {},
     "output_type": "execute_result"
    }
   ],
   "source": [
    "s1.count('p')  # no of occurances of given character inside a string"
   ]
  },
  {
   "cell_type": "code",
   "execution_count": 59,
   "id": "ce6f03c5",
   "metadata": {},
   "outputs": [
    {
     "data": {
      "text/plain": [
       "'elppa'"
      ]
     },
     "execution_count": 59,
     "metadata": {},
     "output_type": "execute_result"
    }
   ],
   "source": [
    "# reverse of a string\n",
    "s=\"apple\"\n",
    "s[::-1]"
   ]
  },
  {
   "cell_type": "code",
   "execution_count": 60,
   "id": "aa4d4477",
   "metadata": {},
   "outputs": [
    {
     "name": "stdout",
     "output_type": "stream",
     "text": [
      "The given string is palindrome\n"
     ]
    }
   ],
   "source": [
    "# write a program to check given string is palindrome or not\n",
    "\n",
    "s='RACECAR'\n",
    "\n",
    "# RACECAR\n",
    "\n",
    "if s==s[::-1]:\n",
    "    print(\"The given string is palindrome\")\n",
    "else:\n",
    "    print(\"not a palindrome\")"
   ]
  },
  {
   "cell_type": "code",
   "execution_count": 61,
   "id": "fd5025f1",
   "metadata": {},
   "outputs": [
    {
     "data": {
      "text/plain": [
       "True"
      ]
     },
     "execution_count": 61,
     "metadata": {},
     "output_type": "execute_result"
    }
   ],
   "source": [
    "s=\"python\"\n",
    "s.isalpha()   # return True if the given string contains only alphabets,otherwise return false"
   ]
  },
  {
   "cell_type": "code",
   "execution_count": 62,
   "id": "0021462b",
   "metadata": {},
   "outputs": [
    {
     "data": {
      "text/plain": [
       "False"
      ]
     },
     "execution_count": 62,
     "metadata": {},
     "output_type": "execute_result"
    }
   ],
   "source": [
    "s=\"python6789\"\n",
    "s.isalpha()"
   ]
  },
  {
   "cell_type": "code",
   "execution_count": 63,
   "id": "ec77a149",
   "metadata": {},
   "outputs": [
    {
     "data": {
      "text/plain": [
       "True"
      ]
     },
     "execution_count": 63,
     "metadata": {},
     "output_type": "execute_result"
    }
   ],
   "source": [
    "s1=\"67899\"\n",
    "s1.isdigit()"
   ]
  },
  {
   "cell_type": "code",
   "execution_count": 64,
   "id": "de9ec0ce",
   "metadata": {},
   "outputs": [
    {
     "data": {
      "text/plain": [
       "False"
      ]
     },
     "execution_count": 64,
     "metadata": {},
     "output_type": "execute_result"
    }
   ],
   "source": [
    "s1=\"678**99\"\n",
    "s1.isdigit()"
   ]
  },
  {
   "cell_type": "code",
   "execution_count": 65,
   "id": "48207d29",
   "metadata": {},
   "outputs": [
    {
     "data": {
      "text/plain": [
       "True"
      ]
     },
     "execution_count": 65,
     "metadata": {},
     "output_type": "execute_result"
    }
   ],
   "source": [
    "s=\"adithya360\"\n",
    "s.isalnum()     # both alpha numberic"
   ]
  },
  {
   "cell_type": "code",
   "execution_count": 66,
   "id": "54674f59",
   "metadata": {},
   "outputs": [
    {
     "data": {
      "text/plain": [
       "False"
      ]
     },
     "execution_count": 66,
     "metadata": {},
     "output_type": "execute_result"
    }
   ],
   "source": [
    "s=\"adithya&&/360\"\n",
    "s.isalnum()    "
   ]
  },
  {
   "cell_type": "code",
   "execution_count": 70,
   "id": "ff778dcc",
   "metadata": {},
   "outputs": [
    {
     "name": "stdout",
     "output_type": "stream",
     "text": [
      "enter a stringabc123@#*\n",
      "alpha3,digits3,spl chars3\n"
     ]
    }
   ],
   "source": [
    "# i/p:\" abc123@#*\"\n",
    "\n",
    "#o/p: alpha:3,digit:3,spl chars=3\n",
    "\n",
    "s=input(\"enter a string\")\n",
    "alp=dc=spc=0\n",
    "for i in s:\n",
    "    if i.isalpha():\n",
    "        alp+=1\n",
    "    elif i.isdigit():\n",
    "        dc+=1\n",
    "    else:\n",
    "        spc+=1\n",
    "print('alpha{},digits{},spl chars{}'.format(alp,dc,spc))"
   ]
  },
  {
   "cell_type": "code",
   "execution_count": 73,
   "id": "6f1d0c35",
   "metadata": {},
   "outputs": [
    {
     "name": "stdout",
     "output_type": "stream",
     "text": [
      "enter a string: aPsSDc\n",
      "ApSsdC\n"
     ]
    }
   ],
   "source": [
    "# i/p: 'aPsSDc'\n",
    "# o/p : ApSsdC\n",
    "x=input(\"enter a string: \")\n",
    "y=x.swapcase()\n",
    "print(y)\n"
   ]
  },
  {
   "cell_type": "code",
   "execution_count": 69,
   "id": "f0cca6fc",
   "metadata": {},
   "outputs": [
    {
     "name": "stdout",
     "output_type": "stream",
     "text": [
      "enter a string:abcabc\n",
      "a:2 b:2 c:2 "
     ]
    }
   ],
   "source": [
    "#print character count\n",
    "\n",
    "#i/p: abcabc\n",
    "# o/p: a:2 b:2 c:2\n",
    "\n",
    "s=input(\"enter a string:\")\n",
    "s1=\" \"\n",
    "for i in s:\n",
    "    if i not in s1:\n",
    "        print('{}:{}'.format(i,s.count(i)),end=\" \")\n",
    "        s1+=i"
   ]
  },
  {
   "cell_type": "code",
   "execution_count": null,
   "id": "769f36da",
   "metadata": {},
   "outputs": [],
   "source": []
  }
 ],
 "metadata": {
  "kernelspec": {
   "display_name": "Python 3 (ipykernel)",
   "language": "python",
   "name": "python3"
  },
  "language_info": {
   "codemirror_mode": {
    "name": "ipython",
    "version": 3
   },
   "file_extension": ".py",
   "mimetype": "text/x-python",
   "name": "python",
   "nbconvert_exporter": "python",
   "pygments_lexer": "ipython3",
   "version": "3.9.13"
  }
 },
 "nbformat": 4,
 "nbformat_minor": 5
}
