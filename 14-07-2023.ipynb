{
 "cells": [
  {
   "cell_type": "markdown",
   "id": "56b74324",
   "metadata": {},
   "source": [
    "### Data preprocessing with Scikit-learn\n",
    "\n",
    "* Preprocessing :\n",
    "- Data Preprocessing is a technique that is used to convert raw data into a clean dataset"
   ]
  },
  {
   "cell_type": "markdown",
   "id": "41db9618",
   "metadata": {},
   "source": [
    "### Data Preprocessing steps\n",
    "\n",
    "* Loading data (reading files)\n",
    "* Exploring data(Summarizing ,statistics etc)\n",
    "* Cleaning data ( handling missing values)\n",
    "* Transforming data(Scaling,feature engineering etc..)\n",
    "    * will learn data preprocessing technique with scikit-learn, one of the most popular framework used for Datascience\n",
    "    * The scikit-learnn library includes tools for data preprocessing and data mining.\n",
    "    * import sklearn\n",
    "    * provides machine learning algorithms : classification,regression,clustering,model validation etc\n",
    "    * Scikitlearn built on Numpy,Scipy and Matplotlib\n",
    "    "
   ]
  },
  {
   "cell_type": "markdown",
   "id": "8a1d9ae4",
   "metadata": {},
   "source": [
    "### Data imputation\n",
    "\n",
    "* Used to deal with missing values)\n",
    "* Data imputation is a method for retaining majority of the dataset's data and information by substituting missing data with a different value.\n",
    "* There are many different methods for data imputation\n",
    "    * Using the mean value\n",
    "    * Using the median value\n",
    "    * Using the Most frequent value(mode)\n",
    "    * Filling missing values with a constant\n",
    "    "
   ]
  },
  {
   "cell_type": "code",
   "execution_count": 1,
   "id": "5a220468",
   "metadata": {},
   "outputs": [],
   "source": [
    "from sklearn.impute import SimpleImputer"
   ]
  },
  {
   "cell_type": "code",
   "execution_count": 4,
   "id": "d6c09f92",
   "metadata": {
    "collapsed": true
   },
   "outputs": [
    {
     "data": {
      "text/html": [
       "<div>\n",
       "<style scoped>\n",
       "    .dataframe tbody tr th:only-of-type {\n",
       "        vertical-align: middle;\n",
       "    }\n",
       "\n",
       "    .dataframe tbody tr th {\n",
       "        vertical-align: top;\n",
       "    }\n",
       "\n",
       "    .dataframe thead th {\n",
       "        text-align: right;\n",
       "    }\n",
       "</style>\n",
       "<table border=\"1\" class=\"dataframe\">\n",
       "  <thead>\n",
       "    <tr style=\"text-align: right;\">\n",
       "      <th></th>\n",
       "      <th>a</th>\n",
       "      <th>b</th>\n",
       "      <th>c</th>\n",
       "    </tr>\n",
       "  </thead>\n",
       "  <tbody>\n",
       "    <tr>\n",
       "      <th>1</th>\n",
       "      <td>10.0</td>\n",
       "      <td>11.0</td>\n",
       "      <td>19.0</td>\n",
       "    </tr>\n",
       "    <tr>\n",
       "      <th>2</th>\n",
       "      <td>20.0</td>\n",
       "      <td>NaN</td>\n",
       "      <td>55.0</td>\n",
       "    </tr>\n",
       "    <tr>\n",
       "      <th>3</th>\n",
       "      <td>30.0</td>\n",
       "      <td>24.0</td>\n",
       "      <td>65.0</td>\n",
       "    </tr>\n",
       "    <tr>\n",
       "      <th>4</th>\n",
       "      <td>NaN</td>\n",
       "      <td>39.0</td>\n",
       "      <td>65.0</td>\n",
       "    </tr>\n",
       "    <tr>\n",
       "      <th>5</th>\n",
       "      <td>50.0</td>\n",
       "      <td>24.0</td>\n",
       "      <td>NaN</td>\n",
       "    </tr>\n",
       "  </tbody>\n",
       "</table>\n",
       "</div>"
      ],
      "text/plain": [
       "      a     b     c\n",
       "1  10.0  11.0  19.0\n",
       "2  20.0   NaN  55.0\n",
       "3  30.0  24.0  65.0\n",
       "4   NaN  39.0  65.0\n",
       "5  50.0  24.0   NaN"
      ]
     },
     "execution_count": 4,
     "metadata": {},
     "output_type": "execute_result"
    }
   ],
   "source": [
    "import pandas as pd\n",
    "import numpy as np\n",
    "di={\"a\":pd.Series([10,20,30,np.nan,50],index=[1,2,3,4,5]),\n",
    "    \"b\":pd.Series([11,24,39,24],index=[1,3,4,5]),\n",
    "    \"c\":pd.Series([19,55,65,65],index=[1,2,3,4])\n",
    "   }\n",
    "df=pd.DataFrame(di)\n",
    "df"
   ]
  },
  {
   "cell_type": "markdown",
   "id": "fb715729",
   "metadata": {},
   "source": [
    "*  fit_transform() from sklearn , preprocessing class is used to preprocess the for model training\n",
    "* fit() - calculates various required parameters\n",
    "* transform() - applies the calculated parameters to standardize the data\n",
    "* fit_transform()- fit the data into a model and transform it into a form that is more suitable for model in a single step. This saves us time ."
   ]
  },
  {
   "cell_type": "code",
   "execution_count": 5,
   "id": "ec08fbc7",
   "metadata": {
    "collapsed": true
   },
   "outputs": [
    {
     "data": {
      "text/plain": [
       "array([[10., 11., 19.],\n",
       "       [20., 24., 55.],\n",
       "       [30., 24., 65.],\n",
       "       [25., 39., 65.],\n",
       "       [50., 24., 60.]])"
      ]
     },
     "execution_count": 5,
     "metadata": {},
     "output_type": "execute_result"
    }
   ],
   "source": [
    "si=SimpleImputer(strategy=\"median\")\n",
    "si.fit_transform(df)"
   ]
  },
  {
   "cell_type": "code",
   "execution_count": 7,
   "id": "9a90f558",
   "metadata": {
    "collapsed": true
   },
   "outputs": [
    {
     "data": {
      "text/plain": [
       "a    25.0\n",
       "b    24.0\n",
       "c    60.0\n",
       "dtype: float64"
      ]
     },
     "execution_count": 7,
     "metadata": {},
     "output_type": "execute_result"
    }
   ],
   "source": [
    "df.median()"
   ]
  },
  {
   "cell_type": "code",
   "execution_count": 8,
   "id": "2ac4183a",
   "metadata": {},
   "outputs": [
    {
     "data": {
      "text/plain": [
       "array([[10. , 11. , 19. ],\n",
       "       [20. , 24.5, 55. ],\n",
       "       [30. , 24. , 65. ],\n",
       "       [27.5, 39. , 65. ],\n",
       "       [50. , 24. , 51. ]])"
      ]
     },
     "execution_count": 8,
     "metadata": {},
     "output_type": "execute_result"
    }
   ],
   "source": [
    "si=SimpleImputer(strategy=\"mean\")\n",
    "si.fit_transform(df)"
   ]
  },
  {
   "cell_type": "code",
   "execution_count": 9,
   "id": "fc84b829",
   "metadata": {},
   "outputs": [
    {
     "data": {
      "text/plain": [
       "a    27.5\n",
       "b    24.5\n",
       "c    51.0\n",
       "dtype: float64"
      ]
     },
     "execution_count": 9,
     "metadata": {},
     "output_type": "execute_result"
    }
   ],
   "source": [
    "df.mean()"
   ]
  },
  {
   "cell_type": "code",
   "execution_count": 11,
   "id": "44d0cbfa",
   "metadata": {},
   "outputs": [
    {
     "name": "stderr",
     "output_type": "stream",
     "text": [
      "C:\\Users\\meena\\anaconda3\\lib\\site-packages\\sklearn\\impute\\_base.py:49: FutureWarning: Unlike other reduction functions (e.g. `skew`, `kurtosis`), the default behavior of `mode` typically preserves the axis it acts along. In SciPy 1.11.0, this behavior will change: the default value of `keepdims` will become False, the `axis` over which the statistic is taken will be eliminated, and the value None will no longer be accepted. Set `keepdims` to True or False to avoid this warning.\n",
      "  mode = stats.mode(array)\n"
     ]
    },
    {
     "data": {
      "text/plain": [
       "array([[10., 11., 19.],\n",
       "       [20., 24., 55.],\n",
       "       [30., 24., 65.],\n",
       "       [10., 39., 65.],\n",
       "       [50., 24., 65.]])"
      ]
     },
     "execution_count": 11,
     "metadata": {},
     "output_type": "execute_result"
    }
   ],
   "source": [
    "si=SimpleImputer(strategy=\"most_frequent\")\n",
    "si.fit_transform(df)"
   ]
  },
  {
   "cell_type": "code",
   "execution_count": 12,
   "id": "b88d06f0",
   "metadata": {},
   "outputs": [
    {
     "data": {
      "text/plain": [
       "array([[10., 11., 19.],\n",
       "       [20., -1., 55.],\n",
       "       [30., 24., 65.],\n",
       "       [-1., 39., 65.],\n",
       "       [50., 24., -1.]])"
      ]
     },
     "execution_count": 12,
     "metadata": {},
     "output_type": "execute_result"
    }
   ],
   "source": [
    "si=SimpleImputer(strategy=\"constant\",fill_value=-1)\n",
    "si.fit_transform(df)"
   ]
  },
  {
   "cell_type": "markdown",
   "id": "af6215d9",
   "metadata": {},
   "source": [
    "### Task\n",
    "\n",
    "* Load titanic dataset\n",
    "* clean data by using simpleImputer"
   ]
  },
  {
   "cell_type": "code",
   "execution_count": null,
   "id": "33a3e9ba",
   "metadata": {},
   "outputs": [],
   "source": []
  }
 ],
 "metadata": {
  "kernelspec": {
   "display_name": "Python 3 (ipykernel)",
   "language": "python",
   "name": "python3"
  },
  "language_info": {
   "codemirror_mode": {
    "name": "ipython",
    "version": 3
   },
   "file_extension": ".py",
   "mimetype": "text/x-python",
   "name": "python",
   "nbconvert_exporter": "python",
   "pygments_lexer": "ipython3",
   "version": "3.9.13"
  }
 },
 "nbformat": 4,
 "nbformat_minor": 5
}
