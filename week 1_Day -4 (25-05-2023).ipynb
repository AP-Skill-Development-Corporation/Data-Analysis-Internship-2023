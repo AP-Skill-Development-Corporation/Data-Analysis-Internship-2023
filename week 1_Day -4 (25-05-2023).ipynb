{
 "cells": [
  {
   "cell_type": "markdown",
   "id": "6e9e7ffe",
   "metadata": {},
   "source": [
    "### Operators\n",
    "\n",
    "* Arithmetic operators( +,-,*,/,%,//,**)\n",
    "* Logical operators \n",
    "* Comparison operators\n",
    "* Assignment operators\n",
    "* Bitwise operators\n",
    "* Identity operators\n",
    "* Membership operators"
   ]
  },
  {
   "cell_type": "markdown",
   "id": "b02c264c",
   "metadata": {},
   "source": [
    "### logical operators -> and , or ,not\n",
    "\n",
    "\n",
    "* and -> Returns true if both statements are true ex: x<4 and x<10\n",
    "* or -> Return true if one of the statement i true \n",
    "* not -> Reverse the result , returns False if the result is true and viceversa\n"
   ]
  },
  {
   "cell_type": "code",
   "execution_count": 1,
   "id": "5a2dae1d",
   "metadata": {},
   "outputs": [
    {
     "data": {
      "text/plain": [
       "True"
      ]
     },
     "execution_count": 1,
     "metadata": {},
     "output_type": "execute_result"
    }
   ],
   "source": [
    "a=9\n",
    "a<10 and a>3"
   ]
  },
  {
   "cell_type": "code",
   "execution_count": 2,
   "id": "867477f9",
   "metadata": {},
   "outputs": [
    {
     "data": {
      "text/plain": [
       "False"
      ]
     },
     "execution_count": 2,
     "metadata": {},
     "output_type": "execute_result"
    }
   ],
   "source": [
    "a<10 and a>20"
   ]
  },
  {
   "cell_type": "code",
   "execution_count": 3,
   "id": "d2a9aeff",
   "metadata": {},
   "outputs": [
    {
     "data": {
      "text/plain": [
       "True"
      ]
     },
     "execution_count": 3,
     "metadata": {},
     "output_type": "execute_result"
    }
   ],
   "source": [
    "# Or\n",
    "\n",
    "a<10 or a>90   # "
   ]
  },
  {
   "cell_type": "code",
   "execution_count": 4,
   "id": "72e726e1",
   "metadata": {},
   "outputs": [
    {
     "data": {
      "text/plain": [
       "False"
      ]
     },
     "execution_count": 4,
     "metadata": {},
     "output_type": "execute_result"
    }
   ],
   "source": [
    "a<8 or a>80"
   ]
  },
  {
   "cell_type": "code",
   "execution_count": 5,
   "id": "f6ef4a63",
   "metadata": {},
   "outputs": [
    {
     "data": {
      "text/plain": [
       "True"
      ]
     },
     "execution_count": 5,
     "metadata": {},
     "output_type": "execute_result"
    }
   ],
   "source": [
    "# not\n",
    "\n",
    "b=90\n",
    "b>10"
   ]
  },
  {
   "cell_type": "code",
   "execution_count": 6,
   "id": "b25ea8aa",
   "metadata": {},
   "outputs": [
    {
     "data": {
      "text/plain": [
       "False"
      ]
     },
     "execution_count": 6,
     "metadata": {},
     "output_type": "execute_result"
    }
   ],
   "source": [
    "not(b>10)"
   ]
  },
  {
   "cell_type": "markdown",
   "id": "ed921572",
   "metadata": {},
   "source": [
    "### comparison operators >,<,>=,<=,==,!=\n",
    "* Used to compare two operands\n",
    "\n",
    "* == Equals to x==y\n",
    "* != Not equal to\n",
    "* < less than x<y\n",
    "* > greater than x>y\n",
    "* >= Greater than or equal to \n",
    "* <=  less than or equals to"
   ]
  },
  {
   "cell_type": "code",
   "execution_count": 7,
   "id": "4464642f",
   "metadata": {},
   "outputs": [
    {
     "data": {
      "text/plain": [
       "True"
      ]
     },
     "execution_count": 7,
     "metadata": {},
     "output_type": "execute_result"
    }
   ],
   "source": [
    "x=89\n",
    "y=90\n",
    "x<y"
   ]
  },
  {
   "cell_type": "code",
   "execution_count": 8,
   "id": "fcc93aa0",
   "metadata": {},
   "outputs": [
    {
     "data": {
      "text/plain": [
       "False"
      ]
     },
     "execution_count": 8,
     "metadata": {},
     "output_type": "execute_result"
    }
   ],
   "source": [
    "x>y"
   ]
  },
  {
   "cell_type": "code",
   "execution_count": 11,
   "id": "3ec4f8c8",
   "metadata": {},
   "outputs": [
    {
     "data": {
      "text/plain": [
       "True"
      ]
     },
     "execution_count": 11,
     "metadata": {},
     "output_type": "execute_result"
    }
   ],
   "source": [
    "x=90\n",
    "y=70\n",
    "x>=y"
   ]
  },
  {
   "cell_type": "code",
   "execution_count": 12,
   "id": "3435f94d",
   "metadata": {},
   "outputs": [
    {
     "data": {
      "text/plain": [
       "True"
      ]
     },
     "execution_count": 12,
     "metadata": {},
     "output_type": "execute_result"
    }
   ],
   "source": [
    "x=70\n",
    "y=70\n",
    "x>=y"
   ]
  },
  {
   "cell_type": "code",
   "execution_count": 13,
   "id": "b91ddc5b",
   "metadata": {},
   "outputs": [
    {
     "data": {
      "text/plain": [
       "True"
      ]
     },
     "execution_count": 13,
     "metadata": {},
     "output_type": "execute_result"
    }
   ],
   "source": [
    "x<=y"
   ]
  },
  {
   "cell_type": "code",
   "execution_count": 14,
   "id": "a7ca402e",
   "metadata": {},
   "outputs": [
    {
     "data": {
      "text/plain": [
       "True"
      ]
     },
     "execution_count": 14,
     "metadata": {},
     "output_type": "execute_result"
    }
   ],
   "source": [
    "x=60\n",
    "y=70\n",
    "x<=y"
   ]
  },
  {
   "cell_type": "code",
   "execution_count": 15,
   "id": "0adfad20",
   "metadata": {},
   "outputs": [
    {
     "data": {
      "text/plain": [
       "True"
      ]
     },
     "execution_count": 15,
     "metadata": {},
     "output_type": "execute_result"
    }
   ],
   "source": [
    "x=88\n",
    "y=88\n",
    "x==y"
   ]
  },
  {
   "cell_type": "code",
   "execution_count": 16,
   "id": "4f0fc7d1",
   "metadata": {},
   "outputs": [
    {
     "data": {
      "text/plain": [
       "False"
      ]
     },
     "execution_count": 16,
     "metadata": {},
     "output_type": "execute_result"
    }
   ],
   "source": [
    "x!=y"
   ]
  },
  {
   "cell_type": "markdown",
   "id": "951868ab",
   "metadata": {},
   "source": [
    "### Assignment operators =,+=,-=,*=,/=,%=,//=\n",
    "\n",
    "* Used to assign values to the variables\n"
   ]
  },
  {
   "cell_type": "code",
   "execution_count": 17,
   "id": "ddf9e2fa",
   "metadata": {},
   "outputs": [
    {
     "name": "stdout",
     "output_type": "stream",
     "text": [
      "90 80\n"
     ]
    }
   ],
   "source": [
    "x=90\n",
    "y=80\n",
    "print(x,y)"
   ]
  },
  {
   "cell_type": "code",
   "execution_count": 18,
   "id": "60adff5c",
   "metadata": {},
   "outputs": [],
   "source": [
    "x,y=1,2  # multi variable assignment"
   ]
  },
  {
   "cell_type": "code",
   "execution_count": 19,
   "id": "b980147f",
   "metadata": {},
   "outputs": [
    {
     "data": {
      "text/plain": [
       "1"
      ]
     },
     "execution_count": 19,
     "metadata": {},
     "output_type": "execute_result"
    }
   ],
   "source": [
    "x"
   ]
  },
  {
   "cell_type": "code",
   "execution_count": 20,
   "id": "4eb8a663",
   "metadata": {},
   "outputs": [
    {
     "data": {
      "text/plain": [
       "2"
      ]
     },
     "execution_count": 20,
     "metadata": {},
     "output_type": "execute_result"
    }
   ],
   "source": [
    "y"
   ]
  },
  {
   "cell_type": "code",
   "execution_count": 21,
   "id": "658c30cf",
   "metadata": {},
   "outputs": [
    {
     "name": "stdout",
     "output_type": "stream",
     "text": [
      "1 2\n"
     ]
    }
   ],
   "source": [
    "print(x,y)"
   ]
  },
  {
   "cell_type": "code",
   "execution_count": 22,
   "id": "b31a3a38",
   "metadata": {},
   "outputs": [
    {
     "name": "stdout",
     "output_type": "stream",
     "text": [
      "98\n"
     ]
    }
   ],
   "source": [
    "x=90\n",
    "x+=8   #  x=x+8 \n",
    "print(x)"
   ]
  },
  {
   "cell_type": "code",
   "execution_count": 23,
   "id": "cb6447ae",
   "metadata": {},
   "outputs": [
    {
     "name": "stdout",
     "output_type": "stream",
     "text": [
      "87\n"
     ]
    }
   ],
   "source": [
    "x=90\n",
    "x-=3   # x=x-3\n",
    "print(x)"
   ]
  },
  {
   "cell_type": "code",
   "execution_count": 24,
   "id": "a69c99c6",
   "metadata": {},
   "outputs": [
    {
     "name": "stdout",
     "output_type": "stream",
     "text": [
      "12\n"
     ]
    }
   ],
   "source": [
    "x=4\n",
    "x*=3  \n",
    "print(x)"
   ]
  },
  {
   "cell_type": "code",
   "execution_count": 25,
   "id": "c1bfbd8b",
   "metadata": {},
   "outputs": [
    {
     "name": "stdout",
     "output_type": "stream",
     "text": [
      "1.3333333333333333\n"
     ]
    }
   ],
   "source": [
    "x=4\n",
    "x/=3\n",
    "print(x)"
   ]
  },
  {
   "cell_type": "code",
   "execution_count": 26,
   "id": "3c45cca0",
   "metadata": {},
   "outputs": [
    {
     "name": "stdout",
     "output_type": "stream",
     "text": [
      "1\n"
     ]
    }
   ],
   "source": [
    "x=4\n",
    "x//=3\n",
    "print(x)"
   ]
  },
  {
   "cell_type": "code",
   "execution_count": 27,
   "id": "2c925f32",
   "metadata": {},
   "outputs": [
    {
     "name": "stdout",
     "output_type": "stream",
     "text": [
      "1\n"
     ]
    }
   ],
   "source": [
    "x=5\n",
    "x%=4   # x=x%4\n",
    "print(x)"
   ]
  },
  {
   "cell_type": "code",
   "execution_count": 28,
   "id": "4654c9b2",
   "metadata": {},
   "outputs": [
    {
     "name": "stdout",
     "output_type": "stream",
     "text": [
      "5\n"
     ]
    }
   ],
   "source": [
    "x=12345\n",
    "x%=10\n",
    "print(x)"
   ]
  },
  {
   "cell_type": "markdown",
   "id": "6ea8f4a6",
   "metadata": {},
   "source": [
    "### Bitwise operators &,|,<<,>>,~\n",
    "\n",
    "* & Bitwise AND -> It returns 1 if both operand bits are 1 else return 0    eg: x&y\n",
    "* | Bitwise or  -> It returns 1 if either of the bits is 1 else return 0\n",
    "* << Bitwise left shift\n",
    "* >> Bitwise right shift\n",
    "* ~ Bitwise not"
   ]
  },
  {
   "cell_type": "code",
   "execution_count": 2,
   "id": "67a5423d",
   "metadata": {},
   "outputs": [
    {
     "data": {
      "text/plain": [
       "2"
      ]
     },
     "execution_count": 2,
     "metadata": {},
     "output_type": "execute_result"
    }
   ],
   "source": [
    "a=2   # 2 -> 0010\n",
    "b=3   # 3 -> 0011\n",
    "a&b   #      0010"
   ]
  },
  {
   "cell_type": "code",
   "execution_count": 3,
   "id": "48dad907",
   "metadata": {},
   "outputs": [
    {
     "data": {
      "text/plain": [
       "5"
      ]
     },
     "execution_count": 3,
     "metadata": {},
     "output_type": "execute_result"
    }
   ],
   "source": [
    "x=4   # 4 -> 0100\n",
    "y=5   # 5 -> 0101\n",
    "x|y   #      0101   -> 5"
   ]
  },
  {
   "cell_type": "code",
   "execution_count": 4,
   "id": "1031ecd9",
   "metadata": {},
   "outputs": [
    {
     "data": {
      "text/plain": [
       "'0b100'"
      ]
     },
     "execution_count": 4,
     "metadata": {},
     "output_type": "execute_result"
    }
   ],
   "source": [
    "bin(4)"
   ]
  },
  {
   "cell_type": "code",
   "execution_count": 5,
   "id": "2d0826bc",
   "metadata": {},
   "outputs": [
    {
     "data": {
      "text/plain": [
       "40"
      ]
     },
     "execution_count": 5,
     "metadata": {},
     "output_type": "execute_result"
    }
   ],
   "source": [
    "## << left shift operator\n",
    "# shifts the bit of number to the left and fills 0 on void right as a result\n",
    "\n",
    " \n",
    "# 10 -> 1010    \n",
    "\n",
    "10<<2    #  101000   \n"
   ]
  },
  {
   "cell_type": "code",
   "execution_count": 6,
   "id": "572c23cd",
   "metadata": {},
   "outputs": [
    {
     "data": {
      "text/plain": [
       "'0b101000'"
      ]
     },
     "execution_count": 6,
     "metadata": {},
     "output_type": "execute_result"
    }
   ],
   "source": [
    "bin(40)"
   ]
  },
  {
   "cell_type": "code",
   "execution_count": 7,
   "id": "1e011598",
   "metadata": {},
   "outputs": [
    {
     "data": {
      "text/plain": [
       "2"
      ]
     },
     "execution_count": 7,
     "metadata": {},
     "output_type": "execute_result"
    }
   ],
   "source": [
    "### >> right shift operator\n",
    "\n",
    "# shifts the bits of the number to the right and fills 0 on voids left\n",
    "\n",
    "# 10 -> 1010\n",
    " \n",
    "10>>2   # 10"
   ]
  },
  {
   "cell_type": "code",
   "execution_count": 10,
   "id": "f0743268",
   "metadata": {},
   "outputs": [
    {
     "data": {
      "text/plain": [
       "1"
      ]
     },
     "execution_count": 10,
     "metadata": {},
     "output_type": "execute_result"
    }
   ],
   "source": [
    "10>>3    "
   ]
  },
  {
   "cell_type": "code",
   "execution_count": 8,
   "id": "319eb08a",
   "metadata": {},
   "outputs": [
    {
     "data": {
      "text/plain": [
       "'0b10'"
      ]
     },
     "execution_count": 8,
     "metadata": {},
     "output_type": "execute_result"
    }
   ],
   "source": [
    "bin(2)"
   ]
  },
  {
   "cell_type": "code",
   "execution_count": 9,
   "id": "cd125516",
   "metadata": {},
   "outputs": [
    {
     "data": {
      "text/plain": [
       "-10"
      ]
     },
     "execution_count": 9,
     "metadata": {},
     "output_type": "execute_result"
    }
   ],
   "source": [
    "## ~ tild -(n+1)\n",
    "c=9\n",
    "~c"
   ]
  },
  {
   "cell_type": "code",
   "execution_count": null,
   "id": "4ee87c42",
   "metadata": {},
   "outputs": [],
   "source": []
  }
 ],
 "metadata": {
  "kernelspec": {
   "display_name": "Python 3 (ipykernel)",
   "language": "python",
   "name": "python3"
  },
  "language_info": {
   "codemirror_mode": {
    "name": "ipython",
    "version": 3
   },
   "file_extension": ".py",
   "mimetype": "text/x-python",
   "name": "python",
   "nbconvert_exporter": "python",
   "pygments_lexer": "ipython3",
   "version": "3.9.13"
  }
 },
 "nbformat": 4,
 "nbformat_minor": 5
}
