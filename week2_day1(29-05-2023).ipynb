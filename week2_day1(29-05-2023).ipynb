{
 "cells": [
  {
   "cell_type": "markdown",
   "id": "b99e7845",
   "metadata": {},
   "source": [
    "### Functions:\n",
    "            - It is a collection of statements and it's perform a specific task.\n",
    "            - code reuseability.\n",
    "            - easy to debugging.\n",
    "            - using 'def' keyword we can develop the functions in python.\n",
    "            - Two types of functions:\n",
    "            - 1. pre-defined functions:\n",
    "                          : It is already created by the developers.\n",
    "            - 2. user-defined functions:\n",
    "                          : It is created by the user.\n",
    "                   - 4 types of user defined functions:\n",
    "                   - 1. with arguments and with return values.\n",
    "                   - 2. with out arguments and with return values.\n",
    "                   - 3. with arguments and with return out return values.\n",
    "                   - 4. with out arguments and with out return values.\n",
    "      \n",
    "- syntax of function:\n",
    "def function_name(arguments): function definition\n",
    "    statements\n",
    "    return output value\n",
    "\n",
    "function_name(input_variblenames) function calling"
   ]
  },
  {
   "cell_type": "markdown",
   "id": "495b0ae1",
   "metadata": {},
   "source": [
    "### 1. with arguments and with return values...\n",
    "def function_name(arguments_list):\n",
    "    statements\n",
    "    return output_value\n",
    "input values reading\n",
    "function calling"
   ]
  },
  {
   "cell_type": "code",
   "execution_count": 1,
   "id": "082fc239",
   "metadata": {},
   "outputs": [
    {
     "name": "stdout",
     "output_type": "stream",
     "text": [
      "Enter a value: 5\n"
     ]
    },
    {
     "data": {
      "text/plain": [
       "120"
      ]
     },
     "execution_count": 1,
     "metadata": {},
     "output_type": "execute_result"
    }
   ],
   "source": [
    "# To find the factorial of given number?\n",
    "def factorial(n):\n",
    "    f1=1\n",
    "    for i in range(1,n+1):\n",
    "        f1 = f1*i\n",
    "    return f1\n",
    "a = int(input(\"Enter a value: \"))\n",
    "factorial(a)"
   ]
  },
  {
   "cell_type": "code",
   "execution_count": 3,
   "id": "16c0dcab",
   "metadata": {},
   "outputs": [
    {
     "name": "stdout",
     "output_type": "stream",
     "text": [
      "Enter n value: 54367\n"
     ]
    },
    {
     "data": {
      "text/plain": [
       "76345"
      ]
     },
     "execution_count": 3,
     "metadata": {},
     "output_type": "execute_result"
    }
   ],
   "source": [
    "# 2. with out arguments and with return values...\n",
    "# To find the reverse of given number...\n",
    "def reverse():\n",
    "    n = int(input(\"Enter n value: \"))\n",
    "    rev=0\n",
    "    while(n!=0):\n",
    "        rem = n%10\n",
    "        rev=rev*10+rem\n",
    "        n = n //10\n",
    "    return rev\n",
    "reverse()    "
   ]
  },
  {
   "cell_type": "code",
   "execution_count": 4,
   "id": "e2f507f0",
   "metadata": {},
   "outputs": [
    {
     "name": "stdout",
     "output_type": "stream",
     "text": [
      "Enter n value: 34\n",
      "Enter m value: 100\n",
      "134\n"
     ]
    }
   ],
   "source": [
    "#3. with argument and with out return values?\n",
    "# To perfome the addition of two numbers?\n",
    "n = int(input(\"Enter n value: \"))\n",
    "m = int(input(\"Enter m value: \"))\n",
    "def addition(n,m):\n",
    "    print(n+m)\n",
    "addition(n,m)"
   ]
  },
  {
   "cell_type": "code",
   "execution_count": 5,
   "id": "70108fa8",
   "metadata": {},
   "outputs": [
    {
     "name": "stdout",
     "output_type": "stream",
     "text": [
      "Enter a value: 23\n",
      "Enter b value: 40\n",
      "920\n"
     ]
    }
   ],
   "source": [
    "# 4. with out argument and with out return values..\n",
    "# to perfome the multiplication of two numbers?\n",
    "def multiplication():\n",
    "    a = int(input(\"Enter a value: \"))\n",
    "    b = int(input(\"Enter b value: \"))\n",
    "    print(a*b)\n",
    "multiplication()"
   ]
  },
  {
   "cell_type": "markdown",
   "id": "d6ada790",
   "metadata": {},
   "source": [
    "### arguments types in python:\n",
    "- 1. Variable length argument\n",
    "- 2. keyword length argument\n",
    "- 3. default arguments\n",
    "- 4. non-default arguments"
   ]
  },
  {
   "cell_type": "code",
   "execution_count": 8,
   "id": "33a74880",
   "metadata": {},
   "outputs": [
    {
     "name": "stdout",
     "output_type": "stream",
     "text": [
      "30\n"
     ]
    }
   ],
   "source": [
    "addition(10,20)"
   ]
  },
  {
   "cell_type": "markdown",
   "id": "da60cbb2",
   "metadata": {},
   "source": [
    "#### variable length arguments:\n",
    "                - By using '*' symbol we can develop the variable length argument.\n",
    "                - It will be return the data in the format of tuple."
   ]
  },
  {
   "cell_type": "code",
   "execution_count": 10,
   "id": "bc7487a5",
   "metadata": {},
   "outputs": [
    {
     "name": "stdout",
     "output_type": "stream",
     "text": [
      "(10, 23, 78.9, 'apssdc')\n"
     ]
    }
   ],
   "source": [
    "def sample(*a):\n",
    "    print(a)\n",
    "sample(10,23,78.9,'apssdc')"
   ]
  },
  {
   "cell_type": "markdown",
   "id": "8076239c",
   "metadata": {},
   "source": [
    "### keyword length arguments:\n",
    "        - By using '**' we can develop the keyword length arguments.\n",
    "        - It will return the data in the format of dictionary.\n",
    "        ex: {'keyname':'value'....}"
   ]
  },
  {
   "cell_type": "code",
   "execution_count": 12,
   "id": "c40393b3",
   "metadata": {},
   "outputs": [
    {
     "name": "stdout",
     "output_type": "stream",
     "text": [
      "{'Name': 'aadyan', 'rollno': 510, 'branch': 'cse'}\n"
     ]
    }
   ],
   "source": [
    "def example(**k):\n",
    "    print(k)\n",
    "example(Name='aadyan',rollno=510,branch='cse')"
   ]
  },
  {
   "cell_type": "code",
   "execution_count": 16,
   "id": "0ba6df01",
   "metadata": {},
   "outputs": [
    {
     "name": "stdout",
     "output_type": "stream",
     "text": [
      "100 200\n"
     ]
    }
   ],
   "source": [
    "# default and non-default arguments?\n",
    "def hello(a,b=10): # a non-default arg,b-> default arg\n",
    "    print(a,b)\n",
    "hello(100,200)"
   ]
  },
  {
   "cell_type": "markdown",
   "id": "b52a3af5",
   "metadata": {},
   "source": [
    "### Python Data Strctures:\n",
    "        - Data strcture is a storage that is used to store and organize the data.\n",
    "        - In python four types of data structures:\n",
    "        - 1. List\n",
    "        - 2. tuple\n",
    "        - 3. dicitonary\n",
    "        - 4. set"
   ]
  },
  {
   "cell_type": "markdown",
   "id": "8e724d42",
   "metadata": {},
   "source": [
    "### 1. List:\n",
    "        - It is a collection of different data types.\n",
    "        - By using square brackets we can the list->[]\n",
    "        - List is mutable(we can changable)."
   ]
  },
  {
   "cell_type": "code",
   "execution_count": 17,
   "id": "3dc7aeec",
   "metadata": {},
   "outputs": [
    {
     "name": "stdout",
     "output_type": "stream",
     "text": [
      "[10, 20, 34.5, 'apssdc']\n",
      "<class 'list'>\n"
     ]
    }
   ],
   "source": [
    "# initialization of list...\n",
    "L1 = [10,20,34.5,'apssdc']\n",
    "print(L1)\n",
    "print(type(L1))"
   ]
  },
  {
   "cell_type": "code",
   "execution_count": 19,
   "id": "1fde0b53",
   "metadata": {},
   "outputs": [
    {
     "name": "stdout",
     "output_type": "stream",
     "text": [
      "[10, 20, 34.5, 'apssdc']\n",
      "10\n"
     ]
    }
   ],
   "source": [
    "# To accessing the list elements using indexing?\n",
    "print(L1)\n",
    "print(L1[0])"
   ]
  },
  {
   "cell_type": "code",
   "execution_count": 22,
   "id": "0884ccaf",
   "metadata": {},
   "outputs": [
    {
     "name": "stdout",
     "output_type": "stream",
     "text": [
      "['python', 20, 34.5, 'apssdc']\n",
      "['python', 20, 34.5, 'apssdc']\n"
     ]
    }
   ],
   "source": [
    "# To update the list values ...\n",
    "print(L1)\n",
    "L1[0]='python'\n",
    "print(L1)"
   ]
  },
  {
   "cell_type": "code",
   "execution_count": 23,
   "id": "41a5829e",
   "metadata": {},
   "outputs": [
    {
     "name": "stdout",
     "output_type": "stream",
     "text": [
      "[10, 20, 30, 11, 22, 33]\n"
     ]
    }
   ],
   "source": [
    "# TO join the two list...\n",
    "L2=[10,20,30]\n",
    "L3=[11,22,33]\n",
    "print(L2+L3)"
   ]
  },
  {
   "cell_type": "code",
   "execution_count": 26,
   "id": "b12505a7",
   "metadata": {},
   "outputs": [
    {
     "name": "stdout",
     "output_type": "stream",
     "text": [
      "[10, 20, 30]\n",
      "[11, 22, 33]\n"
     ]
    }
   ],
   "source": [
    "print(L2)\n",
    "print(L3)"
   ]
  },
  {
   "cell_type": "code",
   "execution_count": 28,
   "id": "0cf6866c",
   "metadata": {},
   "outputs": [
    {
     "name": "stdout",
     "output_type": "stream",
     "text": [
      "[10, 20, 30, 40]\n"
     ]
    }
   ],
   "source": [
    "L1=[10,20,10,20,10,30,40,10,20]\n",
    "#output: [10,20,30,40]\n",
    "# To print the unique list ...\n",
    "L2 = []\n",
    "for i in L1:\n",
    "    if i not in L2:\n",
    "        L2.append(i)\n",
    "print(L2)"
   ]
  },
  {
   "cell_type": "code",
   "execution_count": 32,
   "id": "dc8b3aa4",
   "metadata": {},
   "outputs": [
    {
     "name": "stdout",
     "output_type": "stream",
     "text": [
      "[10, 20, 30, 40]\n",
      "10 - 4 times\n",
      "20 - 3 times\n",
      "30 - 1 times\n",
      "40 - 1 times\n"
     ]
    }
   ],
   "source": [
    "# To print the element frequency?\n",
    "L1=[10,20,10,20,10,30,40,10,20]\n",
    "# output: 10 - 4 times\n",
    "L2 = []\n",
    "for i in L1:\n",
    "    if i not in L2:\n",
    "        L2.append(i)\n",
    "print(L2)\n",
    "for i in L2:\n",
    "    print(i,'-',L1.count(i),'times')"
   ]
  },
  {
   "cell_type": "markdown",
   "id": "28ae86d7",
   "metadata": {},
   "source": [
    "### tasks:\n",
    "- To find the second largest and second smallest element from the list?\n",
    "input: L1=[12,34,9,67,10,3,56,17]\n",
    "output: second largest : 56\n",
    "        second smallest : 9\n",
    "- To swap the first and last element from a list?\n",
    "input: L1= [10,23,5,18]\n",
    "output: [18,23,5,10]\n",
    "- To read one element to search an element is exist or not in a list?\n",
    "L1=[10,23,45,11,19]\n",
    "input: ele = 30\n",
    "output: no ,element does not exists in the list\n",
    "input: ele = 23\n",
    "output: yes , element exists at 1 index position"
   ]
  }
 ],
 "metadata": {
  "kernelspec": {
   "display_name": "Python 3",
   "language": "python",
   "name": "python3"
  },
  "language_info": {
   "codemirror_mode": {
    "name": "ipython",
    "version": 3
   },
   "file_extension": ".py",
   "mimetype": "text/x-python",
   "name": "python",
   "nbconvert_exporter": "python",
   "pygments_lexer": "ipython3",
   "version": "3.8.8"
  }
 },
 "nbformat": 4,
 "nbformat_minor": 5
}
