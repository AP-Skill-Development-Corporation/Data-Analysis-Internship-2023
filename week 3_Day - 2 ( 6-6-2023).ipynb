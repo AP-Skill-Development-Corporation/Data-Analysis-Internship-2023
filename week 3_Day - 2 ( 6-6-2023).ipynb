{
 "cells": [
  {
   "cell_type": "markdown",
   "id": "88c65881",
   "metadata": {},
   "source": [
    "### Object oriented programming (OOPS)\n",
    "\n",
    "* What is object oriented programming?\n",
    "\n",
    "    * To solve programming problems is by creating objects. This is known as oops object oriented programming\n",
    "    * oops allows deposition of a problem into  a number of units called objects\n",
    "* python ,an object oriented programming is a way of programming that focuses on using objects and classes to design and build applications"
   ]
  },
  {
   "cell_type": "markdown",
   "id": "1195c29a",
   "metadata": {},
   "source": [
    "### why to choose object oriented programming?\n",
    "\n",
    "* python was designed with an object oriented approach\n",
    "* oops offers the following advantages:\n",
    "    * provides a clear program structure, which makes it easy to map real world problems and their solutions.\n",
    "    * Facilitates easy maintainance and modification of code\n",
    "    * imparts code reusability"
   ]
  },
  {
   "cell_type": "markdown",
   "id": "f7672291",
   "metadata": {},
   "source": [
    "### object\n",
    "\n",
    "* An object is physical entity\n",
    "* An object is an instance of a class. \n",
    "* Every object has 2 characteristics\n",
    "    * State/properties/attributes\n",
    "    * Behaviour"
   ]
  },
  {
   "cell_type": "markdown",
   "id": "df8e0ce7",
   "metadata": {},
   "source": [
    "### Class\n",
    "\n",
    "* Combination of attributes and methods\n",
    "* A class is a way to take grouping of functions and data and place them inside a container EX: Building Templates\n",
    "* Attributes are variables of a class that are shared between all of its instances\n",
    "* class is created by using a keyword class"
   ]
  },
  {
   "cell_type": "code",
   "execution_count": 2,
   "id": "3c05a46b",
   "metadata": {},
   "outputs": [
    {
     "data": {
      "text/plain": [
       "<__main__.ClassName at 0x276c34818b0>"
      ]
     },
     "execution_count": 2,
     "metadata": {},
     "output_type": "execute_result"
    }
   ],
   "source": [
    "# syntax of a class\n",
    "\n",
    "class ClassName:\n",
    "    pass\n",
    "ClassName()"
   ]
  },
  {
   "cell_type": "code",
   "execution_count": 3,
   "id": "2d46009e",
   "metadata": {},
   "outputs": [
    {
     "data": {
      "text/plain": [
       "int"
      ]
     },
     "execution_count": 3,
     "metadata": {},
     "output_type": "execute_result"
    }
   ],
   "source": [
    "a=10\n",
    "type(a)"
   ]
  },
  {
   "cell_type": "code",
   "execution_count": 4,
   "id": "7a9f7b6c",
   "metadata": {},
   "outputs": [
    {
     "data": {
      "text/plain": [
       "str"
      ]
     },
     "execution_count": 4,
     "metadata": {},
     "output_type": "execute_result"
    }
   ],
   "source": [
    "name=\"lokesh\"\n",
    "type(name)"
   ]
  },
  {
   "cell_type": "code",
   "execution_count": 9,
   "id": "3fec5bf3",
   "metadata": {},
   "outputs": [
    {
     "data": {
      "text/plain": [
       "100"
      ]
     },
     "execution_count": 9,
     "metadata": {},
     "output_type": "execute_result"
    }
   ],
   "source": [
    "# attributes\n",
    "\n",
    "class Sample:\n",
    "    att1=100\n",
    "    att2=\"good\"\n",
    "    \n",
    "Sample.att1\n",
    "    "
   ]
  },
  {
   "cell_type": "code",
   "execution_count": 10,
   "id": "6db38969",
   "metadata": {},
   "outputs": [
    {
     "data": {
      "text/plain": [
       "'good'"
      ]
     },
     "execution_count": 10,
     "metadata": {},
     "output_type": "execute_result"
    }
   ],
   "source": [
    "Sample.att2"
   ]
  },
  {
   "cell_type": "code",
   "execution_count": 11,
   "id": "62603e2f",
   "metadata": {},
   "outputs": [
    {
     "ename": "NameError",
     "evalue": "name 'att1' is not defined",
     "output_type": "error",
     "traceback": [
      "\u001b[1;31m---------------------------------------------------------------------------\u001b[0m",
      "\u001b[1;31mNameError\u001b[0m                                 Traceback (most recent call last)",
      "\u001b[1;32m~\\AppData\\Local\\Temp\\ipykernel_16648\\72358136.py\u001b[0m in \u001b[0;36m<module>\u001b[1;34m\u001b[0m\n\u001b[1;32m----> 1\u001b[1;33m \u001b[0matt1\u001b[0m\u001b[1;33m\u001b[0m\u001b[1;33m\u001b[0m\u001b[0m\n\u001b[0m",
      "\u001b[1;31mNameError\u001b[0m: name 'att1' is not defined"
     ]
    }
   ],
   "source": [
    "att1"
   ]
  },
  {
   "cell_type": "code",
   "execution_count": 12,
   "id": "63e3b0f9",
   "metadata": {},
   "outputs": [
    {
     "name": "stdout",
     "output_type": "stream",
     "text": [
      "<class '__main__.myClass'>\n"
     ]
    }
   ],
   "source": [
    "# method\n",
    "\n",
    "class myClass:\n",
    "    def myname():\n",
    "        print(\"my name is john\")\n",
    "print(myClass)        "
   ]
  },
  {
   "cell_type": "code",
   "execution_count": 13,
   "id": "3f972fe1",
   "metadata": {},
   "outputs": [
    {
     "name": "stdout",
     "output_type": "stream",
     "text": [
      "my name is john\n"
     ]
    }
   ],
   "source": [
    "myClass.myname()"
   ]
  },
  {
   "cell_type": "code",
   "execution_count": 14,
   "id": "bf32271b",
   "metadata": {},
   "outputs": [
    {
     "ename": "NameError",
     "evalue": "name 'myname' is not defined",
     "output_type": "error",
     "traceback": [
      "\u001b[1;31m---------------------------------------------------------------------------\u001b[0m",
      "\u001b[1;31mNameError\u001b[0m                                 Traceback (most recent call last)",
      "\u001b[1;32m~\\AppData\\Local\\Temp\\ipykernel_16648\\306449509.py\u001b[0m in \u001b[0;36m<module>\u001b[1;34m\u001b[0m\n\u001b[1;32m----> 1\u001b[1;33m \u001b[0mmyname\u001b[0m\u001b[1;33m(\u001b[0m\u001b[1;33m)\u001b[0m\u001b[1;33m\u001b[0m\u001b[1;33m\u001b[0m\u001b[0m\n\u001b[0m",
      "\u001b[1;31mNameError\u001b[0m: name 'myname' is not defined"
     ]
    }
   ],
   "source": [
    "myname()"
   ]
  },
  {
   "cell_type": "code",
   "execution_count": 15,
   "id": "907062d9",
   "metadata": {},
   "outputs": [
    {
     "data": {
      "text/plain": [
       "<__main__.lapy at 0x276c38fcf40>"
      ]
     },
     "execution_count": 15,
     "metadata": {},
     "output_type": "execute_result"
    }
   ],
   "source": [
    "# creating object\n",
    "\n",
    "class lapy:\n",
    "    def asus(self):\n",
    "        print(\"i5, 8gb RAM,512 SSD,1Tb ,15' inch \")\n",
    "        \n",
    "obj1=lapy()   # creating object  obj=class()\n",
    "obj1"
   ]
  },
  {
   "cell_type": "code",
   "execution_count": 17,
   "id": "4b8e57cd",
   "metadata": {},
   "outputs": [
    {
     "name": "stdout",
     "output_type": "stream",
     "text": [
      "i5, 8gb RAM,512 SSD,1Tb ,15' inch \n"
     ]
    }
   ],
   "source": [
    "obj1.asus()"
   ]
  },
  {
   "cell_type": "code",
   "execution_count": 18,
   "id": "2b29188b",
   "metadata": {},
   "outputs": [
    {
     "data": {
      "text/plain": [
       "<__main__.lapy at 0x276c3481fa0>"
      ]
     },
     "execution_count": 18,
     "metadata": {},
     "output_type": "execute_result"
    }
   ],
   "source": [
    "obj2=lapy()\n",
    "obj2"
   ]
  },
  {
   "cell_type": "code",
   "execution_count": 19,
   "id": "3c7b5c32",
   "metadata": {},
   "outputs": [
    {
     "name": "stdout",
     "output_type": "stream",
     "text": [
      "i5, 8gb RAM,512 SSD,1Tb ,15' inch \n"
     ]
    }
   ],
   "source": [
    "obj2.asus()"
   ]
  },
  {
   "cell_type": "code",
   "execution_count": 25,
   "id": "ed8f7bef",
   "metadata": {},
   "outputs": [],
   "source": [
    "#write a program to create a class and method to perform multiplication of 2 numbers\n",
    "\n",
    "class ownClass:\n",
    "    def mult(self):\n",
    "        a=int(input(\"enter a number: \"))\n",
    "        b=int(input(\"enter a number: \"))\n",
    "        res=a*b\n",
    "        print(\"result of multiplication is : \",res)\n",
    "        \n",
    "m1=ownClass()"
   ]
  },
  {
   "cell_type": "code",
   "execution_count": 26,
   "id": "d84c8426",
   "metadata": {},
   "outputs": [
    {
     "name": "stdout",
     "output_type": "stream",
     "text": [
      "enter a number: 5\n",
      "enter a number: 12\n",
      "result of multiplication is :  60\n"
     ]
    }
   ],
   "source": [
    "m1.mult()"
   ]
  },
  {
   "cell_type": "code",
   "execution_count": 29,
   "id": "1381e47d",
   "metadata": {},
   "outputs": [
    {
     "name": "stdout",
     "output_type": "stream",
     "text": [
      "name is:  sai\n",
      "name is:  gayatri\n"
     ]
    }
   ],
   "source": [
    "# create a person class , to display name of a person\n",
    "# create 2 objects\n",
    "\n",
    "\n",
    "class Person:\n",
    "    def displayname(self,name):\n",
    "        print(\"name is: \",name)\n",
    "        \n",
    "p1=Person()\n",
    "p1.displayname(\"sai\")\n",
    "p2=Person()\n",
    "p2.displayname(\"gayatri\")"
   ]
  },
  {
   "cell_type": "markdown",
   "id": "5a9514b7",
   "metadata": {},
   "source": [
    "### constructor\n",
    "\n",
    "* Used for instantiating an object. \n",
    "* init(self) is called as a constructor\n",
    "* It works to initialize(assign values) to the attributes of a class , when an object of a class is created\n",
    "\n",
    "* Types of constructors\n",
    "    * Default constructor\n",
    "    * Parameterized constructor"
   ]
  },
  {
   "cell_type": "code",
   "execution_count": null,
   "id": "98c0c2ff",
   "metadata": {},
   "outputs": [],
   "source": [
    "# syntax of constructor declaration\n",
    "\n",
    "def __init__(self):\n",
    "    # body of constructor"
   ]
  },
  {
   "cell_type": "code",
   "execution_count": 31,
   "id": "629a5e1d",
   "metadata": {},
   "outputs": [
    {
     "name": "stdout",
     "output_type": "stream",
     "text": [
      "I am init constructor in this class\n"
     ]
    }
   ],
   "source": [
    "class Myclass:\n",
    "    def __init__(self):     # default \n",
    "        print(\"I am init constructor in this class\")\n",
    "        \n",
    "    def sample(self):\n",
    "        print(\"i am one method in this class\")\n",
    "\n",
    "obj=Myclass()\n"
   ]
  },
  {
   "cell_type": "code",
   "execution_count": 33,
   "id": "09d91cfd",
   "metadata": {},
   "outputs": [
    {
     "name": "stdout",
     "output_type": "stream",
     "text": [
      "i am one method in this class\n"
     ]
    }
   ],
   "source": [
    "obj.sample()"
   ]
  },
  {
   "cell_type": "code",
   "execution_count": 38,
   "id": "860c4d87",
   "metadata": {},
   "outputs": [
    {
     "name": "stdout",
     "output_type": "stream",
     "text": [
      "89 70\n",
      "sum is :  159\n"
     ]
    }
   ],
   "source": [
    "# parameterized constructor\n",
    "\n",
    "class Class1:\n",
    "    def __init__(self,num1,num2):   #parameterized \n",
    "        self.n1=num1\n",
    "        self.n2=num2\n",
    "        print(self.n1,self.n2)\n",
    "        \n",
    "    def add(self):\n",
    "        print(\"sum is : \",self.n1+self.n2)\n",
    "        \n",
    "obj1=Class1(89,70)\n",
    "obj1.add()"
   ]
  },
  {
   "cell_type": "markdown",
   "id": "c74691b0",
   "metadata": {},
   "source": [
    "### division of 2 numbers using constructor\n",
    "\n"
   ]
  }
 ],
 "metadata": {
  "kernelspec": {
   "display_name": "Python 3 (ipykernel)",
   "language": "python",
   "name": "python3"
  },
  "language_info": {
   "codemirror_mode": {
    "name": "ipython",
    "version": 3
   },
   "file_extension": ".py",
   "mimetype": "text/x-python",
   "name": "python",
   "nbconvert_exporter": "python",
   "pygments_lexer": "ipython3",
   "version": "3.9.13"
  }
 },
 "nbformat": 4,
 "nbformat_minor": 5
}
