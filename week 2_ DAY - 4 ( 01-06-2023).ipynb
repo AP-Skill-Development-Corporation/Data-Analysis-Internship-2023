{
 "cells": [
  {
   "cell_type": "markdown",
   "id": "e14e2d89",
   "metadata": {},
   "source": [
    "### File Handling\n",
    "\n",
    "* File is a collection of records/data\n",
    "* Types of file formats : word,pdf,excel,csv,ppt etc\n",
    "* python file handling: open,append,read,write,close\n",
    "    * create a new file\n",
    "    * write the data\n",
    "    * Read data from the file\n",
    "    * Append data to a fie\n",
    "    * closing a file"
   ]
  },
  {
   "cell_type": "markdown",
   "id": "077dc8fa",
   "metadata": {},
   "source": [
    "### Mode of operations\n",
    "\n",
    "* 'r' - Read mode which is used when the file is only being read\n",
    "* 'w' - Write mode , whuch is used to edit and write the new data (overwrites the existing data)\n",
    "* 'a' - Append mode , which is used to add new data to end of the file( i.e new data will be added to the existing data)\n",
    "* 'r+' - read and write mode, which is used to handle both actions"
   ]
  },
  {
   "cell_type": "markdown",
   "id": "129c3cae",
   "metadata": {},
   "source": [
    "### In-Built functions\n",
    "\n",
    "* open : open(path,mode)\n",
    "* close: file_name.close()"
   ]
  },
  {
   "cell_type": "code",
   "execution_count": 29,
   "id": "a8ef8ae8",
   "metadata": {},
   "outputs": [],
   "source": [
    "# create a file and writing data into a file\n",
    "\n",
    "file1=open(\"myfile.txt\",'w')   # opening a file in write mode\n",
    "file1.write(\"I am learning python programming\")   # writing data to  file\n",
    "file1.close()"
   ]
  },
  {
   "cell_type": "code",
   "execution_count": 30,
   "id": "5e6b0c79",
   "metadata": {},
   "outputs": [],
   "source": [
    "# write -> overwrite the existing data\n",
    "\n",
    "f1=open(\"myfile.txt\",'w')\n",
    "f1.write(\"I am good at programming\")\n",
    "f1.close()"
   ]
  },
  {
   "cell_type": "code",
   "execution_count": 31,
   "id": "bc6636b7",
   "metadata": {},
   "outputs": [],
   "source": [
    "# append - add new data to previous data\n",
    "\n",
    "f1=open(\"myfile.txt\",'a')\n",
    "f1.write(\"\\n Hello world \\n Happy learning \")\n",
    "f1.close()"
   ]
  },
  {
   "cell_type": "code",
   "execution_count": 32,
   "id": "a2f2df5f",
   "metadata": {},
   "outputs": [],
   "source": [
    "# read()  - read all the data from a file\n",
    "# readlines()  - returns all file data lines in list format\n",
    "# readline() - returns a line from a file\n"
   ]
  },
  {
   "cell_type": "code",
   "execution_count": 33,
   "id": "2ad11bf8",
   "metadata": {},
   "outputs": [
    {
     "name": "stdout",
     "output_type": "stream",
     "text": [
      "I am good at programming\n",
      " Hello world \n",
      " Happy learning \n"
     ]
    }
   ],
   "source": [
    "# read() - to read all file data\n",
    "\n",
    "f=open(\"myfile.txt\",'r')\n",
    "data=f.read()\n",
    "print(data)\n",
    "f.close()"
   ]
  },
  {
   "cell_type": "code",
   "execution_count": 34,
   "id": "04249c4c",
   "metadata": {},
   "outputs": [
    {
     "data": {
      "text/plain": [
       "['I am good at programming\\n', ' Hello world \\n', ' Happy learning ']"
      ]
     },
     "execution_count": 34,
     "metadata": {},
     "output_type": "execute_result"
    }
   ],
   "source": [
    "# readlines()\n",
    "\n",
    "f=open(\"myfile.txt\",'r')\n",
    "f.readlines()"
   ]
  },
  {
   "cell_type": "code",
   "execution_count": 35,
   "id": "0e693d51",
   "metadata": {},
   "outputs": [
    {
     "data": {
      "text/plain": [
       "'I am good at programming\\n'"
      ]
     },
     "execution_count": 35,
     "metadata": {},
     "output_type": "execute_result"
    }
   ],
   "source": [
    "# readline()\n",
    "\n",
    "f=open(\"myfile.txt\",'r')\n",
    "f.readline()"
   ]
  },
  {
   "cell_type": "code",
   "execution_count": 36,
   "id": "d97f976b",
   "metadata": {},
   "outputs": [
    {
     "name": "stdout",
     "output_type": "stream",
     "text": [
      "I am good at programming\n",
      "\n",
      " Hello world \n",
      "\n",
      " Happy learning \n"
     ]
    }
   ],
   "source": [
    "# read file data line by line\n",
    "\n",
    "f=open(\"myfile.txt\",'r')\n",
    "l=f.readlines()\n",
    "for i in l:\n",
    "    print(i)"
   ]
  },
  {
   "cell_type": "code",
   "execution_count": 52,
   "id": "d668f896",
   "metadata": {},
   "outputs": [
    {
     "name": "stdout",
     "output_type": "stream",
     "text": [
      "I\n",
      " \n",
      "a\n",
      "m\n",
      " \n",
      "g\n",
      "o\n",
      "o\n",
      "d\n",
      " \n",
      "a\n",
      "t\n",
      " \n",
      "p\n",
      "r\n",
      "o\n",
      "g\n",
      "r\n",
      "a\n",
      "m\n",
      "m\n",
      "i\n",
      "n\n",
      "g\n",
      "\n",
      "\n",
      " \n",
      "H\n",
      "e\n",
      "l\n",
      "l\n",
      "o\n",
      " \n",
      "w\n",
      "o\n",
      "r\n",
      "l\n",
      "d\n",
      " \n",
      "\n",
      "\n",
      " \n",
      "H\n",
      "a\n",
      "p\n",
      "p\n",
      "y\n",
      " \n",
      "l\n",
      "e\n",
      "a\n",
      "r\n",
      "n\n",
      "i\n",
      "n\n",
      "g\n",
      " \n",
      "\n",
      "\n",
      " \n",
      "t\n",
      "h\n",
      "i\n",
      "s\n",
      " \n",
      "i\n",
      "s\n",
      " \n",
      "s\n",
      "a\n",
      "m\n",
      "p\n",
      "l\n",
      "e\n",
      " \n",
      "d\n",
      "a\n",
      "t\n",
      "a\n",
      " \n"
     ]
    }
   ],
   "source": [
    "# read file data character by character\n",
    "\n",
    "f1=open(\"myfile.txt\",'r')\n",
    "data=f1.read()\n",
    "for i in data:\n",
    "    print(i)"
   ]
  },
  {
   "cell_type": "code",
   "execution_count": 26,
   "id": "1367790f",
   "metadata": {
    "collapsed": true
   },
   "outputs": [
    {
     "ename": "FileNotFoundError",
     "evalue": "[Errno 2] No such file or directory: 'sample.txt'",
     "output_type": "error",
     "traceback": [
      "\u001b[1;31m---------------------------------------------------------------------------\u001b[0m",
      "\u001b[1;31mFileNotFoundError\u001b[0m                         Traceback (most recent call last)",
      "\u001b[1;32m~\\AppData\\Local\\Temp\\ipykernel_15352\\1783559445.py\u001b[0m in \u001b[0;36m<module>\u001b[1;34m\u001b[0m\n\u001b[0;32m      1\u001b[0m \u001b[1;31m# 'r+'  - read and write\u001b[0m\u001b[1;33m\u001b[0m\u001b[1;33m\u001b[0m\u001b[0m\n\u001b[0;32m      2\u001b[0m \u001b[1;33m\u001b[0m\u001b[0m\n\u001b[1;32m----> 3\u001b[1;33m \u001b[0mf\u001b[0m\u001b[1;33m=\u001b[0m\u001b[0mopen\u001b[0m\u001b[1;33m(\u001b[0m\u001b[1;34m\"sample.txt\"\u001b[0m\u001b[1;33m,\u001b[0m\u001b[1;34m'r+'\u001b[0m\u001b[1;33m)\u001b[0m\u001b[1;33m\u001b[0m\u001b[1;33m\u001b[0m\u001b[0m\n\u001b[0m\u001b[0;32m      4\u001b[0m \u001b[0mf\u001b[0m\u001b[1;33m.\u001b[0m\u001b[0mwrite\u001b[0m\u001b[1;33m(\u001b[0m\u001b[1;34m\"This is sample file\"\u001b[0m\u001b[1;33m)\u001b[0m\u001b[1;33m\u001b[0m\u001b[1;33m\u001b[0m\u001b[0m\n",
      "\u001b[1;31mFileNotFoundError\u001b[0m: [Errno 2] No such file or directory: 'sample.txt'"
     ]
    }
   ],
   "source": [
    "# 'r+'  - read and write\n",
    "\n",
    "f=open(\"sample.txt\",'r+')\n",
    "f.write(\"This is sample file\")\n"
   ]
  },
  {
   "cell_type": "code",
   "execution_count": 38,
   "id": "a8f19c5c",
   "metadata": {},
   "outputs": [
    {
     "name": "stdout",
     "output_type": "stream",
     "text": [
      "I am good at programming\n",
      " Hello world \n",
      " Happy learning \n",
      "\n"
     ]
    }
   ],
   "source": [
    "f=open(\"myfile.txt\",'r+')\n",
    "print(f.read())\n",
    "f.write(\"\\n this is sample data \")\n",
    "print(f.read())\n",
    "f.close()"
   ]
  },
  {
   "cell_type": "code",
   "execution_count": 46,
   "id": "f2e11714",
   "metadata": {},
   "outputs": [
    {
     "name": "stdout",
     "output_type": "stream",
     "text": [
      "['I am good at programming\\n', ' Hello world \\n', ' Happy learning \\n', ' this is sample data ']\n",
      "number of lines in a file:  4\n"
     ]
    }
   ],
   "source": [
    "# write a python program to find no of lines in a file\n",
    "\n",
    "f=open(\"myfile.txt\",'r')\n",
    "l=f.readlines()\n",
    "print(l)\n",
    "nl=len(l)\n",
    "print(\"number of lines in a file: \",nl)\n",
    "f.close()\n"
   ]
  },
  {
   "cell_type": "code",
   "execution_count": 45,
   "id": "d4f7d9ac",
   "metadata": {},
   "outputs": [
    {
     "name": "stdout",
     "output_type": "stream",
     "text": [
      "['I', 'am', 'good', 'at', 'programming', 'Hello', 'world', 'Happy', 'learning', 'this', 'is', 'sample', 'data']\n",
      "no of words in a file:  13\n"
     ]
    }
   ],
   "source": [
    "# write a python program to find no of words in a file\n",
    "\n",
    "f=open(\"myfile.txt\",'r')\n",
    "data=f.read()\n",
    "words=data.split()\n",
    "print(words)\n",
    "nw=len(words)\n",
    "print(\"no of words in a file: \", nw)"
   ]
  },
  {
   "cell_type": "code",
   "execution_count": 49,
   "id": "5db2e798",
   "metadata": {},
   "outputs": [
    {
     "name": "stdout",
     "output_type": "stream",
     "text": [
      "HELLO WORLD\n",
      "no of characters in a file:  11\n"
     ]
    }
   ],
   "source": [
    "# write a program to find no of characters in a file\n",
    "\n",
    "f1=open(\"sample.txt\",'w')\n",
    "f1.write(\"HELLO WORLD\")\n",
    "f1.close()\n",
    "f2=open(\"sample.txt\",'r')\n",
    "data=f2.read()\n",
    "print(data)\n",
    "nc=len(data)\n",
    "print(\"no of characters in a file: \",nc)"
   ]
  },
  {
   "cell_type": "code",
   "execution_count": 54,
   "id": "b3524b6b",
   "metadata": {},
   "outputs": [],
   "source": [
    "# add 60 students\n",
    "\n",
    "f1=open(\"student.txt\",'w')\n",
    "for i in range(1,61):\n",
    "    f1.write(\"student %f  \\n\" %(i))\n",
    "f1.close()"
   ]
  },
  {
   "cell_type": "markdown",
   "id": "02b7b125",
   "metadata": {},
   "source": [
    "### methods in file handling :\n",
    "* tell() - returns the current location of the file pointer\n",
    "* seek() - we can set the pointer at a specific location\n",
    "* seek(offset,from_what)\n",
    "* offset - no of positions to move forward\n",
    "* from_what - specifies the pointer reference"
   ]
  },
  {
   "cell_type": "code",
   "execution_count": 56,
   "id": "e613a5a3",
   "metadata": {},
   "outputs": [
    {
     "name": "stdout",
     "output_type": "stream",
     "text": [
      "0\n",
      "I am good at programming\n",
      "\n",
      "26\n"
     ]
    }
   ],
   "source": [
    "f=open(\"myfile.txt\",'r')\n",
    "print(f.tell())\n",
    "print(f.readline())\n",
    "print(f.tell())"
   ]
  },
  {
   "cell_type": "code",
   "execution_count": 58,
   "id": "725579a7",
   "metadata": {},
   "outputs": [
    {
     "data": {
      "text/plain": [
       "7"
      ]
     },
     "execution_count": 58,
     "metadata": {},
     "output_type": "execute_result"
    }
   ],
   "source": [
    "f=open(\"myfile.txt\",'r')\n",
    "f.seek(7)"
   ]
  },
  {
   "cell_type": "code",
   "execution_count": 4,
   "id": "d554ffbb",
   "metadata": {},
   "outputs": [],
   "source": [
    "# write a program to print special characters count from a file\n",
    "\n",
    "f=open(\"sample1.txt\",'w')\n",
    "f.write(\"iam learning@python\\nth@n$\")\n",
    "f.close()"
   ]
  },
  {
   "cell_type": "code",
   "execution_count": 7,
   "id": "f98dc120",
   "metadata": {},
   "outputs": [
    {
     "name": "stdout",
     "output_type": "stream",
     "text": [
      "iam learning@python\n",
      "th@n$\n",
      "count of spl chars :  4\n"
     ]
    }
   ],
   "source": [
    "f=open(\"sample1.txt\",'r')\n",
    "data=f.read()\n",
    "print(data)\n",
    "count=0\n",
    "for ch in data:\n",
    "    if ch.isalnum()==False and ch!=' ':\n",
    "        count+=1\n",
    "        \n",
    "print(\"count of spl chars : \", count)\n",
    "    "
   ]
  },
  {
   "cell_type": "code",
   "execution_count": null,
   "id": "3f1b3e9c",
   "metadata": {},
   "outputs": [],
   "source": []
  }
 ],
 "metadata": {
  "kernelspec": {
   "display_name": "Python 3 (ipykernel)",
   "language": "python",
   "name": "python3"
  },
  "language_info": {
   "codemirror_mode": {
    "name": "ipython",
    "version": 3
   },
   "file_extension": ".py",
   "mimetype": "text/x-python",
   "name": "python",
   "nbconvert_exporter": "python",
   "pygments_lexer": "ipython3",
   "version": "3.9.13"
  }
 },
 "nbformat": 4,
 "nbformat_minor": 5
}
