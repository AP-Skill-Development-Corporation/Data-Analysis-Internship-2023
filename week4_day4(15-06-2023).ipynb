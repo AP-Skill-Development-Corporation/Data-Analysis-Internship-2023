{
 "cells": [
  {
   "cell_type": "markdown",
   "id": "a09ec56f",
   "metadata": {},
   "source": [
    "### Data Analysis with Pandas:\n",
    "#### pandas introduction:\n",
    "           - Pandas stands for ' python data analysis library'.\n",
    "           - It is s open source library.\n",
    "           - It is Excellent tool for processing and analyzing of real world data.\n",
    "           - There are two main data structures in pandas.\n",
    "           - 1. Series Data Structure.\n",
    "           - 2. DataFrame Data Structure.\n",
    "- Series Data Structure:\n",
    "                : One-Dimensional ndarray with axis labels(including time Series).\n",
    "\n",
    "- DataFrame Data Structure:\n",
    "                : Two-Dimensional,Tabular data like rows and columns.\n",
    "\n",
    "### Advantages of pandas:\n",
    "            - It is mainly work with large datasets.\n",
    "            - pandas have a high abstraction level than numpy.\n",
    "            - which gives it is a simple interface for users to interact.\n",
    " \n",
    "### installing and importing pandas:\n",
    "- IDLE prefer with pip?\n",
    "        pip install pandas\n",
    "- importing library:\n",
    "        import pandas as pd"
   ]
  },
  {
   "cell_type": "markdown",
   "id": "fbc48d41",
   "metadata": {},
   "source": [
    "### pandas series:\n",
    "        - Creating series object using list,tuple,dict and also numpy array.\n",
    "        - Create pandas series from array-like objects using pd.Series()\n",
    "        \n",
    "        - The number of elements in the index list is always equal to the number of elementsin the specified series."
   ]
  },
  {
   "cell_type": "code",
   "execution_count": 1,
   "id": "175872a3",
   "metadata": {},
   "outputs": [],
   "source": [
    "import pandas as pd"
   ]
  },
  {
   "cell_type": "code",
   "execution_count": 2,
   "id": "4631c23a",
   "metadata": {},
   "outputs": [
    {
     "name": "stdout",
     "output_type": "stream",
     "text": [
      "0    10\n",
      "1    20\n",
      "2    30\n",
      "3    40\n",
      "dtype: int64\n",
      "<class 'pandas.core.series.Series'>\n"
     ]
    }
   ],
   "source": [
    "# Creation of Series Data Structure using list..\n",
    "L1 = [10,20,30,40]\n",
    "sd = pd.Series(L1)\n",
    "print(sd)\n",
    "print(type(sd))"
   ]
  },
  {
   "cell_type": "code",
   "execution_count": 3,
   "id": "821a2dae",
   "metadata": {},
   "outputs": [
    {
     "name": "stdout",
     "output_type": "stream",
     "text": [
      "A    10\n",
      "B    20\n",
      "C    30\n",
      "D    40\n",
      "dtype: int64\n"
     ]
    }
   ],
   "source": [
    "# To change the index names in a Series using index?\n",
    "sd.index = ['A','B','C','D']\n",
    "print(sd)"
   ]
  },
  {
   "cell_type": "code",
   "execution_count": 4,
   "id": "32d31d3e",
   "metadata": {},
   "outputs": [
    {
     "name": "stdout",
     "output_type": "stream",
     "text": [
      "A    ATP\n",
      "B    GNT\n",
      "C    VJW\n",
      "D    HYD\n",
      "dtype: object\n"
     ]
    }
   ],
   "source": [
    "sd2=pd.Series(['ATP','GNT','VJW','HYD'],index=['A','B','C','D'])\n",
    "print(sd2)"
   ]
  },
  {
   "cell_type": "code",
   "execution_count": 6,
   "id": "9dfcfb7a",
   "metadata": {},
   "outputs": [
    {
     "name": "stdout",
     "output_type": "stream",
     "text": [
      "0    23\n",
      "1    56\n",
      "2    89\n",
      "dtype: int32\n"
     ]
    }
   ],
   "source": [
    "# Creation of Series data Structure using numpy array?\n",
    "import numpy as np\n",
    "n1 = np.array([23,56,89])\n",
    "sd3 = pd.Series(n1)\n",
    "print(sd3)"
   ]
  },
  {
   "cell_type": "code",
   "execution_count": 7,
   "id": "2606ecdf",
   "metadata": {},
   "outputs": [
    {
     "name": "stdout",
     "output_type": "stream",
     "text": [
      "Name      aadyan\n",
      "Rollno       510\n",
      "Branch       CSE\n",
      "dtype: object\n"
     ]
    }
   ],
   "source": [
    "# creation of series ds using Dicitonary...\n",
    "d1 ={'Name':'aadyan','Rollno':510,'Branch':'CSE'}\n",
    "sd4 = pd.Series(d1)\n",
    "print(sd4)"
   ]
  },
  {
   "cell_type": "code",
   "execution_count": 8,
   "id": "9551478f",
   "metadata": {},
   "outputs": [
    {
     "data": {
      "text/plain": [
       "0    10\n",
       "1    20\n",
       "2    30\n",
       "dtype: int64"
      ]
     },
     "execution_count": 8,
     "metadata": {},
     "output_type": "execute_result"
    }
   ],
   "source": [
    "# creation of series ds using tuple..\n",
    "t1=(10,20,30)\n",
    "sd5 = pd.Series(t1)\n",
    "sd5"
   ]
  },
  {
   "cell_type": "markdown",
   "id": "6f2e851b",
   "metadata": {},
   "source": [
    "### Series indexing:"
   ]
  },
  {
   "cell_type": "code",
   "execution_count": 10,
   "id": "0526a4cf",
   "metadata": {},
   "outputs": [
    {
     "name": "stdout",
     "output_type": "stream",
     "text": [
      "A    10\n",
      "B    20\n",
      "C    30\n",
      "D    40\n",
      "dtype: int64\n"
     ]
    }
   ],
   "source": [
    "print(sd)"
   ]
  },
  {
   "cell_type": "code",
   "execution_count": 11,
   "id": "8a31ae43",
   "metadata": {},
   "outputs": [
    {
     "data": {
      "text/plain": [
       "10"
      ]
     },
     "execution_count": 11,
     "metadata": {},
     "output_type": "execute_result"
    }
   ],
   "source": [
    "# To access the value from a Series...\n",
    "sd['A']"
   ]
  },
  {
   "cell_type": "code",
   "execution_count": 12,
   "id": "4b808cd3",
   "metadata": {},
   "outputs": [
    {
     "data": {
      "text/plain": [
       "Name      aadyan\n",
       "Rollno       510\n",
       "Branch       CSE\n",
       "dtype: object"
      ]
     },
     "execution_count": 12,
     "metadata": {},
     "output_type": "execute_result"
    }
   ],
   "source": [
    "sd4"
   ]
  },
  {
   "cell_type": "code",
   "execution_count": 13,
   "id": "4aa0c6d3",
   "metadata": {},
   "outputs": [
    {
     "data": {
      "text/plain": [
       "'aadyan'"
      ]
     },
     "execution_count": 13,
     "metadata": {},
     "output_type": "execute_result"
    }
   ],
   "source": [
    "sd4['Name']"
   ]
  },
  {
   "cell_type": "code",
   "execution_count": 14,
   "id": "f0869beb",
   "metadata": {},
   "outputs": [
    {
     "data": {
      "text/plain": [
       "A    10\n",
       "B    20\n",
       "C    30\n",
       "D    40\n",
       "dtype: int64"
      ]
     },
     "execution_count": 14,
     "metadata": {},
     "output_type": "execute_result"
    }
   ],
   "source": [
    "sd"
   ]
  },
  {
   "cell_type": "code",
   "execution_count": 17,
   "id": "18247a7e",
   "metadata": {},
   "outputs": [
    {
     "data": {
      "text/plain": [
       "A    10\n",
       "B    20\n",
       "C    30\n",
       "dtype: int64"
      ]
     },
     "execution_count": 17,
     "metadata": {},
     "output_type": "execute_result"
    }
   ],
   "source": [
    "# TO get the multiple elements?\n",
    "sd[:'C']"
   ]
  },
  {
   "cell_type": "code",
   "execution_count": 22,
   "id": "1097c7a9",
   "metadata": {},
   "outputs": [
    {
     "data": {
      "text/plain": [
       "A    10\n",
       "C    30\n",
       "dtype: int64"
      ]
     },
     "execution_count": 22,
     "metadata": {},
     "output_type": "execute_result"
    }
   ],
   "source": [
    "sd['A':'D':2]"
   ]
  },
  {
   "cell_type": "markdown",
   "id": "9c242e28",
   "metadata": {},
   "source": [
    "### upadate the series Values:"
   ]
  },
  {
   "cell_type": "code",
   "execution_count": 20,
   "id": "e34c24af",
   "metadata": {},
   "outputs": [
    {
     "name": "stdout",
     "output_type": "stream",
     "text": [
      "A    10\n",
      "B    20\n",
      "C    30\n",
      "D    40\n",
      "dtype: int64\n"
     ]
    }
   ],
   "source": [
    "print(sd)"
   ]
  },
  {
   "cell_type": "code",
   "execution_count": 23,
   "id": "3d5b340f",
   "metadata": {},
   "outputs": [
    {
     "data": {
      "text/plain": [
       "A    100\n",
       "B     20\n",
       "C     30\n",
       "D     40\n",
       "dtype: int64"
      ]
     },
     "execution_count": 23,
     "metadata": {},
     "output_type": "execute_result"
    }
   ],
   "source": [
    "sd['A']=100\n",
    "sd"
   ]
  },
  {
   "cell_type": "markdown",
   "id": "8c09094a",
   "metadata": {},
   "source": [
    "- using replace method to update the series values..\n",
    "- syntax:\n",
    "        sd.replace(to_replace=old_value,value=new_element)"
   ]
  },
  {
   "cell_type": "code",
   "execution_count": 24,
   "id": "13336ffc",
   "metadata": {},
   "outputs": [
    {
     "data": {
      "text/plain": [
       "A    100\n",
       "B     20\n",
       "C     30\n",
       "D     40\n",
       "dtype: int64"
      ]
     },
     "execution_count": 24,
     "metadata": {},
     "output_type": "execute_result"
    }
   ],
   "source": [
    "sd"
   ]
  },
  {
   "cell_type": "code",
   "execution_count": 25,
   "id": "2c4b99f4",
   "metadata": {},
   "outputs": [
    {
     "data": {
      "text/plain": [
       "A    100\n",
       "B     20\n",
       "C    500\n",
       "D     40\n",
       "dtype: int64"
      ]
     },
     "execution_count": 25,
     "metadata": {},
     "output_type": "execute_result"
    }
   ],
   "source": [
    "sd = sd.replace(to_replace=30,value=500)\n",
    "sd"
   ]
  },
  {
   "cell_type": "code",
   "execution_count": 26,
   "id": "973c9b6d",
   "metadata": {},
   "outputs": [
    {
     "data": {
      "text/plain": [
       "A    100\n",
       "B     20\n",
       "C    500\n",
       "D     40\n",
       "dtype: int64"
      ]
     },
     "execution_count": 26,
     "metadata": {},
     "output_type": "execute_result"
    }
   ],
   "source": [
    "sd"
   ]
  },
  {
   "cell_type": "code",
   "execution_count": 28,
   "id": "352cf629",
   "metadata": {},
   "outputs": [
    {
     "name": "stdout",
     "output_type": "stream",
     "text": [
      "A       100\n",
      "B    apssdc\n",
      "C       500\n",
      "D    python\n",
      "dtype: object\n"
     ]
    }
   ],
   "source": [
    "# To update the mutliple values..\n",
    "sd = sd.replace(to_replace=[20,40],value=['apssdc','python'])\n",
    "print(sd)"
   ]
  },
  {
   "cell_type": "markdown",
   "id": "749d55db",
   "metadata": {},
   "source": [
    "### Delete the data in a series"
   ]
  },
  {
   "cell_type": "code",
   "execution_count": 29,
   "id": "9ffefdb0",
   "metadata": {},
   "outputs": [
    {
     "name": "stdout",
     "output_type": "stream",
     "text": [
      "A       100\n",
      "B    apssdc\n",
      "C       500\n",
      "D    python\n",
      "dtype: object\n"
     ]
    }
   ],
   "source": [
    "print(sd)"
   ]
  },
  {
   "cell_type": "code",
   "execution_count": 30,
   "id": "826b555d",
   "metadata": {},
   "outputs": [
    {
     "data": {
      "text/plain": [
       "B    apssdc\n",
       "C       500\n",
       "D    python\n",
       "dtype: object"
      ]
     },
     "execution_count": 30,
     "metadata": {},
     "output_type": "execute_result"
    }
   ],
   "source": [
    "# deletion operation...\n",
    "sd=sd.drop(labels=['A'])\n",
    "sd"
   ]
  },
  {
   "cell_type": "code",
   "execution_count": 31,
   "id": "209e865e",
   "metadata": {},
   "outputs": [
    {
     "data": {
      "text/plain": [
       "C    500\n",
       "dtype: object"
      ]
     },
     "execution_count": 31,
     "metadata": {},
     "output_type": "execute_result"
    }
   ],
   "source": [
    "sd=sd.drop(labels=['D','B'])\n",
    "sd"
   ]
  },
  {
   "cell_type": "code",
   "execution_count": 32,
   "id": "b53b4c5c",
   "metadata": {},
   "outputs": [
    {
     "data": {
      "text/plain": [
       "1    Data Analysis\n",
       "2    Data Analysis\n",
       "3    Data Analysis\n",
       "4    Data Analysis\n",
       "5    Data Analysis\n",
       "6    Data Analysis\n",
       "dtype: object"
      ]
     },
     "execution_count": 32,
     "metadata": {},
     "output_type": "execute_result"
    }
   ],
   "source": [
    "sd5 = pd.Series('Data Analysis',index=[1,2,3,4,5,6])\n",
    "sd5"
   ]
  },
  {
   "cell_type": "code",
   "execution_count": 33,
   "id": "4bb2fdad",
   "metadata": {},
   "outputs": [
    {
     "data": {
      "text/plain": [
       "1    10\n",
       "2    20\n",
       "3    30\n",
       "4    40\n",
       "5    50\n",
       "dtype: int64"
      ]
     },
     "execution_count": 33,
     "metadata": {},
     "output_type": "execute_result"
    }
   ],
   "source": [
    "pd.Series([10,20,30,40,50],index=np.arange(1,6))"
   ]
  },
  {
   "cell_type": "markdown",
   "id": "680cad72",
   "metadata": {},
   "source": [
    "##### task1: Create Series having index values starts from 10 to 20 and values are squares of index values?"
   ]
  },
  {
   "cell_type": "code",
   "execution_count": 34,
   "id": "c86dcaec",
   "metadata": {},
   "outputs": [
    {
     "data": {
      "text/plain": [
       "10    100\n",
       "11    121\n",
       "12    144\n",
       "13    169\n",
       "14    196\n",
       "15    225\n",
       "16    256\n",
       "17    289\n",
       "18    324\n",
       "19    361\n",
       "20    400\n",
       "dtype: int32"
      ]
     },
     "execution_count": 34,
     "metadata": {},
     "output_type": "execute_result"
    }
   ],
   "source": [
    "s=pd.Series(np.arange(10,21)**2,index=np.arange(10,21))\n",
    "s"
   ]
  },
  {
   "cell_type": "code",
   "execution_count": 37,
   "id": "4c519497",
   "metadata": {},
   "outputs": [
    {
     "data": {
      "text/plain": [
       "11    121\n",
       "17    289\n",
       "10    100\n",
       "15    225\n",
       "dtype: int32"
      ]
     },
     "execution_count": 37,
     "metadata": {},
     "output_type": "execute_result"
    }
   ],
   "source": [
    "# To get the particular index values...\n",
    "# fancy indexing\n",
    "s[[11,17,10,15]]"
   ]
  },
  {
   "cell_type": "code",
   "execution_count": null,
   "id": "f5f578e5",
   "metadata": {},
   "outputs": [],
   "source": []
  }
 ],
 "metadata": {
  "kernelspec": {
   "display_name": "Python 3",
   "language": "python",
   "name": "python3"
  },
  "language_info": {
   "codemirror_mode": {
    "name": "ipython",
    "version": 3
   },
   "file_extension": ".py",
   "mimetype": "text/x-python",
   "name": "python",
   "nbconvert_exporter": "python",
   "pygments_lexer": "ipython3",
   "version": "3.8.8"
  }
 },
 "nbformat": 4,
 "nbformat_minor": 5
}
