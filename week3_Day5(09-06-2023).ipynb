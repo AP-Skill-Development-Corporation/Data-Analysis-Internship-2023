{
 "cells": [
  {
   "cell_type": "markdown",
   "id": "2a50e35b",
   "metadata": {},
   "source": [
    "### Regular Expression:\n",
    "                \n",
    "            - It is a sequence of characters and it is mainly used for pattern matching.\n",
    "            - Here sequence of characters -> string.\n",
    "            - pattern matching -> any character or group of characters\n",
    "            - To extract the data.\n",
    "            - For checking the available data is valid for us or not.\n",
    "            - first we need to import the re package.\n",
    "            - syntax: import re"
   ]
  },
  {
   "cell_type": "code",
   "execution_count": 2,
   "id": "3b2bee58",
   "metadata": {},
   "outputs": [],
   "source": [
    "import re"
   ]
  },
  {
   "cell_type": "markdown",
   "id": "d8b3477e",
   "metadata": {},
   "source": [
    "- 1. search():\n",
    "          - It returns the index position of matching first occurence of given string.\n",
    "          - syntax:\n",
    "                  re.search(pattern,string)"
   ]
  },
  {
   "cell_type": "code",
   "execution_count": 4,
   "id": "251b94d8",
   "metadata": {},
   "outputs": [
    {
     "name": "stdout",
     "output_type": "stream",
     "text": [
      "<re.Match object; span=(0, 1), match='p'>\n",
      "<re.Match object; span=(0, 2), match='py'>\n"
     ]
    }
   ],
   "source": [
    "s1 = \"python programming\"\n",
    "print(re.search('p',s1))\n",
    "print(re.search('py',s1))"
   ]
  },
  {
   "cell_type": "markdown",
   "id": "c56cae1b",
   "metadata": {},
   "source": [
    "- findall():\n",
    "      - It returns the list format of all occurences of given data.\n",
    "      - syntax:\n",
    "               re.findall(pattern,string)"
   ]
  },
  {
   "cell_type": "code",
   "execution_count": 6,
   "id": "19a94fd1",
   "metadata": {},
   "outputs": [
    {
     "name": "stdout",
     "output_type": "stream",
     "text": [
      "['p', 'p', 'p']\n",
      "3\n"
     ]
    }
   ],
   "source": [
    "s1 =\"python programming apssdc\"\n",
    "print(re.findall('p',s1))\n",
    "print(len(re.findall('p',s1)))"
   ]
  },
  {
   "cell_type": "code",
   "execution_count": 8,
   "id": "27af2f9f",
   "metadata": {},
   "outputs": [
    {
     "name": "stdout",
     "output_type": "stream",
     "text": [
      "['apssdc', 'apssdc']\n",
      "2\n"
     ]
    }
   ],
   "source": [
    "s1=\"welcome to apssdc python programming apssdc\"\n",
    "print(re.findall('apssdc',s1))\n",
    "print(len(re.findall('apssdc',s1)))"
   ]
  },
  {
   "cell_type": "code",
   "execution_count": 11,
   "id": "a3b823ce",
   "metadata": {},
   "outputs": [
    {
     "name": "stdout",
     "output_type": "stream",
     "text": [
      "raju\n",
      "ramu\n",
      "madhu\n",
      "ravi\n"
     ]
    }
   ],
   "source": [
    "# To print the names which contains the 'u' and 'v' of a given list?\n",
    "L1 =['raju','nani','ramu','lokesh','nethra','madhu','ravi']\n",
    "for i in L1:\n",
    "    if re.search('u',i) or re.search('v',i):\n",
    "        print(i)"
   ]
  },
  {
   "cell_type": "markdown",
   "id": "b9d9a466",
   "metadata": {},
   "source": [
    "### Special characters in Re"
   ]
  },
  {
   "cell_type": "code",
   "execution_count": 16,
   "id": "d3852390",
   "metadata": {},
   "outputs": [
    {
     "name": "stdout",
     "output_type": "stream",
     "text": [
      "<re.Match object; span=(0, 1), match=' '>\n",
      "<re.Match object; span=(0, 3), match=' py'>\n",
      "<re.Match object; span=(3, 5), match='th'>\n",
      "None\n"
     ]
    }
   ],
   "source": [
    "#.(dot):\n",
    "# any single character expect new line...\n",
    "s1=' python'\n",
    "print(re.search('.',s1))\n",
    "print(re.search('...',s1))\n",
    "print(re.search('t.',s1))\n",
    "print(re.search('.','')) # no stirng "
   ]
  },
  {
   "cell_type": "code",
   "execution_count": 18,
   "id": "78944168",
   "metadata": {},
   "outputs": [
    {
     "name": "stdout",
     "output_type": "stream",
     "text": [
      "<re.Match object; span=(0, 1), match='a'>\n",
      "None\n"
     ]
    }
   ],
   "source": [
    "# ^ -> starts with a character..\n",
    "s1='apssdc python'\n",
    "print(re.search('^a',s1))\n",
    "print(re.search('^b',s1))"
   ]
  },
  {
   "cell_type": "code",
   "execution_count": 19,
   "id": "cc9df158",
   "metadata": {},
   "outputs": [
    {
     "name": "stdout",
     "output_type": "stream",
     "text": [
      "nethra\n",
      "narmada\n"
     ]
    }
   ],
   "source": [
    "# Print the names starts with letter 'n'\n",
    "L2 = ['ramesh','nethra','lokesh','aadyan','krishna','narmada']\n",
    "for i in L2:\n",
    "    if re.search('^n',i):\n",
    "        print(i)"
   ]
  },
  {
   "cell_type": "code",
   "execution_count": 20,
   "id": "9d889cf6",
   "metadata": {},
   "outputs": [
    {
     "name": "stdout",
     "output_type": "stream",
     "text": [
      "<re.Match object; span=(5, 6), match='c'>\n"
     ]
    }
   ],
   "source": [
    "# $-> ends with a character..\n",
    "print(re.search('c$','apssdc'))"
   ]
  },
  {
   "cell_type": "code",
   "execution_count": 22,
   "id": "eae21839",
   "metadata": {},
   "outputs": [
    {
     "name": "stdout",
     "output_type": "stream",
     "text": [
      "nethra\n",
      "krishna\n",
      "narmada\n"
     ]
    }
   ],
   "source": [
    "# Print the names ends with letter 'a'\n",
    "L2 = ['ramesh','nethra','lokesh','aadyan','krishna','narmada']\n",
    "for i in L2:\n",
    "    if re.search('a$',i):\n",
    "        print(i)"
   ]
  },
  {
   "cell_type": "code",
   "execution_count": 25,
   "id": "cfb66a68",
   "metadata": {},
   "outputs": [
    {
     "name": "stdout",
     "output_type": "stream",
     "text": [
      "456\n",
      "546\n"
     ]
    }
   ],
   "source": [
    "L3=['543264326','456','6735635456','546','63456754375']\n",
    "# To print the only three digits numbers..\n",
    "for i in L3:\n",
    "    if(re.search('^...$',i)):\n",
    "        print(i)"
   ]
  },
  {
   "cell_type": "code",
   "execution_count": 27,
   "id": "2396a4fe",
   "metadata": {},
   "outputs": [
    {
     "name": "stdout",
     "output_type": "stream",
     "text": [
      "<re.Match object; span=(7, 8), match='1'>\n",
      "['1', '3', '2', '1', '1', '2', '1', '3']\n"
     ]
    }
   ],
   "source": [
    "#\\d: only single digit..\n",
    "s1=\"python@1321 programming1213\"\n",
    "print(re.search('\\d',s1))\n",
    "print(re.findall('\\d',s1))"
   ]
  },
  {
   "cell_type": "code",
   "execution_count": 28,
   "id": "7f27b248",
   "metadata": {},
   "outputs": [
    {
     "name": "stdout",
     "output_type": "stream",
     "text": [
      "11\n"
     ]
    }
   ],
   "source": [
    "s1=\"python @programming@34354435435 welcome\"\n",
    "print(len(re.findall('\\d',s1)))"
   ]
  },
  {
   "cell_type": "code",
   "execution_count": 32,
   "id": "c5d87d75",
   "metadata": {},
   "outputs": [
    {
     "name": "stdout",
     "output_type": "stream",
     "text": [
      "<re.Match object; span=(6, 7), match='t'>\n",
      "<re.Match object; span=(1, 2), match='2'>\n",
      "<re.Match object; span=(4, 5), match='p'>\n",
      "<re.Match object; span=(0, 1), match='1'>\n"
     ]
    }
   ],
   "source": [
    "# [] -> set of characters..\n",
    "s1 = '123 python'\n",
    "print(re.search('[th]',s1))\n",
    "print(re.search('[2]',s1))\n",
    "print(re.search('[a-z]',s1))\n",
    "print(re.search('[0-9]',s1))"
   ]
  },
  {
   "cell_type": "code",
   "execution_count": 35,
   "id": "66ec2ba1",
   "metadata": {},
   "outputs": [
    {
     "name": "stdout",
     "output_type": "stream",
     "text": [
      "['p', 'y', 't', 'h', 'o', 'n', 'p', 'r', 'o', 'g', 'r', 'a', 'm', 'm', 'i', 'n', 'g', 'w', 'e', 'l', 'c', 'o', 'm', 'e']\n",
      "---------------------------\n",
      "['1', '3', '4', '2', '3', '4', '6', '7', '8', '7', '9', '8', '0']\n"
     ]
    }
   ],
   "source": [
    "s2=\"python programming@134234 welcome6787980\"\n",
    "# To print the only charcters...\n",
    "print(re.findall('[a-z]',s2))\n",
    "print('---------------------------')\n",
    "print(re.findall('[0-9]',s2))"
   ]
  },
  {
   "cell_type": "code",
   "execution_count": 38,
   "id": "2a32695f",
   "metadata": {},
   "outputs": [
    {
     "name": "stdout",
     "output_type": "stream",
     "text": [
      "['@', '1', '2', '3', '3', '4']\n",
      "['p', 'y', 't', 'h', 'o', 'n', '@']\n",
      "['p', 'y', 't', 'h', 'o', 'n', '1', '2', '3', '3', '4']\n"
     ]
    }
   ],
   "source": [
    "#[^characters]-> except set of characters..\n",
    "s1=\"python@12334\"\n",
    "print(re.findall('[^a-z]',s1))\n",
    "print(re.findall('[^0-9]',s1))\n",
    "print(re.findall('[^@]',s1))"
   ]
  },
  {
   "cell_type": "code",
   "execution_count": 39,
   "id": "68edf50b",
   "metadata": {},
   "outputs": [
    {
     "name": "stdout",
     "output_type": "stream",
     "text": [
      "['p', 'y', 't', 'h', 'o', 'n', '@', ' ', 'p', 'r', 'o', 'g', 'r', 'a', 'm', 'm', 'i', 'n', 'g']\n"
     ]
    }
   ],
   "source": [
    "#\\D: Except digits...\n",
    "s1=\"python@1234 programming\"\n",
    "print(re.findall('\\D',s1))"
   ]
  },
  {
   "cell_type": "code",
   "execution_count": 40,
   "id": "c2dd98f7",
   "metadata": {},
   "outputs": [
    {
     "name": "stdout",
     "output_type": "stream",
     "text": [
      "[' ', ' ', ' ']\n"
     ]
    }
   ],
   "source": [
    "#\\s : only spaces...\n",
    "s1=\"python programming DA internship\"\n",
    "print(re.findall('\\s',s1))"
   ]
  },
  {
   "cell_type": "code",
   "execution_count": 48,
   "id": "5fadfb49",
   "metadata": {},
   "outputs": [
    {
     "name": "stdout",
     "output_type": "stream",
     "text": [
      "['p', 'y', 't', 'h', 'o', 'n', 'p', 'r', 'o', 'g', 'r', 'a', 'm', 'm', 'i', 'n', 'g', 'w', 'e', 'l', 'c', 'o', 'm', 'e', '_']\n"
     ]
    }
   ],
   "source": [
    "#\\S: except the spaces...\n",
    "s1=\"python programming welcome_\"\n",
    "print(re.findall('\\S',s1))"
   ]
  },
  {
   "cell_type": "code",
   "execution_count": 42,
   "id": "bbe073c2",
   "metadata": {},
   "outputs": [
    {
     "name": "stdout",
     "output_type": "stream",
     "text": [
      "['p', 'y', 't', 'h', 'o', 'n', '1', '2', '3']\n"
     ]
    }
   ],
   "source": [
    "#\\w: single identifier..\n",
    "s1=\"python@ 123\"\n",
    "print(re.findall('\\w',s1))"
   ]
  },
  {
   "cell_type": "code",
   "execution_count": 47,
   "id": "2ec8938b",
   "metadata": {},
   "outputs": [
    {
     "name": "stdout",
     "output_type": "stream",
     "text": [
      "['@', ' ', ' ', '+', ' ']\n"
     ]
    }
   ],
   "source": [
    "#\\W: except the identifiers..\n",
    "s1=\"python@1234 programming_ + \"\n",
    "print(re.findall('\\W',s1))"
   ]
  },
  {
   "cell_type": "code",
   "execution_count": null,
   "id": "d51533fb",
   "metadata": {},
   "outputs": [],
   "source": []
  }
 ],
 "metadata": {
  "kernelspec": {
   "display_name": "Python 3",
   "language": "python",
   "name": "python3"
  },
  "language_info": {
   "codemirror_mode": {
    "name": "ipython",
    "version": 3
   },
   "file_extension": ".py",
   "mimetype": "text/x-python",
   "name": "python",
   "nbconvert_exporter": "python",
   "pygments_lexer": "ipython3",
   "version": "3.8.8"
  }
 },
 "nbformat": 4,
 "nbformat_minor": 5
}
