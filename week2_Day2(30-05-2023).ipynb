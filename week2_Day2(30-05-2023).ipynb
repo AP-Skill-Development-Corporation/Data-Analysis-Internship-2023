{
 "cells": [
  {
   "cell_type": "markdown",
   "id": "4a1dfa04",
   "metadata": {},
   "source": [
    "### Tuple:\n",
    "            - It is collection of different data items.\n",
    "            - By using round brackets we can write the tuple in python.\n",
    "            - tuple is immutable."
   ]
  },
  {
   "cell_type": "code",
   "execution_count": 1,
   "id": "11b20250",
   "metadata": {},
   "outputs": [
    {
     "name": "stdout",
     "output_type": "stream",
     "text": [
      "(10, 20, 'python', 56.78)\n",
      "<class 'tuple'>\n"
     ]
    }
   ],
   "source": [
    "# Tuple initialization...\n",
    "t1 = (10,20,'python',56.78)\n",
    "print(t1)\n",
    "print(type(t1))"
   ]
  },
  {
   "cell_type": "code",
   "execution_count": 3,
   "id": "510811af",
   "metadata": {},
   "outputs": [
    {
     "name": "stdout",
     "output_type": "stream",
     "text": [
      "(100,)\n",
      "<class 'tuple'>\n"
     ]
    }
   ],
   "source": [
    "# To store the single value to the tuple...\n",
    "t2 = (100,)\n",
    "print(t2)\n",
    "print(type(t2))"
   ]
  },
  {
   "cell_type": "code",
   "execution_count": 5,
   "id": "93a95c59",
   "metadata": {},
   "outputs": [
    {
     "name": "stdout",
     "output_type": "stream",
     "text": [
      "(10, 20, 30, 40, 'python', 45.67)\n",
      "<class 'tuple'>\n",
      "20\n"
     ]
    }
   ],
   "source": [
    "# To access the tuple values...\n",
    "t1=(10,20,30,40,'python',45.67)\n",
    "print(t1)\n",
    "print(type(t1))\n",
    "print(t1[1])"
   ]
  },
  {
   "cell_type": "code",
   "execution_count": 10,
   "id": "77d75b4b",
   "metadata": {},
   "outputs": [
    {
     "name": "stdout",
     "output_type": "stream",
     "text": [
      "[10, 100, 30, 40, 'python', 45.67]\n",
      "[10, 100, 30, 40, 'python', 45.67]\n",
      "[10, 100, 30, 40, 'python', 45.67]\n",
      "(10, 100, 30, 40, 'python', 45.67)\n"
     ]
    }
   ],
   "source": [
    "# To update the value...\n",
    "print(t1)\n",
    "t1 = list(t1)\n",
    "print(t1)\n",
    "t1[1]=100\n",
    "print(t1)\n",
    "t1 = tuple(t1)\n",
    "print(t1)"
   ]
  },
  {
   "cell_type": "code",
   "execution_count": 12,
   "id": "6fa20970",
   "metadata": {},
   "outputs": [
    {
     "name": "stdout",
     "output_type": "stream",
     "text": [
      "(10, 100, 30, 40, 'python', 45.67)\n",
      "10\n",
      "100\n",
      "30\n",
      "40\n",
      "python\n",
      "45.67\n"
     ]
    }
   ],
   "source": [
    "# To print the tuple values using forloop?\n",
    "print(t1)\n",
    "for i in t1:\n",
    "    print(i)"
   ]
  },
  {
   "cell_type": "code",
   "execution_count": 30,
   "id": "feb9c414",
   "metadata": {
    "collapsed": true
   },
   "outputs": [
    {
     "name": "stdout",
     "output_type": "stream",
     "text": [
      "python\n",
      "java\n",
      "Datastructure\n"
     ]
    }
   ],
   "source": [
    "t1=(23,56,'python',67.90,'java',100,'Datastructure','3454')\n",
    "# only to print the alphabets of string?\n",
    "# output: python,java,data structure .....\n",
    "for i in t1:\n",
    "    i = str(i)\n",
    "    if i.isalpha():\n",
    "        print(i)\n"
   ]
  },
  {
   "cell_type": "markdown",
   "id": "5154def2",
   "metadata": {},
   "source": [
    "### Dictionary:\n",
    "               - It is used to store the different types of data in the format of keys and values. ex: {keyname:value}\n",
    "               - By using curly brackets we can write the dictionary.\n",
    "               - keynames are unique.\n",
    "               - duplication keynames are not allowed.\n",
    "               - By using keyname we can access the dictionary value.\n",
    "               - by 'dict()' to create the empty dicitonary."
   ]
  },
  {
   "cell_type": "code",
   "execution_count": 31,
   "id": "c22ecaeb",
   "metadata": {},
   "outputs": [
    {
     "name": "stdout",
     "output_type": "stream",
     "text": [
      "{}\n",
      "<class 'dict'>\n"
     ]
    }
   ],
   "source": [
    "# To create the empty dictionary?\n",
    "d1 = dict()\n",
    "print(d1)\n",
    "print(type(d1))"
   ]
  },
  {
   "cell_type": "code",
   "execution_count": 33,
   "id": "53060ab6",
   "metadata": {},
   "outputs": [
    {
     "name": "stdout",
     "output_type": "stream",
     "text": [
      "{'name': 'krishna', 'rollno': 510, 'branch': 'cse'}\n",
      "<class 'dict'>\n"
     ]
    }
   ],
   "source": [
    "# To store the mutliple values into a dictionary..\n",
    "d1 ={'name':'krishna','rollno':510,'branch':'cse'}\n",
    "print(d1)\n",
    "print(type(d1))"
   ]
  },
  {
   "cell_type": "code",
   "execution_count": 34,
   "id": "6d056800",
   "metadata": {},
   "outputs": [
    {
     "name": "stdout",
     "output_type": "stream",
     "text": [
      "{'name': ['raju', 'nethra', 'pavan'], 'rollno': [410, 230, 510]}\n",
      "<class 'dict'>\n"
     ]
    }
   ],
   "source": [
    "# To store the multiple students records?\n",
    "d2 ={'name':['raju','nethra','pavan'],'rollno':[410,230,510]}\n",
    "print(d2)\n",
    "print(type(d2))"
   ]
  },
  {
   "cell_type": "code",
   "execution_count": 40,
   "id": "12b2a4c2",
   "metadata": {},
   "outputs": [
    {
     "name": "stdout",
     "output_type": "stream",
     "text": [
      "{'name': 'krishna', 'rollno': 510, 'branch': 'cse'}\n",
      "krishna\n",
      "['raju', 'nethra', 'pavan']\n",
      "nethra\n"
     ]
    }
   ],
   "source": [
    "# To access the key values by using keyname?\n",
    "print(d1)\n",
    "print(d1['name'])\n",
    "print(d2['name'])\n",
    "print(d2['name'][1]) # To access the specific value..."
   ]
  },
  {
   "cell_type": "code",
   "execution_count": 42,
   "id": "d2fa8918",
   "metadata": {},
   "outputs": [
    {
     "name": "stdout",
     "output_type": "stream",
     "text": [
      "{'name': 'krishna', 'rollno': 510, 'branch': 'cse'}\n",
      "{'name': 'krishna', 'rollno': 423, 'branch': 'cse'}\n"
     ]
    }
   ],
   "source": [
    "# To update the specific value in a dicitonary...\n",
    "print(d1)\n",
    "d1['rollno']=423\n",
    "print(d1)"
   ]
  },
  {
   "cell_type": "code",
   "execution_count": 44,
   "id": "3069fdd3",
   "metadata": {},
   "outputs": [
    {
     "name": "stdout",
     "output_type": "stream",
     "text": [
      "{'name': 'krishna', 'rollno': 423, 'branch': 'cse'}\n",
      "{'name': 'krishna', 'rollno': 423, 'branch': 'cse', 'marks': 68}\n"
     ]
    }
   ],
   "source": [
    "# To add to new item into a dictionary...item ={'keyname':'value'}\n",
    "print(d1)\n",
    "d1['marks']=68\n",
    "print(d1)"
   ]
  },
  {
   "cell_type": "code",
   "execution_count": 51,
   "id": "faa3cdf8",
   "metadata": {},
   "outputs": [
    {
     "name": "stdout",
     "output_type": "stream",
     "text": [
      "{'name': 'krishna', 'rollno': 423, 'branch': 'cse', 'marks': 68}\n",
      "name krishna\n",
      "rollno 423\n",
      "branch cse\n",
      "marks 68\n"
     ]
    }
   ],
   "source": [
    "# To print the dicitonary of data using forloop?\n",
    "print(d1)\n",
    "# output: name krishna\n",
    "for i in d1:\n",
    "    print(i,d1[i]) # print only keynames"
   ]
  },
  {
   "cell_type": "code",
   "execution_count": 52,
   "id": "c77ab961",
   "metadata": {},
   "outputs": [
    {
     "name": "stdout",
     "output_type": "stream",
     "text": [
      "['__class__', '__contains__', '__delattr__', '__delitem__', '__dir__', '__doc__', '__eq__', '__format__', '__ge__', '__getattribute__', '__getitem__', '__gt__', '__hash__', '__init__', '__init_subclass__', '__iter__', '__le__', '__len__', '__lt__', '__ne__', '__new__', '__reduce__', '__reduce_ex__', '__repr__', '__reversed__', '__setattr__', '__setitem__', '__sizeof__', '__str__', '__subclasshook__', 'clear', 'copy', 'fromkeys', 'get', 'items', 'keys', 'pop', 'popitem', 'setdefault', 'update', 'values']\n"
     ]
    }
   ],
   "source": [
    "# To print the dictionary..\n",
    "print(dir(d1))"
   ]
  },
  {
   "cell_type": "code",
   "execution_count": 53,
   "id": "50890033",
   "metadata": {},
   "outputs": [
    {
     "name": "stdout",
     "output_type": "stream",
     "text": [
      "{'name': 'krishna', 'rollno': 423, 'branch': 'cse', 'marks': 68}\n",
      "dict_keys(['name', 'rollno', 'branch', 'marks'])\n"
     ]
    }
   ],
   "source": [
    "# keys(): To print only keynames..\n",
    "print(d1)\n",
    "print(d1.keys())"
   ]
  },
  {
   "cell_type": "code",
   "execution_count": 54,
   "id": "cba09e37",
   "metadata": {},
   "outputs": [
    {
     "name": "stdout",
     "output_type": "stream",
     "text": [
      "{'name': 'krishna', 'rollno': 423, 'branch': 'cse', 'marks': 68}\n",
      "dict_values(['krishna', 423, 'cse', 68])\n"
     ]
    }
   ],
   "source": [
    "# values(): To print the only values...\n",
    "print(d1)\n",
    "print(d1.values())"
   ]
  },
  {
   "cell_type": "code",
   "execution_count": 55,
   "id": "ed27ad2b",
   "metadata": {},
   "outputs": [
    {
     "name": "stdout",
     "output_type": "stream",
     "text": [
      "dict_items([('name', 'krishna'), ('rollno', 423), ('branch', 'cse'), ('marks', 68)])\n"
     ]
    }
   ],
   "source": [
    "# items(): to print the keyname and value\n",
    "print(d1.items())"
   ]
  },
  {
   "cell_type": "code",
   "execution_count": 56,
   "id": "49c28ce1",
   "metadata": {},
   "outputs": [
    {
     "name": "stdout",
     "output_type": "stream",
     "text": [
      "name krishna\n",
      "rollno 423\n",
      "branch cse\n",
      "marks 68\n"
     ]
    }
   ],
   "source": [
    "for i,j in d1.items():\n",
    "    print(i,j)\n",
    "    # i -> keynames, j-> values"
   ]
  },
  {
   "cell_type": "code",
   "execution_count": 58,
   "id": "33bcc590",
   "metadata": {},
   "outputs": [
    {
     "name": "stdout",
     "output_type": "stream",
     "text": [
      "{'name': 'krishna', 'rollno': 423, 'branch': 'cse', 'marks': 68}\n",
      "cse\n"
     ]
    }
   ],
   "source": [
    "# get() : To print the specific value based on keyname..\n",
    "print(d1)\n",
    "print(d1.get('branch'))"
   ]
  },
  {
   "cell_type": "code",
   "execution_count": 60,
   "id": "c339ec16",
   "metadata": {},
   "outputs": [
    {
     "name": "stdout",
     "output_type": "stream",
     "text": [
      "{'name': 'krishna', 'rollno': 423, 'branch': 'cse', 'marks': 68}\n",
      "{'name': 'krishna', 'rollno': 423, 'branch': 'cse', 'marks': 68, 'age': 25}\n"
     ]
    }
   ],
   "source": [
    "#setdefault(): To add new item to end of the dictionary..\n",
    "print(d1)\n",
    "d1.setdefault('age',25)\n",
    "print(d1)"
   ]
  },
  {
   "cell_type": "code",
   "execution_count": 62,
   "id": "0885b05b",
   "metadata": {},
   "outputs": [
    {
     "name": "stdout",
     "output_type": "stream",
     "text": [
      "{'name': 'krishna', 'rollno': 423, 'branch': 'cse', 'marks': 68, 'age': 25}\n",
      "{'name': 'krishna', 'rollno': 423, 'branch': 'ece', 'marks': 68, 'age': 25}\n"
     ]
    }
   ],
   "source": [
    "# update(): To update the value..\n",
    "print(d1)\n",
    "d1.update({'branch':'ece'})\n",
    "print(d1)"
   ]
  },
  {
   "cell_type": "code",
   "execution_count": 64,
   "id": "8d0115ed",
   "metadata": {},
   "outputs": [
    {
     "name": "stdout",
     "output_type": "stream",
     "text": [
      "{'name': 'krishna', 'rollno': 423, 'branch': 'ece', 'marks': 68, 'age': 25}\n",
      "{'name': 'krishna', 'rollno': 423, 'marks': 68, 'age': 25}\n"
     ]
    }
   ],
   "source": [
    "# pop(): To delete an item from a dictionary using keyname..\n",
    "print(d1)\n",
    "d1.pop('branch')\n",
    "print(d1)"
   ]
  },
  {
   "cell_type": "code",
   "execution_count": 66,
   "id": "a2dc7f82",
   "metadata": {},
   "outputs": [
    {
     "name": "stdout",
     "output_type": "stream",
     "text": [
      "{'name': 'krishna', 'rollno': 423, 'marks': 68, 'age': 25}\n",
      "{'name': 'krishna', 'rollno': 423, 'marks': 68}\n"
     ]
    }
   ],
   "source": [
    "# popitem(): To delete the last item from a dictionary...\n",
    "print(d1)\n",
    "d1.popitem()\n",
    "print(d1)"
   ]
  },
  {
   "cell_type": "code",
   "execution_count": 67,
   "id": "2ef9dcfe",
   "metadata": {},
   "outputs": [
    {
     "name": "stdout",
     "output_type": "stream",
     "text": [
      "{'sname': None, 'sid': None, 'smarks': None}\n"
     ]
    }
   ],
   "source": [
    "# fromkeys(): TO create the new ditionary with keynames...\n",
    "d5 = dict.fromkeys(['sname','sid','smarks'])\n",
    "print(d5)"
   ]
  },
  {
   "cell_type": "code",
   "execution_count": 69,
   "id": "aa81241b",
   "metadata": {},
   "outputs": [
    {
     "name": "stdout",
     "output_type": "stream",
     "text": [
      "{'name': 'krishna', 'rollno': 423, 'marks': 68}\n",
      "{'name': 'krishna', 'rollno': 423, 'marks': 68}\n"
     ]
    }
   ],
   "source": [
    "# copy(): To copy the data from one dicitonary to another dictionary.\n",
    "print(d1)\n",
    "d3 = d1.copy()\n",
    "print(d3)"
   ]
  },
  {
   "cell_type": "code",
   "execution_count": 71,
   "id": "b54f12a7",
   "metadata": {},
   "outputs": [
    {
     "name": "stdout",
     "output_type": "stream",
     "text": [
      "{'name': 'krishna', 'rollno': 423, 'marks': 68}\n",
      "{}\n"
     ]
    }
   ],
   "source": [
    "#clear(): To clear the data from a dictionary...\n",
    "print(d3)\n",
    "d3.clear()\n",
    "print(d3)"
   ]
  },
  {
   "cell_type": "code",
   "execution_count": 72,
   "id": "9145631c",
   "metadata": {},
   "outputs": [
    {
     "name": "stdout",
     "output_type": "stream",
     "text": [
      "{'apple': 'APPLE', 'banana': 'BANANA', 'mango': 'MANGO', 'orange': 'ORANGE'}\n"
     ]
    }
   ],
   "source": [
    "L1 = ['apple','banana','mango','orange']\n",
    "# output: {'apple':APPLE,'banana':'BANANA','mango':'MANGO'....}\n",
    "d4 = {}\n",
    "for i in L1:\n",
    "    d4[i] = i.upper()\n",
    "print(d4)"
   ]
  },
  {
   "cell_type": "code",
   "execution_count": 73,
   "id": "2920696b",
   "metadata": {},
   "outputs": [
    {
     "name": "stdout",
     "output_type": "stream",
     "text": [
      "{'w': 3, 'e': 4, 'l': 2, 'c': 3, 'o': 7, 'm': 2, ' ': 6, 't': 3, 'p': 4, 'y': 2, 'h': 3, 'n': 2, 'r': 1, 'k': 1, 's': 3, 'a': 1, 'd': 1}\n"
     ]
    }
   ],
   "source": [
    "s = \"welcome to python workshop python welcome apssdc\"\n",
    "# To print the character frequency?\n",
    "# output: d1 = {'w':3,.......}\n",
    "d6 = {}\n",
    "for i in s:\n",
    "    d6[i]=s.count(i)\n",
    "print(d6)"
   ]
  },
  {
   "cell_type": "markdown",
   "id": "e0a5691c",
   "metadata": {},
   "source": [
    "### task:\n",
    "1. L1 = ['wipro','tcs','ibm','apssdc python']\n",
    "To print the each string first character will be converted uppercase using dicitonary?\n",
    "output: {'wipro':'Wipro',....}\n",
    "2. d1={1:20,2:45,3:56,4:79,5:11,6:100}\n",
    "- To print the only the even value of item...\n",
    "- output: {1:20,3:56,6:100}"
   ]
  },
  {
   "cell_type": "markdown",
   "id": "dfbf6f17",
   "metadata": {},
   "source": [
    "### set:\n",
    "        - It is collection of different data types.\n",
    "        - set is unordered and unindexed.\n",
    "        - duplication of data not allowed in the set.\n",
    "        - we can't access the set values.."
   ]
  },
  {
   "cell_type": "code",
   "execution_count": 74,
   "id": "2ab0b8d4",
   "metadata": {},
   "outputs": [
    {
     "name": "stdout",
     "output_type": "stream",
     "text": [
      "set()\n",
      "<class 'set'>\n"
     ]
    }
   ],
   "source": [
    "# To create the empty set..\n",
    "s1 = set()\n",
    "print(s1)\n",
    "print(type(s1))"
   ]
  },
  {
   "cell_type": "code",
   "execution_count": 77,
   "id": "ed18b7fe",
   "metadata": {},
   "outputs": [
    {
     "name": "stdout",
     "output_type": "stream",
     "text": [
      "{100, 10, 20, 30}\n"
     ]
    }
   ],
   "source": [
    "# To store the data into a set?\n",
    "s1 ={10,20,10,30,20,100,10}\n",
    "print(s1)"
   ]
  },
  {
   "cell_type": "code",
   "execution_count": 76,
   "id": "690ffba4",
   "metadata": {},
   "outputs": [
    {
     "name": "stdout",
     "output_type": "stream",
     "text": [
      "(10, 20, 10, 30, 20, 100, 10)\n"
     ]
    }
   ],
   "source": [
    "t1 =(10,20,10,30,20,100,10)\n",
    "print(t1)"
   ]
  },
  {
   "cell_type": "code",
   "execution_count": null,
   "id": "1636b49e",
   "metadata": {},
   "outputs": [],
   "source": []
  }
 ],
 "metadata": {
  "kernelspec": {
   "display_name": "Python 3",
   "language": "python",
   "name": "python3"
  },
  "language_info": {
   "codemirror_mode": {
    "name": "ipython",
    "version": 3
   },
   "file_extension": ".py",
   "mimetype": "text/x-python",
   "name": "python",
   "nbconvert_exporter": "python",
   "pygments_lexer": "ipython3",
   "version": "3.8.8"
  }
 },
 "nbformat": 4,
 "nbformat_minor": 5
}
