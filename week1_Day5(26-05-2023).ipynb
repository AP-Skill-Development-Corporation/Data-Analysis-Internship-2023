{
 "cells": [
  {
   "cell_type": "markdown",
   "id": "78582aed",
   "metadata": {},
   "source": [
    "- 1. membership operators:(in,not in)\n",
    "- 2. Identity operators:(is,is not)\n",
    "    - It is mainly used for sequenece of data like.., (list,tuple,dicitonary,set,strings)\n",
    "    - It returns the boolean values like.., True or False."
   ]
  },
  {
   "cell_type": "code",
   "execution_count": 4,
   "id": "c7339bef",
   "metadata": {},
   "outputs": [
    {
     "name": "stdout",
     "output_type": "stream",
     "text": [
      "False\n",
      "True\n",
      "True\n",
      "False\n"
     ]
    }
   ],
   "source": [
    "# 1. membership operators: in , not in\n",
    "L1 = [10,23,56,19]\n",
    "print(20 in L1)\n",
    "print(56 in L1)\n",
    "print(100 not in L1)\n",
    "print(23 not in L1)"
   ]
  },
  {
   "cell_type": "code",
   "execution_count": 6,
   "id": "05383800",
   "metadata": {},
   "outputs": [
    {
     "name": "stdout",
     "output_type": "stream",
     "text": [
      "True\n",
      "False\n"
     ]
    }
   ],
   "source": [
    "# identity operators:(is,is not) (equal , not equal)\n",
    "s1 ='abc'\n",
    "s2='abc'\n",
    "print(s1 is s2)\n",
    "print(s1 is not s2)"
   ]
  },
  {
   "cell_type": "markdown",
   "id": "997b48f7",
   "metadata": {},
   "source": [
    "### Control structures:\n",
    "            - It is used to control the flow of execution in a program.\n",
    "            - In python we have three types of control structures.\n",
    "            - 1. conditional statements\n",
    "            - 2. looping/Iteration statements\n",
    "            - 3. control statements\n",
    "- 1. Conditional statements:\n",
    "        - To check the condition.\n",
    "        - 1. if-else\n",
    "        - syntax:\n",
    "                  if(condition):(comparision,logical operators)\n",
    "                      statements\n",
    "                  else:\n",
    "                      statements"
   ]
  },
  {
   "cell_type": "code",
   "execution_count": 8,
   "id": "95d79fbd",
   "metadata": {},
   "outputs": [
    {
     "name": "stdout",
     "output_type": "stream",
     "text": [
      "Enter n value: -10\n",
      "-10 is a negative number\n"
     ]
    }
   ],
   "source": [
    "# To check whether the given number is positive number or not?\n",
    "n = int(input(\"Enter n value: \"))\n",
    "if(n>0): # always true\n",
    "    print(n,'is a positive number')\n",
    "else:\n",
    "    print(n,'is a negative number')"
   ]
  },
  {
   "cell_type": "code",
   "execution_count": 13,
   "id": "c7781180",
   "metadata": {},
   "outputs": [
    {
     "name": "stdout",
     "output_type": "stream",
     "text": [
      "Enter n value: 17\n",
      "It is a odd number\n"
     ]
    }
   ],
   "source": [
    "# TO check whether the given number is even or odd?\n",
    "n = int(input(\"Enter n value: \"))\n",
    "if n%2 == 0:\n",
    "    print(\"It is a even number\")\n",
    "else:\n",
    "    print(\"It is a odd number\")"
   ]
  },
  {
   "cell_type": "markdown",
   "id": "d2fdcc22",
   "metadata": {},
   "source": [
    "### elif syntax:\n",
    "                - if(condition):\n",
    "                    statements\n",
    "                  elif(condition):\n",
    "                      statements\n",
    "                  else:\n",
    "                      statements"
   ]
  },
  {
   "cell_type": "code",
   "execution_count": 15,
   "id": "ac3b7503",
   "metadata": {},
   "outputs": [
    {
     "name": "stdout",
     "output_type": "stream",
     "text": [
      "Enter a value: 10\n",
      "Enter b value: 23\n",
      "Enter c value: 4\n",
      "b is biggest of a and c\n"
     ]
    }
   ],
   "source": [
    "# To find the biggest of three numbers?\n",
    "a = int(input(\"Enter a value: \"))\n",
    "b = int(input(\"Enter b value: \"))\n",
    "c = int(input(\"Enter c value: \"))\n",
    "if(a>b and a>c):\n",
    "    print('a is biggest of b and c')\n",
    "elif(b>c):\n",
    "    print('b is biggest of a and c')\n",
    "else:\n",
    "    print('c is biggest of a and b')"
   ]
  },
  {
   "cell_type": "markdown",
   "id": "b457c564",
   "metadata": {},
   "source": [
    "### elif ladder:\n",
    "                - if(condition1):\n",
    "                    statements\n",
    "                  elif1(condition2):\n",
    "                      statements\n",
    "                  elif2(condition3):\n",
    "                     \"\n",
    "                     \"\n",
    "                     \"\n",
    "                  else:\n",
    "                      statements"
   ]
  },
  {
   "cell_type": "code",
   "execution_count": 2,
   "id": "be08c63d",
   "metadata": {},
   "outputs": [
    {
     "name": "stdout",
     "output_type": "stream",
     "text": [
      "Enter week day number: 9\n",
      "Your entered invalid week number\n"
     ]
    }
   ],
   "source": [
    "# To print the week days?\n",
    "day = int(input(\"Enter week day number: \"))\n",
    "if(day == 1):\n",
    "    print('sunday')\n",
    "elif(day == 2):\n",
    "    print('Monday')\n",
    "elif(day == 3):\n",
    "    print('Tuesday')\n",
    "elif(day == 4):\n",
    "    print('wensday')\n",
    "elif(day == 5):\n",
    "    print('Thursday')\n",
    "elif(day == 6):\n",
    "    print('Friday')\n",
    "elif(day == 7):\n",
    "    print('satuarday')\n",
    "else:\n",
    "    print(\"Your entered invalid week number\")"
   ]
  },
  {
   "cell_type": "markdown",
   "id": "88e62dd2",
   "metadata": {},
   "source": [
    "### nested if-else:\n",
    "                - if with in a if \n",
    "                - syntax:\n",
    "                          if(condition): # outer if block\n",
    "                              if(condition): # inner if block\n",
    "                                  statements\n",
    "                              else:          # inner else block\n",
    "                                  statements\n",
    "                          else:              # outer else block\n",
    "                                  statements"
   ]
  },
  {
   "cell_type": "code",
   "execution_count": 5,
   "id": "5c422480",
   "metadata": {},
   "outputs": [
    {
     "name": "stdout",
     "output_type": "stream",
     "text": [
      "Enter username: python123@gmail.com\n",
      "Enter password: Apssdc@123\n",
      "successfully login.....\n"
     ]
    }
   ],
   "source": [
    "# simple login page:\n",
    "u = \"python123@gmail.com\"\n",
    "p = \"Apssdc@123\"\n",
    "username = input(\"Enter username: \")\n",
    "if(username == u):\n",
    "    pwd = input(\"Enter password: \")\n",
    "    if(pwd == p):\n",
    "        print('successfully login.....')\n",
    "    else:\n",
    "        print('Your enter invalid password')\n",
    "else:\n",
    "    print('your enter invalid username')"
   ]
  },
  {
   "cell_type": "markdown",
   "id": "787f2c92",
   "metadata": {},
   "source": [
    "### 2. looping/ iteration statements:\n",
    "            - To repeat the same process multiple times until a specific condition satisfies.\n",
    "            - Two types of loops.\n",
    "            - 1. for loop\n",
    "            - 2. while loop\n",
    "- 1. for loop syntax:\n",
    "            for variable_name in range(start,stop,step):\n",
    "                statements\n",
    "            - range function(start,stop,step)\n",
    "            - start value by default as->'0' \n",
    "            - stop value will take the range in size-1.\n",
    "            - step value by dafault as-> '1'\n",
    "-for variable_name any sequence(list,tuple,dicitionary,set,string):\n",
    "    statements"
   ]
  },
  {
   "cell_type": "code",
   "execution_count": 7,
   "id": "0c2605aa",
   "metadata": {},
   "outputs": [
    {
     "name": "stdout",
     "output_type": "stream",
     "text": [
      "1 2 3 4 5 "
     ]
    }
   ],
   "source": [
    "# 1. To print the 1 to 5 natural number?\n",
    "# output: 1 2 3 4 5\n",
    "for i in range(1,6):\n",
    "    print(i,end=\" \")"
   ]
  },
  {
   "cell_type": "code",
   "execution_count": 8,
   "id": "5e975b99",
   "metadata": {},
   "outputs": [
    {
     "name": "stdout",
     "output_type": "stream",
     "text": [
      "Enter n value: 100\n",
      "1 2 3 4 5 6 7 8 9 10 11 12 13 14 15 16 17 18 19 20 21 22 23 24 25 26 27 28 29 30 31 32 33 34 35 36 37 38 39 40 41 42 43 44 45 46 47 48 49 50 51 52 53 54 55 56 57 58 59 60 61 62 63 64 65 66 67 68 69 70 71 72 73 74 75 76 77 78 79 80 81 82 83 84 85 86 87 88 89 90 91 92 93 94 95 96 97 98 99 100 "
     ]
    }
   ],
   "source": [
    "# To print the 1 to n natural numbers?\n",
    "n = int(input(\"Enter n value: \"))\n",
    "for i in range(1,n+1):\n",
    "    print(i,end=\" \")"
   ]
  },
  {
   "cell_type": "code",
   "execution_count": 10,
   "id": "1ae7b28c",
   "metadata": {},
   "outputs": [
    {
     "name": "stdout",
     "output_type": "stream",
     "text": [
      "Enter n value: 10\n",
      "10 9 8 7 6 5 4 3 2 1 0 "
     ]
    }
   ],
   "source": [
    "# To print the 1 to n natural numbers in descending order?\n",
    "n = int(input(\"Enter n value: \"))\n",
    "for i in range(n,-1,-1):\n",
    "    print(i,end=\" \")"
   ]
  },
  {
   "cell_type": "code",
   "execution_count": null,
   "id": "6bca5967",
   "metadata": {},
   "outputs": [],
   "source": [
    "# TO check the whether the given number is prime number or not?\n"
   ]
  },
  {
   "cell_type": "markdown",
   "id": "259b4970",
   "metadata": {},
   "source": [
    "### while loop syntax:\n",
    "      initialization\n",
    "    - while(condition):\n",
    "        statements\n",
    "        increment/decrement"
   ]
  },
  {
   "cell_type": "code",
   "execution_count": 12,
   "id": "65c292e9",
   "metadata": {},
   "outputs": [
    {
     "name": "stdout",
     "output_type": "stream",
     "text": [
      "Enter n value: 123\n",
      "sum is:  6\n",
      "n value is:  0\n"
     ]
    }
   ],
   "source": [
    "# To print the sum of digits of given number?\n",
    "n = int(input(\"Enter n value: \"))\n",
    "s = 0\n",
    "while(n!=0):\n",
    "    r = n%10\n",
    "    s = s+r\n",
    "    n = n//10\n",
    "print('sum is: ',s)\n",
    "print('n value is: ',n)"
   ]
  },
  {
   "cell_type": "code",
   "execution_count": 14,
   "id": "432bc2b8",
   "metadata": {},
   "outputs": [
    {
     "name": "stdout",
     "output_type": "stream",
     "text": [
      "Enter n value: 243254345\n",
      "first digit is: 2\n",
      "last digit is: 5\n"
     ]
    }
   ],
   "source": [
    "# To print the first digit and last digit of given number?\n",
    "# n = 3456\n",
    "# output: first digit is : 3, last digit is: 6\n",
    "n = input(\"Enter n value: \")\n",
    "print('first digit is:',n[0])\n",
    "print('last digit is:',n[-1])"
   ]
  },
  {
   "cell_type": "code",
   "execution_count": 15,
   "id": "bd85ea86",
   "metadata": {},
   "outputs": [
    {
     "name": "stdout",
     "output_type": "stream",
     "text": [
      "last digit is: 4\n",
      "first digit is: 2\n"
     ]
    }
   ],
   "source": [
    "n=234\n",
    "print('last digit is:',n%10)\n",
    "while(n>10):\n",
    "    n = n//10\n",
    "print('first digit is:',n)\n",
    "    "
   ]
  },
  {
   "cell_type": "markdown",
   "id": "86aabbee",
   "metadata": {},
   "source": [
    "- tasks:\n",
    "- 1. To find the biggest of two numbers?\n",
    "- 2. To read the person age to check whether the person age is eligible for vote or not?\n",
    "- 3. To read the one number to check whether the given number is divible by 5 and 11?\n",
    "- 4. To check whether the given character is vowel or consonant?\n",
    "- 5. To print the factors of given number?\n",
    "- 6. TO print the digits to words of given number?\n",
    "- input: n=543\n",
    "- output: five four three\n",
    "- 7. To print the nth multplication table?\n",
    "- 8. To print the 1 to 100 prime numbers?\n",
    "- 9. To print the even digits from a given number?\n",
    "- 10. To print the prime digits from a given number?\n",
    "input: n=237634567\n",
    "output: prime digits is: 2 3 7 3 5 7"
   ]
  }
 ],
 "metadata": {
  "kernelspec": {
   "display_name": "Python 3",
   "language": "python",
   "name": "python3"
  },
  "language_info": {
   "codemirror_mode": {
    "name": "ipython",
    "version": 3
   },
   "file_extension": ".py",
   "mimetype": "text/x-python",
   "name": "python",
   "nbconvert_exporter": "python",
   "pygments_lexer": "ipython3",
   "version": "3.8.8"
  }
 },
 "nbformat": 4,
 "nbformat_minor": 5
}
