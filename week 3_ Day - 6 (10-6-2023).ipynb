{
 "cells": [
  {
   "cell_type": "markdown",
   "id": "174d40b6",
   "metadata": {},
   "source": [
    "### Regular expression\n",
    "\n",
    "- * Zero or more occurrences\n",
    "- + one or more occurrences\n",
    "- {}  exactly the specified number of occurrences "
   ]
  },
  {
   "cell_type": "code",
   "execution_count": 4,
   "id": "91dc900c",
   "metadata": {},
   "outputs": [
    {
     "name": "stdout",
     "output_type": "stream",
     "text": [
      "['phani']\n"
     ]
    }
   ],
   "source": [
    "import re\n",
    "\n",
    "name=\"phani\"\n",
    "\n",
    "\n",
    "x=re.findall(\"ph.*i\",name)\n",
    "print(x)"
   ]
  },
  {
   "cell_type": "code",
   "execution_count": 5,
   "id": "5b364f6d",
   "metadata": {},
   "outputs": [
    {
     "data": {
      "text/plain": [
       "['phanni']"
      ]
     },
     "execution_count": 5,
     "metadata": {},
     "output_type": "execute_result"
    }
   ],
   "source": [
    "s=\"phanni\"\n",
    "x=re.findall(\"ph.*i\",s)\n",
    "x"
   ]
  },
  {
   "cell_type": "code",
   "execution_count": 8,
   "id": "74d5323b",
   "metadata": {},
   "outputs": [
    {
     "name": "stdout",
     "output_type": "stream",
     "text": [
      "['ramu']\n"
     ]
    }
   ],
   "source": [
    "s=\"ramu\"\n",
    "x=re.findall(\"ra.*u\",s)\n",
    "print(x)"
   ]
  },
  {
   "cell_type": "code",
   "execution_count": 9,
   "id": "0ed8a592",
   "metadata": {},
   "outputs": [
    {
     "name": "stdout",
     "output_type": "stream",
     "text": [
      "['ramu']\n"
     ]
    }
   ],
   "source": [
    "s=\"ramu\"\n",
    "x=re.findall(\"ra.+u\",s)\n",
    "print(x)"
   ]
  },
  {
   "cell_type": "code",
   "execution_count": 10,
   "id": "0f74e9b2",
   "metadata": {},
   "outputs": [
    {
     "data": {
      "text/plain": [
       "['phanni']"
      ]
     },
     "execution_count": 10,
     "metadata": {},
     "output_type": "execute_result"
    }
   ],
   "source": [
    "s=\"phanni\"\n",
    "x=re.findall(\"ph.+i\",s)\n",
    "x"
   ]
  },
  {
   "cell_type": "code",
   "execution_count": 17,
   "id": "3fbee3c8",
   "metadata": {},
   "outputs": [
    {
     "data": {
      "text/plain": [
       "['hello']"
      ]
     },
     "execution_count": 17,
     "metadata": {},
     "output_type": "execute_result"
    }
   ],
   "source": [
    "txt=\"hello everyone\"\n",
    "x=re.findall(\"he.{2}o\",txt)\n",
    "x"
   ]
  },
  {
   "cell_type": "code",
   "execution_count": 19,
   "id": "018e326a",
   "metadata": {},
   "outputs": [
    {
     "data": {
      "text/plain": [
       "[]"
      ]
     },
     "execution_count": 19,
     "metadata": {},
     "output_type": "execute_result"
    }
   ],
   "source": [
    "txt=\"helo everyone\"\n",
    "x=re.findall(\"he.{2}o\",txt)\n",
    "x"
   ]
  },
  {
   "cell_type": "code",
   "execution_count": null,
   "id": "19085cfe",
   "metadata": {},
   "outputs": [],
   "source": [
    "# validating indian phone number (india)(starts with 9876)\n",
    "\n",
    "^[6-9][0-9]{9}$  | ^[+][9][1][6-9][0-9]{9}$ | ^[0][6-9][0-9]{9}$"
   ]
  },
  {
   "cell_type": "code",
   "execution_count": 27,
   "id": "22421700",
   "metadata": {},
   "outputs": [
    {
     "name": "stdout",
     "output_type": "stream",
     "text": [
      "False\n",
      "True\n"
     ]
    }
   ],
   "source": [
    "# function to validate a phone number\n",
    "\n",
    "def phoneNumberValidator(number):\n",
    "    pattern='^[6-9][0-9]{9}$|^[+][9][1][6-9][0-9]{9}$|^[0][6-9][0-9]{9}$'\n",
    "    if re.match(pattern,str(number)):\n",
    "        return True\n",
    "    return False\n",
    "print(phoneNumberValidator(95541236854566))\n",
    "print(phoneNumberValidator(8997098765))"
   ]
  },
  {
   "cell_type": "code",
   "execution_count": null,
   "id": "c26c6f66",
   "metadata": {},
   "outputs": [],
   "source": [
    "Email validation( username @domain.extension) \n",
    "\n",
    "- Username\n",
    "    - username length: [6,21]\n",
    "    -  No special characters other than _.\n",
    "    - should not begin or ends with _.\n",
    "    - character set: all digits,lowercase alphabets _.\n",
    "- Domain\n",
    "    - domain length: [3,18]\n",
    "    - no special characters\n",
    "    - character set: all digits,lowercase alphabets \n",
    "    \n",
    "- extension\n",
    "    - extension length: [2,4]\n",
    "    - no special characters\n",
    "    - character set :lowercase alphabets "
   ]
  },
  {
   "cell_type": "code",
   "execution_count": null,
   "id": "71943ffa",
   "metadata": {},
   "outputs": [],
   "source": [
    "^[0-9a-z][0-9a-z_.]{4,13}[0-9a-z][@][a-z0-9]{3,18}[.][a-z]{2,4}$\n",
    "\n",
    "manasa@gmail.com"
   ]
  },
  {
   "cell_type": "code",
   "execution_count": 31,
   "id": "f0a68ec0",
   "metadata": {},
   "outputs": [
    {
     "name": "stdout",
     "output_type": "stream",
     "text": [
      "True\n",
      "False\n"
     ]
    }
   ],
   "source": [
    "# Function to validate Email Id\n",
    "\n",
    "def emailValidator(email):\n",
    "    pattern1='^[0-9a-z][0-9a-z_.]{4,13}[0-9a-z][@][a-z0-9]{3,18}[.][a-z]{2,4}$'\n",
    "    if re.match(pattern1,email):\n",
    "        return True\n",
    "    return False\n",
    "\n",
    "print(emailValidator('manohar123@gmail.com'))\n",
    "print(emailValidator('_manohar123@gmail.com'))"
   ]
  },
  {
   "cell_type": "code",
   "execution_count": 32,
   "id": "876a01d4",
   "metadata": {},
   "outputs": [
    {
     "name": "stdout",
     "output_type": "stream",
     "text": [
      "False\n"
     ]
    }
   ],
   "source": [
    "print(emailValidator('man&%$#ohar123@gmail.com'))"
   ]
  },
  {
   "cell_type": "markdown",
   "id": "fc6e3be7",
   "metadata": {},
   "source": [
    "### contacts Application\n",
    "\n",
    "* Add contact\n",
    "* search for contact\n",
    "* list all contacts\n",
    "* Modify the contact\n",
    "* Delete the contact"
   ]
  },
  {
   "cell_type": "code",
   "execution_count": 24,
   "id": "b414089c",
   "metadata": {},
   "outputs": [
    {
     "name": "stdout",
     "output_type": "stream",
     "text": [
      "contact  added  name1\n"
     ]
    }
   ],
   "source": [
    "# add contact\n",
    "contacts={}\n",
    "def addContact(name,phone):\n",
    "    if name not in contacts:  # verifying if contacts doesnot already exist in dictionary\n",
    "        contacts[name]=phone\n",
    "        print(\"contact  added \", name)\n",
    "    else:\n",
    "        print(\"contacts  already exist\", name)\n",
    "        \n",
    "addContact(\"name1\",\"9878979878\")"
   ]
  },
  {
   "cell_type": "code",
   "execution_count": 25,
   "id": "f393c462",
   "metadata": {},
   "outputs": [
    {
     "data": {
      "text/plain": [
       "dict"
      ]
     },
     "execution_count": 25,
     "metadata": {},
     "output_type": "execute_result"
    }
   ],
   "source": [
    "type(contacts)"
   ]
  },
  {
   "cell_type": "code",
   "execution_count": 26,
   "id": "eeb9be17",
   "metadata": {},
   "outputs": [
    {
     "data": {
      "text/plain": [
       "{'name1': '9878979878'}"
      ]
     },
     "execution_count": 26,
     "metadata": {},
     "output_type": "execute_result"
    }
   ],
   "source": [
    "contacts"
   ]
  },
  {
   "cell_type": "code",
   "execution_count": 27,
   "id": "cbd0de05",
   "metadata": {},
   "outputs": [
    {
     "name": "stdout",
     "output_type": "stream",
     "text": [
      "contact  added  name2\n"
     ]
    }
   ],
   "source": [
    "addContact(\"name2\",\"7878979878\")"
   ]
  },
  {
   "cell_type": "code",
   "execution_count": 28,
   "id": "3cc721c3",
   "metadata": {},
   "outputs": [
    {
     "data": {
      "text/plain": [
       "{'name1': '9878979878', 'name2': '7878979878'}"
      ]
     },
     "execution_count": 28,
     "metadata": {},
     "output_type": "execute_result"
    }
   ],
   "source": [
    "contacts"
   ]
  },
  {
   "cell_type": "code",
   "execution_count": 29,
   "id": "3f6553ba",
   "metadata": {},
   "outputs": [
    {
     "name": "stdout",
     "output_type": "stream",
     "text": [
      "name1 : 9878979878\n"
     ]
    }
   ],
   "source": [
    "# search contact\n",
    "\n",
    "def searchContact(name):\n",
    "    if name in contacts:\n",
    "        print(name,\":\",contacts[name])\n",
    "    else:\n",
    "        print(\"does not exist\",name)\n",
    "\n",
    "\n",
    "searchContact(\"name1\")   "
   ]
  },
  {
   "cell_type": "code",
   "execution_count": 30,
   "id": "2d558a29",
   "metadata": {},
   "outputs": [
    {
     "name": "stdout",
     "output_type": "stream",
     "text": [
      "does not exist name8\n"
     ]
    }
   ],
   "source": [
    "searchContact(\"name8\")  "
   ]
  },
  {
   "cell_type": "code",
   "execution_count": 31,
   "id": "e18029af",
   "metadata": {},
   "outputs": [],
   "source": [
    "# modify contacts  -> edit number of a contact name\n",
    "# deleting contacts from a dictionary"
   ]
  },
  {
   "cell_type": "code",
   "execution_count": 32,
   "id": "f9e9d144",
   "metadata": {},
   "outputs": [
    {
     "name": "stdout",
     "output_type": "stream",
     "text": [
      "name1 : 8067986758\n"
     ]
    }
   ],
   "source": [
    "# modify contacts  -> edit number of a contact name\n",
    "\n",
    "def modifycontact(name):\n",
    "    if name in contacts:\n",
    "        contacts[name]='8067986758'\n",
    "        print(name,\":\",contacts[name])\n",
    "    else:\n",
    "        print(\" name does not exist\")\n",
    "    \n",
    "modifycontact(\"name1\")"
   ]
  },
  {
   "cell_type": "code",
   "execution_count": 33,
   "id": "1582af9b",
   "metadata": {},
   "outputs": [
    {
     "name": "stdout",
     "output_type": "stream",
     "text": [
      "dict_items([('name1', '8067986758'), ('name2', '7878979878')])\n"
     ]
    }
   ],
   "source": [
    "# display all contacts\n",
    "\n",
    "def allcontacts():\n",
    "    print(contacts.items())\n",
    "    \n",
    "    \n",
    "allcontacts()"
   ]
  },
  {
   "cell_type": "code",
   "execution_count": 34,
   "id": "8054ae26",
   "metadata": {},
   "outputs": [
    {
     "data": {
      "text/plain": [
       "dict_items([('name1', '8067986758'), ('name2', '7878979878')])"
      ]
     },
     "execution_count": 34,
     "metadata": {},
     "output_type": "execute_result"
    }
   ],
   "source": [
    " contacts.items()"
   ]
  },
  {
   "cell_type": "code",
   "execution_count": 35,
   "id": "24ea7c32",
   "metadata": {},
   "outputs": [
    {
     "name": "stdout",
     "output_type": "stream",
     "text": [
      "3 contacts added successfully\n"
     ]
    }
   ],
   "source": [
    "# New contacts is given as a dictionary\n",
    "# merge new contacts with existing contacts\n",
    "\n",
    "newContacts={\"name3\":9086675567,\"name4\":8976776543,\"name5\":7868998765}\n",
    "\n",
    "def mergeContacts(newContacts):\n",
    "    contacts.update(newContacts)\n",
    "    print(len(newContacts.keys()),\"contacts added successfully\")\n",
    "    return\n",
    "\n",
    "mergeContacts(newContacts)"
   ]
  },
  {
   "cell_type": "code",
   "execution_count": 36,
   "id": "55646bbb",
   "metadata": {},
   "outputs": [
    {
     "data": {
      "text/plain": [
       "dict_items([('name1', '8067986758'), ('name2', '7878979878'), ('name3', 9086675567), ('name4', 8976776543), ('name5', 7868998765)])"
      ]
     },
     "execution_count": 36,
     "metadata": {},
     "output_type": "execute_result"
    }
   ],
   "source": [
    "contacts.items()"
   ]
  },
  {
   "cell_type": "code",
   "execution_count": 37,
   "id": "fd2f7fbe",
   "metadata": {},
   "outputs": [
    {
     "name": "stdout",
     "output_type": "stream",
     "text": [
      "contact removed\n"
     ]
    }
   ],
   "source": [
    "# deleting contacts from a dictionary\n",
    "\n",
    "def delete(name):\n",
    "    if name in contacts:\n",
    "        contacts.pop(name)\n",
    "        print(\"contact removed\")\n",
    "    else:\n",
    "        print(\"contacts not exist\")\n",
    "delete(\"name1\")"
   ]
  },
  {
   "cell_type": "code",
   "execution_count": null,
   "id": "c97ee9e7",
   "metadata": {},
   "outputs": [],
   "source": []
  }
 ],
 "metadata": {
  "kernelspec": {
   "display_name": "Python 3 (ipykernel)",
   "language": "python",
   "name": "python3"
  },
  "language_info": {
   "codemirror_mode": {
    "name": "ipython",
    "version": 3
   },
   "file_extension": ".py",
   "mimetype": "text/x-python",
   "name": "python",
   "nbconvert_exporter": "python",
   "pygments_lexer": "ipython3",
   "version": "3.9.13"
  }
 },
 "nbformat": 4,
 "nbformat_minor": 5
}
