{
 "cells": [
  {
   "cell_type": "markdown",
   "id": "fff6a7e1",
   "metadata": {},
   "source": [
    "### Data Analysis\n",
    "\n",
    "* Data : data are facts and statistics  collected together for reference or analysis\n",
    "* Data analysis:\n",
    "    * is a process of obtaining raw data and subsequently converting it into information, useful for decision making\n",
    "    * is a technique to collect,transform and organize data to make future predictions\n",
    "    * all sorts of data analysis, Analyzing the numerical data with numpy,tabular data with pandas, visualization by matplotlib and exploratory data analysis"
   ]
  },
  {
   "cell_type": "markdown",
   "id": "a89aef93",
   "metadata": {},
   "source": [
    "### Data Collection\n",
    "\n",
    "* Primary data:\n",
    "    * refers to first hand data gathered by research himself/herself\n",
    "    * real time data\n",
    "    * Surveys, observations,experiments,questionnaire,personal interviews etc\n",
    "    * Expensive and takes long time\n",
    "    \n",
    "* Secondary data:\n",
    "    * data which is collected by someone else earlier\n",
    "    * past data\n",
    "    * websites,books,journals,articles,internal records,government publications etc\n",
    "    * Economical and takes short time\n",
    "    "
   ]
  },
  {
   "cell_type": "markdown",
   "id": "bb95f712",
   "metadata": {},
   "source": [
    "### Types of data\n",
    "\n",
    "* Structured data: row/columns -> tabular format -> excel file,.csv,.tsv etc\n",
    "* Unstructured data: pictures,videos,text,ppts,pdfs,log files,voices etc\n",
    "* Semi structured data: xml,json,html files {key:value}"
   ]
  },
  {
   "cell_type": "markdown",
   "id": "8f676661",
   "metadata": {},
   "source": [
    "### Data types in statistics\n",
    "\n",
    "* Numerical data - data in the form of numbers\n",
    "    * 1. Discrete data:is a count that involves only integers,can't be subdivided into parts\n",
    "                        * ex: no of students in a class\n",
    "                        * no of workers in a company etc\n",
    "                        \n",
    "    * 2. Continuous data: continuous data could be meaningfully divided into finger levels\n",
    "                          * It can be measured on a scale & have a numerical value\n",
    "                          * height, weight of a children etc\n",
    "                          \n",
    "                          \n",
    "* Categorical data: data made of words\n",
    "    * 1. Nominal data: nominal data is used for labelling variables\n",
    "                        * ex: Gender(women,men),Hair color,Marital status(married,single)\n",
    "    * 2. Ordinal data: data which is placed into some kind of a order by their position on a scale\n",
    "                         * ex: 1st,2nd,3rd persons in a competition\n",
    "                         * economic status: low , medium, high\n",
    "    \n",
    "                        "
   ]
  }
 ],
 "metadata": {
  "kernelspec": {
   "display_name": "Python 3 (ipykernel)",
   "language": "python",
   "name": "python3"
  },
  "language_info": {
   "codemirror_mode": {
    "name": "ipython",
    "version": 3
   },
   "file_extension": ".py",
   "mimetype": "text/x-python",
   "name": "python",
   "nbconvert_exporter": "python",
   "pygments_lexer": "ipython3",
   "version": "3.9.13"
  }
 },
 "nbformat": 4,
 "nbformat_minor": 5
}
