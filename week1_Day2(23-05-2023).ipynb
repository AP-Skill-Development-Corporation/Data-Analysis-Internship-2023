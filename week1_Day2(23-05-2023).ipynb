{
 "cells": [
  {
   "cell_type": "code",
   "execution_count": null,
   "id": "f99fb822",
   "metadata": {},
   "outputs": [],
   "source": [
    "1. To change the cell into code mode to markdown mode: esc+m+enter\n",
    "2. To change the cell into markdown mode to code mode: esc+y+enter\n",
    "3. To run the cell : shift+enter\n",
    "4. To add new cell : esc+b+enter (below)\n",
    "                   : esc+a+enter (above)\n",
    "5. To delete the cell : esc+d+d"
   ]
  },
  {
   "cell_type": "markdown",
   "id": "d7b38c2c",
   "metadata": {},
   "source": [
    "- using '#' symbol we can write the headings\n",
    "- syntax: # symbol followed by space text \n",
    "\n",
    "# heading1\n",
    "## heading2\n",
    "### heading3\n",
    "#### heading4\n",
    "##### heading5\n",
    "###### heading6"
   ]
  },
  {
   "cell_type": "markdown",
   "id": "fbf6f7cd",
   "metadata": {},
   "source": [
    "### text styles:\n",
    "\n",
    "1.bold : using ** symbols\n",
    "\n",
    "**bold text**\n",
    "\n",
    "2.italic : using * symbol\n",
    "\n",
    "*italic text*\n",
    "\n",
    "3.bold and italic : using *** symbol\n",
    "\n",
    "***bold and italic***"
   ]
  },
  {
   "cell_type": "markdown",
   "id": "7b09664f",
   "metadata": {},
   "source": [
    "**bold**               \n",
    "*italic*                     \n",
    "***bold and italic***"
   ]
  },
  {
   "cell_type": "markdown",
   "id": "0a500ce1",
   "metadata": {},
   "source": [
    "### List:\n",
    "- using '*' symbol we can write the unorder list\n",
    "- using digit start from '1' to write the order list\n",
    "    \n",
    "- example on unorder list:\n",
    "\n",
    "* college names:\n",
    "    * VVIT College\n",
    "    * vignan college\n",
    "    * SRIT College\n",
    "    * SVIT college\n",
    "        * CSE \n",
    "        * ECE\n",
    "        * EEE"
   ]
  },
  {
   "cell_type": "markdown",
   "id": "fa08f756",
   "metadata": {},
   "source": [
    "### Unorder list:\n",
    "* College Names:\n",
    "    * VVIT College\n",
    "    * MITS College\n",
    "    * GIER College\n",
    "    * Vignan College\n",
    "    * VRIT College\n",
    "        * cse\n",
    "        * ece\n",
    "        * eee\n",
    "            * 1st year\n",
    "            * 2nd year\n",
    "            * 3rd year\n",
    "            * 4th year\n"
   ]
  },
  {
   "cell_type": "markdown",
   "id": "4f8dfc8b",
   "metadata": {},
   "source": [
    "### order list:\n",
    "\n",
    "1. District Names:\n",
    "    1. Anantapur\n",
    "    2. Guntur\n",
    "    3. krishna\n",
    "        1. MVGR College\n",
    "        2. VR College"
   ]
  },
  {
   "cell_type": "markdown",
   "id": "d0a63077",
   "metadata": {},
   "source": [
    "#### table printing:\n",
    "\n",
    "1.column printing : | (pipe symbol)\n",
    "2.row printing : - (dash symbol)\n",
    "\n",
    "\n",
    "|Name|Rollnumber|branch|\n",
    "|----|----------|------|\n",
    "|abc|510|cse\n"
   ]
  },
  {
   "cell_type": "markdown",
   "id": "d9b65e64",
   "metadata": {},
   "source": [
    "#### image printing:\n",
    "- syntax: ![image name](imagepath)"
   ]
  },
  {
   "cell_type": "markdown",
   "id": "a8310a91",
   "metadata": {},
   "source": [
    "![lord shiva](s1.jpg)"
   ]
  },
  {
   "cell_type": "markdown",
   "id": "7069ec95",
   "metadata": {},
   "source": [
    "### hyper links printing:\n",
    "- syntax: [link name](url path)\n",
    "\n",
    "[google](https://www.google.com/)       \n",
    "[facebook](https://www.facebook.com/)     \n",
    "[whatsapp](https://web.whatsapp.com/)"
   ]
  },
  {
   "cell_type": "code",
   "execution_count": null,
   "id": "38c258df",
   "metadata": {},
   "outputs": [],
   "source": []
  }
 ],
 "metadata": {
  "kernelspec": {
   "display_name": "Python 3",
   "language": "python",
   "name": "python3"
  },
  "language_info": {
   "codemirror_mode": {
    "name": "ipython",
    "version": 3
   },
   "file_extension": ".py",
   "mimetype": "text/x-python",
   "name": "python",
   "nbconvert_exporter": "python",
   "pygments_lexer": "ipython3",
   "version": "3.8.8"
  }
 },
 "nbformat": 4,
 "nbformat_minor": 5
}
