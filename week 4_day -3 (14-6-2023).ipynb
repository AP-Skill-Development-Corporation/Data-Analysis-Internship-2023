{
 "cells": [
  {
   "cell_type": "code",
   "execution_count": 1,
   "id": "3ff99f46",
   "metadata": {},
   "outputs": [],
   "source": [
    "import numpy as np"
   ]
  },
  {
   "cell_type": "markdown",
   "id": "adb462f2",
   "metadata": {},
   "source": [
    "### linspace\n",
    "\n",
    "* returns no of spaces evenly w.r.t to intervals\n",
    "* similar to arange(), instead of step it uses sample number"
   ]
  },
  {
   "cell_type": "code",
   "execution_count": 2,
   "id": "41a8f26c",
   "metadata": {},
   "outputs": [
    {
     "name": "stdout",
     "output_type": "stream",
     "text": [
      "[ 1.          7.33333333 13.66666667 20.        ]\n",
      "<class 'numpy.ndarray'>\n"
     ]
    }
   ],
   "source": [
    "a=np.linspace(1,20,4)\n",
    "print(a)\n",
    "print(type(a))"
   ]
  },
  {
   "cell_type": "markdown",
   "id": "9feef2d3",
   "metadata": {},
   "source": [
    "### Array Initialization\n",
    "\n",
    "* ones() returns a new array of given shape and type,with ones\n",
    "* bydefault datatype float"
   ]
  },
  {
   "cell_type": "code",
   "execution_count": 3,
   "id": "68e17a2e",
   "metadata": {},
   "outputs": [
    {
     "data": {
      "text/plain": [
       "array([1., 1., 1., 1., 1., 1., 1., 1., 1., 1.])"
      ]
     },
     "execution_count": 3,
     "metadata": {},
     "output_type": "execute_result"
    }
   ],
   "source": [
    "np.ones(10)"
   ]
  },
  {
   "cell_type": "code",
   "execution_count": 6,
   "id": "a93d5c0a",
   "metadata": {},
   "outputs": [
    {
     "data": {
      "text/plain": [
       "array([1, 1, 1, 1, 1, 1, 1, 1, 1, 1])"
      ]
     },
     "execution_count": 6,
     "metadata": {},
     "output_type": "execute_result"
    }
   ],
   "source": [
    "np.ones(10,int)   # int"
   ]
  },
  {
   "cell_type": "code",
   "execution_count": 7,
   "id": "713d4519",
   "metadata": {},
   "outputs": [
    {
     "name": "stderr",
     "output_type": "stream",
     "text": [
      "C:\\Users\\meena\\AppData\\Local\\Temp\\ipykernel_4544\\130575635.py:1: DeprecationWarning: `np.int` is a deprecated alias for the builtin `int`. To silence this warning, use `int` by itself. Doing this will not modify any behavior and is safe. When replacing `np.int`, you may wish to use e.g. `np.int64` or `np.int32` to specify the precision. If you wish to review your current use, check the release note link for additional information.\n",
      "Deprecated in NumPy 1.20; for more details and guidance: https://numpy.org/devdocs/release/1.20.0-notes.html#deprecations\n",
      "  b=np.ones([2,2],np.int)\n"
     ]
    },
    {
     "data": {
      "text/plain": [
       "array([[1, 1],\n",
       "       [1, 1]])"
      ]
     },
     "execution_count": 7,
     "metadata": {},
     "output_type": "execute_result"
    }
   ],
   "source": [
    "b=np.ones([2,2],np.int)\n",
    "b"
   ]
  },
  {
   "cell_type": "code",
   "execution_count": 11,
   "id": "6f5dfcae",
   "metadata": {},
   "outputs": [
    {
     "data": {
      "text/plain": [
       "array([[[1.],\n",
       "        [1.]],\n",
       "\n",
       "       [[1.],\n",
       "        [1.]],\n",
       "\n",
       "       [[1.],\n",
       "        [1.]]])"
      ]
     },
     "execution_count": 11,
     "metadata": {},
     "output_type": "execute_result"
    }
   ],
   "source": [
    "c=np.ones((3,2,1))\n",
    "c"
   ]
  },
  {
   "cell_type": "code",
   "execution_count": 12,
   "id": "dc65dc12",
   "metadata": {},
   "outputs": [
    {
     "data": {
      "text/plain": [
       "3"
      ]
     },
     "execution_count": 12,
     "metadata": {},
     "output_type": "execute_result"
    }
   ],
   "source": [
    "c.ndim"
   ]
  },
  {
   "cell_type": "code",
   "execution_count": 13,
   "id": "ca7d4e7f",
   "metadata": {},
   "outputs": [
    {
     "data": {
      "text/plain": [
       "array([0., 0., 0., 0., 0., 0., 0., 0.])"
      ]
     },
     "execution_count": 13,
     "metadata": {},
     "output_type": "execute_result"
    }
   ],
   "source": [
    "np.zeros(8)"
   ]
  },
  {
   "cell_type": "code",
   "execution_count": 15,
   "id": "9e82185d",
   "metadata": {},
   "outputs": [
    {
     "data": {
      "text/plain": [
       "array([[0., 0.],\n",
       "       [0., 0.]])"
      ]
     },
     "execution_count": 15,
     "metadata": {},
     "output_type": "execute_result"
    }
   ],
   "source": [
    "np.zeros([2,2])"
   ]
  },
  {
   "cell_type": "code",
   "execution_count": 17,
   "id": "ff622f1b",
   "metadata": {},
   "outputs": [
    {
     "data": {
      "text/plain": [
       "array([[45, 45],\n",
       "       [45, 45]])"
      ]
     },
     "execution_count": 17,
     "metadata": {},
     "output_type": "execute_result"
    }
   ],
   "source": [
    "b=np.full([2,2],45)  # returns 2*2 array filled with value 45\n",
    "b"
   ]
  },
  {
   "cell_type": "code",
   "execution_count": 18,
   "id": "8ef952fd",
   "metadata": {},
   "outputs": [
    {
     "data": {
      "text/plain": [
       "array([0.00000000e+000, 0.00000000e+000, 0.00000000e+000, 0.00000000e+000,\n",
       "       0.00000000e+000, 7.35169681e-321, 3.11525958e-307, 1.24610723e-306,\n",
       "       0.00000000e+000])"
      ]
     },
     "execution_count": 18,
     "metadata": {},
     "output_type": "execute_result"
    }
   ],
   "source": [
    "np.empty(9)  # random values"
   ]
  },
  {
   "cell_type": "code",
   "execution_count": 19,
   "id": "40cb3268",
   "metadata": {},
   "outputs": [
    {
     "data": {
      "text/plain": [
       "array([[0., 0.],\n",
       "       [0., 0.]])"
      ]
     },
     "execution_count": 19,
     "metadata": {},
     "output_type": "execute_result"
    }
   ],
   "source": [
    "np.empty([2,2])"
   ]
  },
  {
   "cell_type": "code",
   "execution_count": 20,
   "id": "1b1600b3",
   "metadata": {},
   "outputs": [
    {
     "name": "stderr",
     "output_type": "stream",
     "text": [
      "C:\\Users\\meena\\AppData\\Local\\Temp\\ipykernel_4544\\2740599895.py:1: DeprecationWarning: `np.complex` is a deprecated alias for the builtin `complex`. To silence this warning, use `complex` by itself. Doing this will not modify any behavior and is safe. If you specifically wanted the numpy scalar type, use `np.complex128` here.\n",
      "Deprecated in NumPy 1.20; for more details and guidance: https://numpy.org/devdocs/release/1.20.0-notes.html#deprecations\n",
      "  np.empty(15,np.complex)\n"
     ]
    },
    {
     "data": {
      "text/plain": [
       "array([1.07522288e-311+1.07522066e-311j, 0.00000000e+000+0.00000000e+000j,\n",
       "       7.56587583e-307+1.16097020e-028j, 1.26087994e-076+2.04380495e-028j,\n",
       "       8.59813075e-067+1.04917183e-153j, 5.23081515e-143+8.37699872e+169j,\n",
       "       4.01520706e-057+1.82961254e+184j, 9.42395448e-047+1.70098498e+256j,\n",
       "       5.49109388e-143+1.06396443e+224j, 3.96041428e+246+1.16318408e-028j,\n",
       "       2.63352810e-052+4.95592743e-062j, 1.33892789e-075+1.72213685e+184j,\n",
       "       1.01848862e+248+1.16096643e-028j, 9.80058441e+252+7.50189709e+247j,\n",
       "       1.14484251e+243+2.59903827e-144j])"
      ]
     },
     "execution_count": 20,
     "metadata": {},
     "output_type": "execute_result"
    }
   ],
   "source": [
    "np.empty(15,np.complex)"
   ]
  },
  {
   "cell_type": "markdown",
   "id": "1e73ab9d",
   "metadata": {},
   "source": [
    "### eye() - create 2D array with 1's on diagonal and 0's elsewhere"
   ]
  },
  {
   "cell_type": "code",
   "execution_count": 21,
   "id": "e44e9358",
   "metadata": {},
   "outputs": [
    {
     "data": {
      "text/plain": [
       "array([[1., 0.],\n",
       "       [0., 1.]])"
      ]
     },
     "execution_count": 21,
     "metadata": {},
     "output_type": "execute_result"
    }
   ],
   "source": [
    "np.eye(2)"
   ]
  },
  {
   "cell_type": "code",
   "execution_count": 22,
   "id": "7e6e07c5",
   "metadata": {},
   "outputs": [
    {
     "data": {
      "text/plain": [
       "array([[1., 0., 0.],\n",
       "       [0., 1., 0.],\n",
       "       [0., 0., 1.]])"
      ]
     },
     "execution_count": 22,
     "metadata": {},
     "output_type": "execute_result"
    }
   ],
   "source": [
    "np.eye(3)"
   ]
  },
  {
   "cell_type": "code",
   "execution_count": 23,
   "id": "c39175ff",
   "metadata": {},
   "outputs": [
    {
     "data": {
      "text/plain": [
       "array([[0., 1., 0.],\n",
       "       [0., 0., 1.],\n",
       "       [0., 0., 0.]])"
      ]
     },
     "execution_count": 23,
     "metadata": {},
     "output_type": "execute_result"
    }
   ],
   "source": [
    "np.eye(3,k=1)   # k=1 upper diagonal"
   ]
  },
  {
   "cell_type": "code",
   "execution_count": 24,
   "id": "1d86152b",
   "metadata": {},
   "outputs": [
    {
     "data": {
      "text/plain": [
       "array([[1., 0.],\n",
       "       [0., 1.]])"
      ]
     },
     "execution_count": 24,
     "metadata": {},
     "output_type": "execute_result"
    }
   ],
   "source": [
    "np.identity(2)"
   ]
  },
  {
   "cell_type": "code",
   "execution_count": 25,
   "id": "954f3419",
   "metadata": {},
   "outputs": [
    {
     "data": {
      "text/plain": [
       "array([[3, 0, 0],\n",
       "       [0, 4, 0],\n",
       "       [0, 0, 5]])"
      ]
     },
     "execution_count": 25,
     "metadata": {},
     "output_type": "execute_result"
    }
   ],
   "source": [
    "# 3,4,5 as diagonal values\n",
    "\n",
    "np.diag([3,4,5])\n"
   ]
  },
  {
   "cell_type": "code",
   "execution_count": 26,
   "id": "79653160",
   "metadata": {},
   "outputs": [
    {
     "data": {
      "text/plain": [
       "array([10, 20, 30, 40, 50])"
      ]
     },
     "execution_count": 26,
     "metadata": {},
     "output_type": "execute_result"
    }
   ],
   "source": [
    "## array elements accessing - 1D\n",
    "\n",
    "a=np.array([10,20,30,40,50])\n",
    "a"
   ]
  },
  {
   "cell_type": "code",
   "execution_count": 27,
   "id": "490fa822",
   "metadata": {},
   "outputs": [
    {
     "name": "stdout",
     "output_type": "stream",
     "text": [
      "10\n"
     ]
    }
   ],
   "source": [
    "print(a[0])"
   ]
  },
  {
   "cell_type": "code",
   "execution_count": 28,
   "id": "618b0138",
   "metadata": {},
   "outputs": [
    {
     "name": "stdout",
     "output_type": "stream",
     "text": [
      "20\n"
     ]
    }
   ],
   "source": [
    "print(a[1])"
   ]
  },
  {
   "cell_type": "code",
   "execution_count": 29,
   "id": "43264c94",
   "metadata": {},
   "outputs": [
    {
     "name": "stdout",
     "output_type": "stream",
     "text": [
      "30\n"
     ]
    }
   ],
   "source": [
    "print(a[0]+a[1])"
   ]
  },
  {
   "cell_type": "code",
   "execution_count": 30,
   "id": "82f6f5ee",
   "metadata": {},
   "outputs": [
    {
     "data": {
      "text/plain": [
       "array([[1, 2, 3],\n",
       "       [4, 5, 6]])"
      ]
     },
     "execution_count": 30,
     "metadata": {},
     "output_type": "execute_result"
    }
   ],
   "source": [
    "## 2D array\n",
    "\n",
    "l1=[1,2,3]\n",
    "l2=[4,5,6]\n",
    "b=np.array([l1,l2])\n",
    "b\n"
   ]
  },
  {
   "cell_type": "code",
   "execution_count": 31,
   "id": "901f6c8e",
   "metadata": {},
   "outputs": [
    {
     "data": {
      "text/plain": [
       "2"
      ]
     },
     "execution_count": 31,
     "metadata": {},
     "output_type": "execute_result"
    }
   ],
   "source": [
    "b.ndim"
   ]
  },
  {
   "cell_type": "code",
   "execution_count": 32,
   "id": "6e5c4112",
   "metadata": {},
   "outputs": [
    {
     "data": {
      "text/plain": [
       "4"
      ]
     },
     "execution_count": 32,
     "metadata": {},
     "output_type": "execute_result"
    }
   ],
   "source": [
    "# to access 2D array elements\n",
    "\n",
    "b[1,0]   # row index,col index"
   ]
  },
  {
   "cell_type": "code",
   "execution_count": 33,
   "id": "ed5dc1f2",
   "metadata": {},
   "outputs": [
    {
     "data": {
      "text/plain": [
       "4"
      ]
     },
     "execution_count": 33,
     "metadata": {},
     "output_type": "execute_result"
    }
   ],
   "source": [
    "b[1][0]"
   ]
  },
  {
   "cell_type": "code",
   "execution_count": 34,
   "id": "8634697a",
   "metadata": {},
   "outputs": [
    {
     "data": {
      "text/plain": [
       "3"
      ]
     },
     "execution_count": 34,
     "metadata": {},
     "output_type": "execute_result"
    }
   ],
   "source": [
    "b[0,2]"
   ]
  },
  {
   "cell_type": "code",
   "execution_count": 39,
   "id": "e9797c77",
   "metadata": {},
   "outputs": [
    {
     "data": {
      "text/plain": [
       "array([[[10, 20],\n",
       "        [30, 40]],\n",
       "\n",
       "       [[50, 60],\n",
       "        [90, 87]]])"
      ]
     },
     "execution_count": 39,
     "metadata": {},
     "output_type": "execute_result"
    }
   ],
   "source": [
    "# 3D array\n",
    "\n",
    "c=np.array([ [[10,20],[30,40]], [[50,60],[90,87]]])\n",
    "c"
   ]
  },
  {
   "cell_type": "code",
   "execution_count": 36,
   "id": "beb21b01",
   "metadata": {},
   "outputs": [
    {
     "data": {
      "text/plain": [
       "3"
      ]
     },
     "execution_count": 36,
     "metadata": {},
     "output_type": "execute_result"
    }
   ],
   "source": [
    "c.ndim"
   ]
  },
  {
   "cell_type": "code",
   "execution_count": 37,
   "id": "14aa3aea",
   "metadata": {},
   "outputs": [
    {
     "data": {
      "text/plain": [
       "array([[10, 20],\n",
       "       [30, 40]])"
      ]
     },
     "execution_count": 37,
     "metadata": {},
     "output_type": "execute_result"
    }
   ],
   "source": [
    "c[0]"
   ]
  },
  {
   "cell_type": "code",
   "execution_count": 38,
   "id": "82dd7559",
   "metadata": {},
   "outputs": [
    {
     "data": {
      "text/plain": [
       "array([[50, 60],\n",
       "       [90, 87]])"
      ]
     },
     "execution_count": 38,
     "metadata": {},
     "output_type": "execute_result"
    }
   ],
   "source": [
    "c[1]"
   ]
  },
  {
   "cell_type": "code",
   "execution_count": 40,
   "id": "47fcb0cf",
   "metadata": {},
   "outputs": [
    {
     "data": {
      "text/plain": [
       "90"
      ]
     },
     "execution_count": 40,
     "metadata": {},
     "output_type": "execute_result"
    }
   ],
   "source": [
    "c[1,1,0]"
   ]
  },
  {
   "cell_type": "code",
   "execution_count": 41,
   "id": "2cb6f899",
   "metadata": {},
   "outputs": [
    {
     "data": {
      "text/plain": [
       "array([10, 20, 30, 40, 50])"
      ]
     },
     "execution_count": 41,
     "metadata": {},
     "output_type": "execute_result"
    }
   ],
   "source": [
    "# slicing in arrays\n",
    "\n",
    "a"
   ]
  },
  {
   "cell_type": "code",
   "execution_count": 42,
   "id": "0c588130",
   "metadata": {},
   "outputs": [
    {
     "data": {
      "text/plain": [
       "array([20, 30])"
      ]
     },
     "execution_count": 42,
     "metadata": {},
     "output_type": "execute_result"
    }
   ],
   "source": [
    "a[1:3]   #20,30"
   ]
  },
  {
   "cell_type": "code",
   "execution_count": 43,
   "id": "64bf7926",
   "metadata": {},
   "outputs": [
    {
     "data": {
      "text/plain": [
       "array([10, 30, 50])"
      ]
     },
     "execution_count": 43,
     "metadata": {},
     "output_type": "execute_result"
    }
   ],
   "source": [
    "# 10,30,50\n",
    "\n",
    "a[::2]"
   ]
  },
  {
   "cell_type": "code",
   "execution_count": 44,
   "id": "ecad83ed",
   "metadata": {},
   "outputs": [
    {
     "data": {
      "text/plain": [
       "array([20, 40])"
      ]
     },
     "execution_count": 44,
     "metadata": {},
     "output_type": "execute_result"
    }
   ],
   "source": [
    "# 20,40\n",
    "\n",
    "a[1::2]"
   ]
  },
  {
   "cell_type": "code",
   "execution_count": 45,
   "id": "5f4542ae",
   "metadata": {},
   "outputs": [
    {
     "data": {
      "text/plain": [
       "array([50, 40, 30, 20, 10])"
      ]
     },
     "execution_count": 45,
     "metadata": {},
     "output_type": "execute_result"
    }
   ],
   "source": [
    "# reverse of an array\n",
    "\n",
    "a[::-1]"
   ]
  },
  {
   "cell_type": "code",
   "execution_count": 47,
   "id": "1b3f77b1",
   "metadata": {},
   "outputs": [],
   "source": [
    "# create an 2d array with array values as 3\n",
    "\n",
    "a=np.full([2,2],3)"
   ]
  },
  {
   "cell_type": "code",
   "execution_count": 48,
   "id": "6c07f8e6",
   "metadata": {},
   "outputs": [
    {
     "data": {
      "text/plain": [
       "array([[3, 3],\n",
       "       [3, 3]])"
      ]
     },
     "execution_count": 48,
     "metadata": {},
     "output_type": "execute_result"
    }
   ],
   "source": [
    "a"
   ]
  },
  {
   "cell_type": "code",
   "execution_count": 50,
   "id": "e63f1ebd",
   "metadata": {},
   "outputs": [],
   "source": [
    "a[1]=5"
   ]
  },
  {
   "cell_type": "code",
   "execution_count": 51,
   "id": "d8c41411",
   "metadata": {},
   "outputs": [
    {
     "data": {
      "text/plain": [
       "array([[3, 3],\n",
       "       [5, 5]])"
      ]
     },
     "execution_count": 51,
     "metadata": {},
     "output_type": "execute_result"
    }
   ],
   "source": [
    "a"
   ]
  },
  {
   "cell_type": "code",
   "execution_count": 52,
   "id": "cf286d18",
   "metadata": {},
   "outputs": [],
   "source": [
    "a[1][1]=8"
   ]
  },
  {
   "cell_type": "code",
   "execution_count": 53,
   "id": "281a24b5",
   "metadata": {},
   "outputs": [
    {
     "data": {
      "text/plain": [
       "array([[3, 3],\n",
       "       [5, 8]])"
      ]
     },
     "execution_count": 53,
     "metadata": {},
     "output_type": "execute_result"
    }
   ],
   "source": [
    "a"
   ]
  },
  {
   "cell_type": "markdown",
   "id": "0ad53a62",
   "metadata": {},
   "source": [
    "## Array manipulation"
   ]
  },
  {
   "cell_type": "code",
   "execution_count": 56,
   "id": "90edd23a",
   "metadata": {},
   "outputs": [
    {
     "data": {
      "text/plain": [
       "array([[3, 3],\n",
       "       [5, 8]])"
      ]
     },
     "execution_count": 56,
     "metadata": {},
     "output_type": "execute_result"
    }
   ],
   "source": [
    "a"
   ]
  },
  {
   "cell_type": "code",
   "execution_count": 55,
   "id": "978c5d4b",
   "metadata": {},
   "outputs": [
    {
     "data": {
      "text/plain": [
       "array([[[3, 3]],\n",
       "\n",
       "       [[5, 8]]])"
      ]
     },
     "execution_count": 55,
     "metadata": {},
     "output_type": "execute_result"
    }
   ],
   "source": [
    "a.reshape(2,1,2)  #converting 2D into 3D"
   ]
  },
  {
   "cell_type": "code",
   "execution_count": 57,
   "id": "69497c03",
   "metadata": {},
   "outputs": [
    {
     "data": {
      "text/plain": [
       "0.06246710092514318"
      ]
     },
     "execution_count": 57,
     "metadata": {},
     "output_type": "execute_result"
    }
   ],
   "source": [
    "# random\n",
    "\n",
    "np.random.random()   # gives random float b/w o to 1"
   ]
  },
  {
   "cell_type": "code",
   "execution_count": 60,
   "id": "4c3407b2",
   "metadata": {},
   "outputs": [
    {
     "data": {
      "text/plain": [
       "218"
      ]
     },
     "execution_count": 60,
     "metadata": {},
     "output_type": "execute_result"
    }
   ],
   "source": [
    "np.random.randint(780)  # returns a random value in the given range"
   ]
  },
  {
   "cell_type": "code",
   "execution_count": 61,
   "id": "b0e9176b",
   "metadata": {},
   "outputs": [
    {
     "data": {
      "text/plain": [
       "array([31, 45, 36, 57, 35])"
      ]
     },
     "execution_count": 61,
     "metadata": {},
     "output_type": "execute_result"
    }
   ],
   "source": [
    "np.random.randint(20,60,5)  # range,size"
   ]
  },
  {
   "cell_type": "code",
   "execution_count": 62,
   "id": "e1457f52",
   "metadata": {},
   "outputs": [
    {
     "data": {
      "text/plain": [
       "array([[9, 9, 3, 7],\n",
       "       [2, 8, 2, 8]])"
      ]
     },
     "execution_count": 62,
     "metadata": {},
     "output_type": "execute_result"
    }
   ],
   "source": [
    "np.random.randint(2,10,(2,4))  # range, shape"
   ]
  },
  {
   "cell_type": "markdown",
   "id": "fc34b9b8",
   "metadata": {},
   "source": [
    "## fancy indexing or boolean indexing"
   ]
  },
  {
   "cell_type": "code",
   "execution_count": 63,
   "id": "13ba50e9",
   "metadata": {},
   "outputs": [
    {
     "data": {
      "text/plain": [
       "array([41, 86, 58, 56, 47, 41, 50, 44, 49, 15, 43, 17, 74, 95, 35])"
      ]
     },
     "execution_count": 63,
     "metadata": {},
     "output_type": "execute_result"
    }
   ],
   "source": [
    "a=np.random.randint(1,100,15)\n",
    "a"
   ]
  },
  {
   "cell_type": "code",
   "execution_count": 64,
   "id": "e08d9a53",
   "metadata": {},
   "outputs": [
    {
     "data": {
      "text/plain": [
       "array([ True,  True,  True,  True,  True,  True,  True,  True,  True,\n",
       "       False,  True, False,  True,  True, False])"
      ]
     },
     "execution_count": 64,
     "metadata": {},
     "output_type": "execute_result"
    }
   ],
   "source": [
    "a>40"
   ]
  },
  {
   "cell_type": "code",
   "execution_count": 65,
   "id": "eb51fc76",
   "metadata": {},
   "outputs": [
    {
     "data": {
      "text/plain": [
       "array([41, 86, 58, 56, 47, 41, 50, 44, 49, 43, 74, 95])"
      ]
     },
     "execution_count": 65,
     "metadata": {},
     "output_type": "execute_result"
    }
   ],
   "source": [
    "a[a>40]  # boolean indexing"
   ]
  },
  {
   "cell_type": "code",
   "execution_count": 66,
   "id": "ed0dd75f",
   "metadata": {},
   "outputs": [
    {
     "data": {
      "text/plain": [
       "12"
      ]
     },
     "execution_count": 66,
     "metadata": {},
     "output_type": "execute_result"
    }
   ],
   "source": [
    "(a>40).sum()"
   ]
  },
  {
   "cell_type": "code",
   "execution_count": 68,
   "id": "eb9c715c",
   "metadata": {},
   "outputs": [],
   "source": [
    "a[(a>70) & (a<80)]=200   # changing original array elements"
   ]
  },
  {
   "cell_type": "code",
   "execution_count": 69,
   "id": "2ce262ee",
   "metadata": {},
   "outputs": [
    {
     "data": {
      "text/plain": [
       "array([ 41,  86,  58,  56,  47,  41,  50,  44,  49,  15,  43,  17, 200,\n",
       "        95,  35])"
      ]
     },
     "execution_count": 69,
     "metadata": {},
     "output_type": "execute_result"
    }
   ],
   "source": [
    "a"
   ]
  },
  {
   "cell_type": "code",
   "execution_count": 70,
   "id": "31abd3b0",
   "metadata": {},
   "outputs": [],
   "source": [
    "a=np.arange(16)"
   ]
  },
  {
   "cell_type": "code",
   "execution_count": 71,
   "id": "4af168c4",
   "metadata": {},
   "outputs": [
    {
     "data": {
      "text/plain": [
       "array([ 0,  1,  2,  3,  4,  5,  6,  7,  8,  9, 10, 11, 12, 13, 14, 15])"
      ]
     },
     "execution_count": 71,
     "metadata": {},
     "output_type": "execute_result"
    }
   ],
   "source": [
    "a"
   ]
  },
  {
   "cell_type": "code",
   "execution_count": 72,
   "id": "3feaf3bb",
   "metadata": {},
   "outputs": [
    {
     "data": {
      "text/plain": [
       "array([[ 0,  1,  2,  3,  4,  5,  6,  7],\n",
       "       [ 8,  9, 10, 11, 12, 13, 14, 15]])"
      ]
     },
     "execution_count": 72,
     "metadata": {},
     "output_type": "execute_result"
    }
   ],
   "source": [
    "a.reshape(2,8)"
   ]
  },
  {
   "cell_type": "code",
   "execution_count": 74,
   "id": "27ca3b10",
   "metadata": {},
   "outputs": [
    {
     "data": {
      "text/plain": [
       "array([[[ 0,  1,  2,  3],\n",
       "        [ 4,  5,  6,  7]],\n",
       "\n",
       "       [[ 8,  9, 10, 11],\n",
       "        [12, 13, 14, 15]]])"
      ]
     },
     "execution_count": 74,
     "metadata": {},
     "output_type": "execute_result"
    }
   ],
   "source": [
    "a.reshape(2,2,4)"
   ]
  },
  {
   "cell_type": "code",
   "execution_count": 75,
   "id": "3b90924e",
   "metadata": {},
   "outputs": [
    {
     "data": {
      "text/plain": [
       "array([[ 0,  1,  2,  3],\n",
       "       [ 4,  5,  6,  7],\n",
       "       [ 8,  9, 10, 11],\n",
       "       [12, 13, 14, 15]])"
      ]
     },
     "execution_count": 75,
     "metadata": {},
     "output_type": "execute_result"
    }
   ],
   "source": [
    "a.reshape(4,4)"
   ]
  },
  {
   "cell_type": "code",
   "execution_count": 77,
   "id": "e937c404",
   "metadata": {},
   "outputs": [
    {
     "data": {
      "text/plain": [
       "array([[ 0,  1,  2,  3],\n",
       "       [ 4,  5,  6,  7],\n",
       "       [ 8,  9, 10, 11],\n",
       "       [12, 13, 14, 15]])"
      ]
     },
     "execution_count": 77,
     "metadata": {},
     "output_type": "execute_result"
    }
   ],
   "source": [
    "a.reshape(4,-1)"
   ]
  },
  {
   "cell_type": "code",
   "execution_count": 78,
   "id": "fa7e576b",
   "metadata": {},
   "outputs": [
    {
     "data": {
      "text/plain": [
       "array([[ 0,  1,  2,  3],\n",
       "       [ 4,  5,  6,  7],\n",
       "       [ 8,  9, 10, 11],\n",
       "       [12, 13, 14, 15]])"
      ]
     },
     "execution_count": 78,
     "metadata": {},
     "output_type": "execute_result"
    }
   ],
   "source": [
    "a.reshape(-1,4)"
   ]
  },
  {
   "cell_type": "markdown",
   "id": "de8c6109",
   "metadata": {},
   "source": [
    "### vectorization\n",
    "\n",
    "- used to implement array operations without using loops"
   ]
  },
  {
   "cell_type": "code",
   "execution_count": 79,
   "id": "a3521310",
   "metadata": {},
   "outputs": [],
   "source": [
    "def grt(a,b):\n",
    "    if a>b:\n",
    "        return a\n",
    "    else:\n",
    "        return b"
   ]
  },
  {
   "cell_type": "code",
   "execution_count": 80,
   "id": "e5ca28e1",
   "metadata": {},
   "outputs": [
    {
     "data": {
      "text/plain": [
       "65"
      ]
     },
     "execution_count": 80,
     "metadata": {},
     "output_type": "execute_result"
    }
   ],
   "source": [
    "grt(65,43)"
   ]
  },
  {
   "cell_type": "code",
   "execution_count": 81,
   "id": "bea4118d",
   "metadata": {},
   "outputs": [
    {
     "data": {
      "text/plain": [
       "[90, 8, 70]"
      ]
     },
     "execution_count": 81,
     "metadata": {},
     "output_type": "execute_result"
    }
   ],
   "source": [
    "grt([90,8,70],[78,76,67])"
   ]
  },
  {
   "cell_type": "code",
   "execution_count": 82,
   "id": "419caf40",
   "metadata": {},
   "outputs": [
    {
     "data": {
      "text/plain": [
       "array([90, 76, 70])"
      ]
     },
     "execution_count": 82,
     "metadata": {},
     "output_type": "execute_result"
    }
   ],
   "source": [
    "vgrt=np.vectorize(grt)\n",
    "vgrt([90,8,70],[78,76,67])"
   ]
  },
  {
   "cell_type": "code",
   "execution_count": 83,
   "id": "dd9e0a83",
   "metadata": {},
   "outputs": [
    {
     "data": {
      "text/plain": [
       "array([[1, 2],\n",
       "       [3, 4]])"
      ]
     },
     "execution_count": 83,
     "metadata": {},
     "output_type": "execute_result"
    }
   ],
   "source": [
    "a=np.array([[1,2],[3,4]])\n",
    "a"
   ]
  },
  {
   "cell_type": "code",
   "execution_count": 84,
   "id": "8a372f20",
   "metadata": {},
   "outputs": [
    {
     "data": {
      "text/plain": [
       "array([[1., 0.],\n",
       "       [0., 1.]])"
      ]
     },
     "execution_count": 84,
     "metadata": {},
     "output_type": "execute_result"
    }
   ],
   "source": [
    "b=np.identity(2)\n",
    "b"
   ]
  },
  {
   "cell_type": "code",
   "execution_count": 85,
   "id": "2e0d1a00",
   "metadata": {},
   "outputs": [
    {
     "data": {
      "text/plain": [
       "array([[2., 2.],\n",
       "       [3., 5.]])"
      ]
     },
     "execution_count": 85,
     "metadata": {},
     "output_type": "execute_result"
    }
   ],
   "source": [
    "a+b"
   ]
  },
  {
   "cell_type": "code",
   "execution_count": 87,
   "id": "10179ecb",
   "metadata": {},
   "outputs": [
    {
     "data": {
      "text/plain": [
       "array([[1., 0.],\n",
       "       [0., 4.]])"
      ]
     },
     "execution_count": 87,
     "metadata": {},
     "output_type": "execute_result"
    }
   ],
   "source": [
    "a*b  #normal multiplication"
   ]
  },
  {
   "cell_type": "code",
   "execution_count": 88,
   "id": "1518d3f4",
   "metadata": {},
   "outputs": [
    {
     "data": {
      "text/plain": [
       "array([[1., 2.],\n",
       "       [3., 4.]])"
      ]
     },
     "execution_count": 88,
     "metadata": {},
     "output_type": "execute_result"
    }
   ],
   "source": [
    "np.dot(a,b)  # matrix multiplication"
   ]
  },
  {
   "cell_type": "code",
   "execution_count": null,
   "id": "940729d8",
   "metadata": {},
   "outputs": [],
   "source": []
  }
 ],
 "metadata": {
  "kernelspec": {
   "display_name": "Python 3 (ipykernel)",
   "language": "python",
   "name": "python3"
  },
  "language_info": {
   "codemirror_mode": {
    "name": "ipython",
    "version": 3
   },
   "file_extension": ".py",
   "mimetype": "text/x-python",
   "name": "python",
   "nbconvert_exporter": "python",
   "pygments_lexer": "ipython3",
   "version": "3.9.13"
  }
 },
 "nbformat": 4,
 "nbformat_minor": 5
}
