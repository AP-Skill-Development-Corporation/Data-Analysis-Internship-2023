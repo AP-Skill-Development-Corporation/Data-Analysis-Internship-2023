{
 "cells": [
  {
   "cell_type": "markdown",
   "id": "dede4d4d",
   "metadata": {},
   "source": [
    "###  Inheritance:\n",
    "        - Acquiring the properties of parent class to child class.\n",
    "- Four Types of Inheritance:\n",
    "    * 1. Single Inheritance\n",
    "    * 2. Multi-Level Inheritance\n",
    "    * 3. Hierarchical Inheritance\n",
    "    * 4. Multiple Inheritance"
   ]
  },
  {
   "cell_type": "markdown",
   "id": "e94956fe",
   "metadata": {},
   "source": [
    "#### 2. Multi-level Inheritance:\n",
    "       - 1 base class\n",
    "       - 1. derived class\n",
    "       - "
   ]
  },
  {
   "cell_type": "code",
   "execution_count": 1,
   "id": "62cba663",
   "metadata": {},
   "outputs": [
    {
     "name": "stdout",
     "output_type": "stream",
     "text": [
      "Grand Parent\n",
      "parent class\n",
      "child class\n"
     ]
    }
   ],
   "source": [
    "# Multilevel Inheritance example program...\n",
    "# more than one parent and more than one child...\n",
    "class Grandparent:\n",
    "    def gdisplay(self):\n",
    "        print('Grand Parent')\n",
    "class Parent(Grandparent):\n",
    "    def pdisplay(self):\n",
    "        print('parent class')\n",
    "class Child(Parent):\n",
    "    def cdisplay(self):\n",
    "        print('child class')\n",
    "obj1 = Child()\n",
    "obj1.gdisplay()\n",
    "obj1.pdisplay()\n",
    "obj1.cdisplay()"
   ]
  },
  {
   "cell_type": "code",
   "execution_count": 5,
   "id": "b411cf8f",
   "metadata": {},
   "outputs": [
    {
     "name": "stdout",
     "output_type": "stream",
     "text": [
      "parent class\n",
      "Child2 class\n",
      "child1 class\n"
     ]
    }
   ],
   "source": [
    "# 3. Hierarchical Inheritance:\n",
    "# definition: one parent class and more the one child class...\n",
    "\n",
    "class Parent:\n",
    "    def pdisplay(self):\n",
    "        print('parent class')\n",
    "class Child1(Parent):\n",
    "    def c1display(self):\n",
    "        print('child1 class')\n",
    "class Child2(Parent):\n",
    "    def c2display(self):\n",
    "        print('Child2 class')\n",
    "c2 = Child2()\n",
    "c2.pdisplay()\n",
    "c2.c2display()\n",
    "c1 = Child1()\n",
    "c1.c1display()"
   ]
  },
  {
   "cell_type": "code",
   "execution_count": 6,
   "id": "ea9ab14c",
   "metadata": {},
   "outputs": [
    {
     "name": "stdout",
     "output_type": "stream",
     "text": [
      "father class\n",
      "mother class\n",
      "child class\n"
     ]
    }
   ],
   "source": [
    "# Multiple Inheritance:\n",
    "# definition: 2 parent classes and one child class.\n",
    "# two or more -> parents and , 1-> child\n",
    "class father:\n",
    "    def fdisplay(self):\n",
    "        print('father class')\n",
    "class mother:\n",
    "    def mdisplay(self):\n",
    "        print('mother class')\n",
    "class Child(father,mother):\n",
    "    def cdisplay(self):\n",
    "        print('child class')\n",
    "c1=Child()\n",
    "c1.fdisplay()\n",
    "c1.mdisplay()\n",
    "c1.cdisplay()"
   ]
  },
  {
   "cell_type": "code",
   "execution_count": 12,
   "id": "b9efcf17",
   "metadata": {},
   "outputs": [
    {
     "name": "stdout",
     "output_type": "stream",
     "text": [
      "Faculty class...\n",
      "Student2 class\n",
      "Student1 class\n",
      "School class\n"
     ]
    }
   ],
   "source": [
    "#Hybrid Inheritance:\n",
    "# def: Combinition of multi-level and hierarchical inheritance..\n",
    "# example:\n",
    "\n",
    "class School:\n",
    "    def sdisplay(self):\n",
    "        print('School class')\n",
    "class Stu1(School):\n",
    "    def st1display(self):\n",
    "        print('Student1 class')\n",
    "class Stu2(School):\n",
    "    def st2display(self):\n",
    "        print('Student2 class')\n",
    "class Faculty(Stu1,Stu2):\n",
    "    def fadisplay(self):\n",
    "        print('Faculty class...')\n",
    "f1 = Faculty()\n",
    "f1.fadisplay()\n",
    "f1.st2display()\n",
    "f1.st1display()\n",
    "f1.sdisplay()"
   ]
  },
  {
   "cell_type": "markdown",
   "id": "a4ad0ec4",
   "metadata": {},
   "source": [
    "### Polymorphism:\n",
    "            - It create the many fomrs.\n",
    "            - implementing same thing in different ways. "
   ]
  },
  {
   "cell_type": "code",
   "execution_count": 14,
   "id": "589d4bb1",
   "metadata": {},
   "outputs": [
    {
     "name": "stdout",
     "output_type": "stream",
     "text": [
      "apssdcpython\n",
      "445\n"
     ]
    }
   ],
   "source": [
    "# example on polymorphism:\n",
    "# '+'\n",
    "# concatetion or join -> strings\n",
    "# addition of two nnumbers -> numbers\n",
    "s1 ='apssdc'\n",
    "s2 = 'python'\n",
    "print(s1+s2)\n",
    "n = 100\n",
    "m = 345\n",
    "print(n+m)"
   ]
  },
  {
   "cell_type": "code",
   "execution_count": 16,
   "id": "bda4f695",
   "metadata": {},
   "outputs": [
    {
     "name": "stdout",
     "output_type": "stream",
     "text": [
      "6\n",
      "5\n",
      "3\n"
     ]
    }
   ],
   "source": [
    "# example2: len()\n",
    "print(len('python'))\n",
    "print(len([10,20,30,40,50]))\n",
    "print(len((20,34.5,'python')))"
   ]
  },
  {
   "cell_type": "code",
   "execution_count": 21,
   "id": "b9b07347",
   "metadata": {},
   "outputs": [
    {
     "name": "stdout",
     "output_type": "stream",
     "text": [
      "10 None\n",
      "100 None\n",
      "34 67\n"
     ]
    }
   ],
   "source": [
    "# example: using class...\n",
    "# Method Overloading concept example..\n",
    "class Polymorphism:\n",
    "    def display(self,a=10,b=None): # default arguments\n",
    "        print(a,b)\n",
    "obj=Polymorphism()\n",
    "obj.display() \n",
    "obj.display(100)\n",
    "obj.display(34,67)\n"
   ]
  },
  {
   "cell_type": "code",
   "execution_count": 23,
   "id": "971cd9f6",
   "metadata": {},
   "outputs": [
    {
     "name": "stdout",
     "output_type": "stream",
     "text": [
      "bike Driving....\n"
     ]
    }
   ],
   "source": [
    "# Method overriding example ...\n",
    "class Father:\n",
    "    def Driving(self):\n",
    "        print('Cycle driving...')\n",
    "class Son(Father):\n",
    "    def Driving(self):\n",
    "        print(\"bike Driving....\")\n",
    "obj1 = Son()\n",
    "obj1.Driving()"
   ]
  },
  {
   "cell_type": "markdown",
   "id": "631d2f0f",
   "metadata": {},
   "source": [
    "### Encapsulation:\n",
    "        - wrapping of data...\n",
    "        - combining the varibles and methods in a single unit.\n",
    "        - Two Access specifiers:\n",
    "        - 1. Public : default\n",
    "        - 2. Private : using __( double underscore)"
   ]
  },
  {
   "cell_type": "code",
   "execution_count": 27,
   "id": "4faae9c5",
   "metadata": {},
   "outputs": [
    {
     "name": "stdout",
     "output_type": "stream",
     "text": [
      "10\n",
      "welcome\n"
     ]
    }
   ],
   "source": [
    "# example program on encapsulation:\n",
    "class Eancap:\n",
    "    a = 10\n",
    "    def display(self): # public specifier\n",
    "        print('welcome')\n",
    "obj1 = Eancap()\n",
    "print(obj1.a)\n",
    "obj1.display()"
   ]
  },
  {
   "cell_type": "code",
   "execution_count": 31,
   "id": "640e950a",
   "metadata": {},
   "outputs": [
    {
     "name": "stdout",
     "output_type": "stream",
     "text": [
      "welcome\n",
      "10\n"
     ]
    }
   ],
   "source": [
    "class Eancap:\n",
    "    __a = 10 # private variable\n",
    "    def display(self): # public specifier\n",
    "        print('welcome')\n",
    "        print(self.__a)\n",
    "obj1 = Eancap()\n",
    "obj1.display()"
   ]
  },
  {
   "cell_type": "code",
   "execution_count": 32,
   "id": "01cbef98",
   "metadata": {},
   "outputs": [
    {
     "name": "stdout",
     "output_type": "stream",
     "text": [
      "10\n",
      "welcome\n"
     ]
    }
   ],
   "source": [
    "class Eancap:\n",
    "    __a = 10 # private variable\n",
    "    def __display(self): # private method\n",
    "        print('welcome')\n",
    "    def sample(self):\n",
    "        print(self.__a)\n",
    "        self.__display()\n",
    "obj1 = Eancap()\n",
    "obj1.sample()"
   ]
  },
  {
   "cell_type": "code",
   "execution_count": null,
   "id": "7f0f0cb0",
   "metadata": {},
   "outputs": [],
   "source": []
  }
 ],
 "metadata": {
  "kernelspec": {
   "display_name": "Python 3",
   "language": "python",
   "name": "python3"
  },
  "language_info": {
   "codemirror_mode": {
    "name": "ipython",
    "version": 3
   },
   "file_extension": ".py",
   "mimetype": "text/x-python",
   "name": "python",
   "nbconvert_exporter": "python",
   "pygments_lexer": "ipython3",
   "version": "3.8.8"
  }
 },
 "nbformat": 4,
 "nbformat_minor": 5
}
