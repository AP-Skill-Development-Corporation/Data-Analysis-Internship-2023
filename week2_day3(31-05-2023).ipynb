{
 "cells": [
  {
   "cell_type": "code",
   "execution_count": 1,
   "id": "31609bab",
   "metadata": {},
   "outputs": [
    {
     "name": "stdout",
     "output_type": "stream",
     "text": [
      "{200, 25, 10, 20}\n",
      "<class 'set'>\n"
     ]
    }
   ],
   "source": [
    "# To store the multiple value to set?\n",
    "s1 = {10,20,10,200,25,200}\n",
    "print(s1)\n",
    "print(type(s1))"
   ]
  },
  {
   "cell_type": "code",
   "execution_count": 3,
   "id": "c4658dfc",
   "metadata": {},
   "outputs": [
    {
     "name": "stdout",
     "output_type": "stream",
     "text": [
      "200\n",
      "25\n",
      "10\n",
      "20\n"
     ]
    }
   ],
   "source": [
    "# To print the set values using forloop?\n",
    "#print(s1)\n",
    "for i in s1:\n",
    "    print(i)"
   ]
  },
  {
   "cell_type": "code",
   "execution_count": 4,
   "id": "e6a2c6ad",
   "metadata": {
    "collapsed": true
   },
   "outputs": [
    {
     "name": "stdout",
     "output_type": "stream",
     "text": [
      "['__and__', '__class__', '__contains__', '__delattr__', '__dir__', '__doc__', '__eq__', '__format__', '__ge__', '__getattribute__', '__gt__', '__hash__', '__iand__', '__init__', '__init_subclass__', '__ior__', '__isub__', '__iter__', '__ixor__', '__le__', '__len__', '__lt__', '__ne__', '__new__', '__or__', '__rand__', '__reduce__', '__reduce_ex__', '__repr__', '__ror__', '__rsub__', '__rxor__', '__setattr__', '__sizeof__', '__str__', '__sub__', '__subclasshook__', '__xor__', 'add', 'clear', 'copy', 'difference', 'difference_update', 'discard', 'intersection', 'intersection_update', 'isdisjoint', 'issubset', 'issuperset', 'pop', 'remove', 'symmetric_difference', 'symmetric_difference_update', 'union', 'update']\n"
     ]
    }
   ],
   "source": [
    "# set methods.\n",
    "print(dir(set))"
   ]
  },
  {
   "cell_type": "code",
   "execution_count": 8,
   "id": "afb34313",
   "metadata": {},
   "outputs": [
    {
     "name": "stdout",
     "output_type": "stream",
     "text": [
      "{100, 200, 10, 20, 25}\n",
      "{100, 200, 10, 20, 24, 25}\n"
     ]
    }
   ],
   "source": [
    "# add(): To add the new element to the set....\n",
    "print(s1)\n",
    "s1.add(100)\n",
    "s1.add(24)\n",
    "print(s1)"
   ]
  },
  {
   "cell_type": "code",
   "execution_count": 10,
   "id": "80632b76",
   "metadata": {},
   "outputs": [
    {
     "name": "stdout",
     "output_type": "stream",
     "text": [
      "{100, 200, 10, 20, 24, 25}\n",
      "{89, 100, 200, 10, 45, 20, 24, 25, 56}\n"
     ]
    }
   ],
   "source": [
    "# update(): To add multiple elements to the set...\n",
    "print(s1)\n",
    "s1.update([56,89,45])\n",
    "print(s1)"
   ]
  },
  {
   "cell_type": "code",
   "execution_count": 12,
   "id": "4b3c74c7",
   "metadata": {},
   "outputs": [
    {
     "name": "stdout",
     "output_type": "stream",
     "text": [
      "{89, 100, 200, 10, 45, 20, 24, 25, 56}\n",
      "{89, 100, 200, 10, 45, 20, 24, 25, 56}\n"
     ]
    }
   ],
   "source": [
    "# copy(): To copy the data from one set to another set?\n",
    "print(s1)\n",
    "s2 = s1.copy()\n",
    "print(s2)"
   ]
  },
  {
   "cell_type": "code",
   "execution_count": 14,
   "id": "5f0eded0",
   "metadata": {},
   "outputs": [
    {
     "name": "stdout",
     "output_type": "stream",
     "text": [
      "{89, 100, 200, 10, 45, 20, 24, 25, 56}\n",
      "{89, 100, 200, 10, 20, 24, 25, 56}\n"
     ]
    }
   ],
   "source": [
    "# remove(): To remove the element from a set...\n",
    "print(s1)\n",
    "s1.remove(45)\n",
    "print(s1)"
   ]
  },
  {
   "cell_type": "code",
   "execution_count": 17,
   "id": "88571e89",
   "metadata": {},
   "outputs": [
    {
     "name": "stdout",
     "output_type": "stream",
     "text": [
      "{100, 200, 10, 20, 24, 25, 56}\n",
      "{200, 10, 20, 24, 25, 56}\n"
     ]
    }
   ],
   "source": [
    "# pop(): To delete the random element...\n",
    "print(s1)\n",
    "s1.pop()\n",
    "print(s1)"
   ]
  },
  {
   "cell_type": "code",
   "execution_count": 18,
   "id": "7b1f9bcc",
   "metadata": {},
   "outputs": [
    {
     "name": "stdout",
     "output_type": "stream",
     "text": [
      "{1, 2, 3, 'a', 'c', 'b'}\n"
     ]
    }
   ],
   "source": [
    "# union(): To combine the two sets data..\n",
    "s1 = {1,2,3}\n",
    "s2 = {'a','b','c'}\n",
    "s3 = s1.union(s2)\n",
    "print(s3)"
   ]
  },
  {
   "cell_type": "code",
   "execution_count": 19,
   "id": "b6b68a4c",
   "metadata": {},
   "outputs": [
    {
     "name": "stdout",
     "output_type": "stream",
     "text": [
      "{'apple', 'banana'}\n"
     ]
    }
   ],
   "source": [
    "#intersection_update(): The items that are present in both sets.\n",
    "a = {'apple','banana','mango','orange'}\n",
    "b = {'python','java','banana','c language','apple'}\n",
    "a.intersection_update(b)\n",
    "print(a)"
   ]
  },
  {
   "cell_type": "code",
   "execution_count": 20,
   "id": "738a12f5",
   "metadata": {},
   "outputs": [
    {
     "name": "stdout",
     "output_type": "stream",
     "text": [
      "{'c language', 'mango', 'orange', 'python', 'java'}\n"
     ]
    }
   ],
   "source": [
    "# symmetric_difference_update():\n",
    "# only the elements that are not present in both sets..\n",
    "a = {'apple','banana','mango','orange'}\n",
    "b = {'python','java','banana','c language','apple'}\n",
    "a.symmetric_difference_update(b)\n",
    "print(a)"
   ]
  },
  {
   "cell_type": "code",
   "execution_count": 21,
   "id": "5ed460a2",
   "metadata": {},
   "outputs": [
    {
     "name": "stdout",
     "output_type": "stream",
     "text": [
      "{1: 20, 3: 56, 6: 100}\n"
     ]
    }
   ],
   "source": [
    "d1={1:20,2:45,3:56,4:79,5:11,6:100}\n",
    "#To print the only the even value of item...\n",
    "#output: {1:20,3:56,6:100}\n",
    "d2 = {}\n",
    "for i,j in d1.items():\n",
    "    if j%2 == 0:\n",
    "        d2[i]=j\n",
    "print(d2)"
   ]
  },
  {
   "cell_type": "code",
   "execution_count": 22,
   "id": "566f608f",
   "metadata": {},
   "outputs": [
    {
     "name": "stdout",
     "output_type": "stream",
     "text": [
      "{10, 20, 30}\n"
     ]
    }
   ],
   "source": [
    "L1=[10,20,10,20,30,10,20]\n",
    "# To remove the duplication of data using set?\n",
    "s = set(L1)\n",
    "print(s)"
   ]
  },
  {
   "cell_type": "code",
   "execution_count": 23,
   "id": "386e8512",
   "metadata": {},
   "outputs": [
    {
     "name": "stdout",
     "output_type": "stream",
     "text": [
      "{'m', 'y', 'o', 'c', 'd', 't', 'e', 'p', 'w', 's', 'n', 'a', 'l', ' ', 'h'}\n"
     ]
    }
   ],
   "source": [
    "s=\"apssdc welcome to python apssdc\"\n",
    "# To remove the duplication of characters from a string using set?\n",
    "s1 = set(s)\n",
    "print(s1)"
   ]
  },
  {
   "cell_type": "markdown",
   "id": "c8e2c43a",
   "metadata": {},
   "source": [
    "### module and package:\n",
    "\n",
    "- 1. Module:\n",
    "          - It is a collection of functions,classes,variables...\n",
    "          - Module is nothing but .py file\n",
    "          - first we need import the module name..\n",
    "          - syntax:\n",
    "                      import module_name(.py file name)\n",
    "                      - Accessing the module:\n",
    "                              module_name.function_name()\n",
    "                              module_name.class_name\n",
    "                              module_name.varibale_name"
   ]
  },
  {
   "cell_type": "code",
   "execution_count": 26,
   "id": "5fa3adf1",
   "metadata": {},
   "outputs": [],
   "source": [
    "import demo"
   ]
  },
  {
   "cell_type": "code",
   "execution_count": 25,
   "id": "b08606e1",
   "metadata": {},
   "outputs": [
    {
     "name": "stdout",
     "output_type": "stream",
     "text": [
      "Help on module demo:\n",
      "\n",
      "NAME\n",
      "    demo\n",
      "\n",
      "FUNCTIONS\n",
      "    addition(a, b)\n",
      "    \n",
      "    greeting()\n",
      "\n",
      "DATA\n",
      "    a = 100\n",
      "    b = 34\n",
      "    s = 'apssdc python programming'\n",
      "\n",
      "FILE\n",
      "    c:\\users\\bhavya\\summer-da-intership(22-05-2023)\\week2\\demo.py\n",
      "\n",
      "\n"
     ]
    }
   ],
   "source": [
    "help(demo)"
   ]
  },
  {
   "cell_type": "code",
   "execution_count": 27,
   "id": "74dd5b1b",
   "metadata": {},
   "outputs": [
    {
     "data": {
      "text/plain": [
       "579"
      ]
     },
     "execution_count": 27,
     "metadata": {},
     "output_type": "execute_result"
    }
   ],
   "source": [
    "demo.addition(123,456)"
   ]
  },
  {
   "cell_type": "code",
   "execution_count": 28,
   "id": "0c7b2419",
   "metadata": {},
   "outputs": [
    {
     "data": {
      "text/plain": [
       "100"
      ]
     },
     "execution_count": 28,
     "metadata": {},
     "output_type": "execute_result"
    }
   ],
   "source": [
    "demo.a"
   ]
  },
  {
   "cell_type": "code",
   "execution_count": 30,
   "id": "ea64e67b",
   "metadata": {},
   "outputs": [
    {
     "name": "stdout",
     "output_type": "stream",
     "text": [
      "hello, good evening\n"
     ]
    }
   ],
   "source": [
    "demo.greeting()"
   ]
  },
  {
   "cell_type": "code",
   "execution_count": 31,
   "id": "ef933383",
   "metadata": {},
   "outputs": [
    {
     "data": {
      "text/plain": [
       "88"
      ]
     },
     "execution_count": 31,
     "metadata": {},
     "output_type": "execute_result"
    }
   ],
   "source": [
    "import demo as d # alias names\n",
    "d.addition(10,78)"
   ]
  },
  {
   "cell_type": "code",
   "execution_count": 32,
   "id": "c609689e",
   "metadata": {},
   "outputs": [
    {
     "data": {
      "text/plain": [
       "30"
      ]
     },
     "execution_count": 32,
     "metadata": {},
     "output_type": "execute_result"
    }
   ],
   "source": [
    "# using from method...\n",
    "# syntax: from module_name import function_name\n",
    "from demo import addition\n",
    "addition(10,20)"
   ]
  },
  {
   "cell_type": "code",
   "execution_count": 33,
   "id": "615def74",
   "metadata": {},
   "outputs": [
    {
     "data": {
      "text/plain": [
       "69"
      ]
     },
     "execution_count": 33,
     "metadata": {},
     "output_type": "execute_result"
    }
   ],
   "source": [
    "from demo import addition as add\n",
    "add(13,56)"
   ]
  },
  {
   "cell_type": "code",
   "execution_count": 34,
   "id": "eff96ed5",
   "metadata": {},
   "outputs": [
    {
     "data": {
      "text/plain": [
       "100"
      ]
     },
     "execution_count": 34,
     "metadata": {},
     "output_type": "execute_result"
    }
   ],
   "source": [
    "from demo import addition,greeting,a,b,s\n",
    "a"
   ]
  },
  {
   "cell_type": "code",
   "execution_count": 35,
   "id": "9366e753",
   "metadata": {},
   "outputs": [
    {
     "data": {
      "text/plain": [
       "100"
      ]
     },
     "execution_count": 35,
     "metadata": {},
     "output_type": "execute_result"
    }
   ],
   "source": [
    "from demo import * \n",
    "# using '*' symbol we can access the all the data from a module..\n",
    "a"
   ]
  },
  {
   "cell_type": "markdown",
   "id": "296f1f55",
   "metadata": {},
   "source": [
    "### package:\n",
    "        - Package is nothing but folder(directory).\n",
    "        - It is collection of modules..\n",
    "        - syntax:\n",
    "                import package_name.module_name\n",
    "                - accessing the functions,classes,variables....\n",
    "                    package_name.module_name.function_name()\n",
    "                    package_name.module_name.variable_name"
   ]
  },
  {
   "cell_type": "code",
   "execution_count": 36,
   "id": "d7282f81",
   "metadata": {},
   "outputs": [],
   "source": [
    "import python.menu"
   ]
  },
  {
   "cell_type": "code",
   "execution_count": 37,
   "id": "be9b5992",
   "metadata": {},
   "outputs": [
    {
     "data": {
      "text/plain": [
       "34.5"
      ]
     },
     "execution_count": 37,
     "metadata": {},
     "output_type": "execute_result"
    }
   ],
   "source": [
    "python.menu.k"
   ]
  },
  {
   "cell_type": "code",
   "execution_count": 38,
   "id": "c6988dcf",
   "metadata": {},
   "outputs": [
    {
     "data": {
      "text/plain": [
       "-44"
      ]
     },
     "execution_count": 38,
     "metadata": {},
     "output_type": "execute_result"
    }
   ],
   "source": [
    "python.menu.subtraction(34,78)"
   ]
  },
  {
   "cell_type": "code",
   "execution_count": 39,
   "id": "620c2a85",
   "metadata": {},
   "outputs": [
    {
     "data": {
      "text/plain": [
       "-33"
      ]
     },
     "execution_count": 39,
     "metadata": {},
     "output_type": "execute_result"
    }
   ],
   "source": [
    "# using from method:\n",
    "# syntax: package_name.module_name import function_name\n",
    "from python.menu import subtraction,reverse,k\n",
    "subtraction(34,67)"
   ]
  },
  {
   "cell_type": "code",
   "execution_count": 40,
   "id": "a76bdf9a",
   "metadata": {},
   "outputs": [
    {
     "data": {
      "text/plain": [
       "654"
      ]
     },
     "execution_count": 40,
     "metadata": {},
     "output_type": "execute_result"
    }
   ],
   "source": [
    "reverse(456)"
   ]
  },
  {
   "cell_type": "code",
   "execution_count": 41,
   "id": "9f520c98",
   "metadata": {},
   "outputs": [
    {
     "name": "stdout",
     "output_type": "stream",
     "text": [
      "Help on package python:\n",
      "\n",
      "NAME\n",
      "    python\n",
      "\n",
      "PACKAGE CONTENTS\n",
      "    menu\n",
      "\n",
      "FILE\n",
      "    (built-in)\n",
      "\n",
      "\n"
     ]
    }
   ],
   "source": [
    "help(python)"
   ]
  },
  {
   "cell_type": "code",
   "execution_count": 42,
   "id": "7f96058e",
   "metadata": {},
   "outputs": [
    {
     "name": "stdout",
     "output_type": "stream",
     "text": [
      "['ArithmeticError', 'AssertionError', 'AttributeError', 'BaseException', 'BlockingIOError', 'BrokenPipeError', 'BufferError', 'BytesWarning', 'ChildProcessError', 'ConnectionAbortedError', 'ConnectionError', 'ConnectionRefusedError', 'ConnectionResetError', 'DeprecationWarning', 'EOFError', 'Ellipsis', 'EnvironmentError', 'Exception', 'False', 'FileExistsError', 'FileNotFoundError', 'FloatingPointError', 'FutureWarning', 'GeneratorExit', 'IOError', 'ImportError', 'ImportWarning', 'IndentationError', 'IndexError', 'InterruptedError', 'IsADirectoryError', 'KeyError', 'KeyboardInterrupt', 'LookupError', 'MemoryError', 'ModuleNotFoundError', 'NameError', 'None', 'NotADirectoryError', 'NotImplemented', 'NotImplementedError', 'OSError', 'OverflowError', 'PendingDeprecationWarning', 'PermissionError', 'ProcessLookupError', 'RecursionError', 'ReferenceError', 'ResourceWarning', 'RuntimeError', 'RuntimeWarning', 'StopAsyncIteration', 'StopIteration', 'SyntaxError', 'SyntaxWarning', 'SystemError', 'SystemExit', 'TabError', 'TimeoutError', 'True', 'TypeError', 'UnboundLocalError', 'UnicodeDecodeError', 'UnicodeEncodeError', 'UnicodeError', 'UnicodeTranslateError', 'UnicodeWarning', 'UserWarning', 'ValueError', 'Warning', 'WindowsError', 'ZeroDivisionError', '__IPYTHON__', '__build_class__', '__debug__', '__doc__', '__import__', '__loader__', '__name__', '__package__', '__spec__', 'abs', 'all', 'any', 'ascii', 'bin', 'bool', 'breakpoint', 'bytearray', 'bytes', 'callable', 'chr', 'classmethod', 'compile', 'complex', 'copyright', 'credits', 'delattr', 'dict', 'dir', 'display', 'divmod', 'enumerate', 'eval', 'exec', 'filter', 'float', 'format', 'frozenset', 'get_ipython', 'getattr', 'globals', 'hasattr', 'hash', 'help', 'hex', 'id', 'input', 'int', 'isinstance', 'issubclass', 'iter', 'len', 'license', 'list', 'locals', 'map', 'max', 'memoryview', 'min', 'next', 'object', 'oct', 'open', 'ord', 'pow', 'print', 'property', 'range', 'repr', 'reversed', 'round', 'set', 'setattr', 'slice', 'sorted', 'staticmethod', 'str', 'sum', 'super', 'tuple', 'type', 'vars', 'zip']\n"
     ]
    }
   ],
   "source": [
    "print(dir(__builtin__))"
   ]
  },
  {
   "cell_type": "code",
   "execution_count": 43,
   "id": "1d444550",
   "metadata": {},
   "outputs": [
    {
     "data": {
      "text/plain": [
       "'C:\\\\Users\\\\Bhavya\\\\Summer-DA-intership(22-05-2023)\\\\week2'"
      ]
     },
     "execution_count": 43,
     "metadata": {},
     "output_type": "execute_result"
    }
   ],
   "source": [
    "import os\n",
    "os.getcwd()# TO get the current working directory..."
   ]
  },
  {
   "cell_type": "code",
   "execution_count": 44,
   "id": "7e914839",
   "metadata": {},
   "outputs": [
    {
     "data": {
      "text/plain": [
       "['.ipynb_checkpoints',\n",
       " 'day1(29-05-2023).ipynb',\n",
       " 'Day2(30-05-2023).ipynb',\n",
       " 'day3(31-05-2023).ipynb',\n",
       " 'demo.py',\n",
       " 'python',\n",
       " '__pycache__']"
      ]
     },
     "execution_count": 44,
     "metadata": {},
     "output_type": "execute_result"
    }
   ],
   "source": [
    "os.listdir()"
   ]
  },
  {
   "cell_type": "code",
   "execution_count": 45,
   "id": "1fb34be9",
   "metadata": {},
   "outputs": [
    {
     "name": "stdout",
     "output_type": "stream",
     "text": [
      "success!.....\n"
     ]
    }
   ],
   "source": [
    "os.mkdir('APSSDC Internship')\n",
    "# To create the empty folder in current working directory..\n",
    "print('success!.....')"
   ]
  },
  {
   "cell_type": "code",
   "execution_count": 46,
   "id": "3db08718",
   "metadata": {},
   "outputs": [
    {
     "name": "stdout",
     "output_type": "stream",
     "text": [
      "success....\n"
     ]
    }
   ],
   "source": [
    "os.chdir('D:')\n",
    "print('success....')"
   ]
  },
  {
   "cell_type": "code",
   "execution_count": 47,
   "id": "f0da2bb8",
   "metadata": {},
   "outputs": [
    {
     "data": {
      "text/plain": [
       "'D:\\\\'"
      ]
     },
     "execution_count": 47,
     "metadata": {},
     "output_type": "execute_result"
    }
   ],
   "source": [
    "os.getcwd()"
   ]
  },
  {
   "cell_type": "code",
   "execution_count": 48,
   "id": "87b60565",
   "metadata": {},
   "outputs": [
    {
     "name": "stdout",
     "output_type": "stream",
     "text": [
      "success\n"
     ]
    }
   ],
   "source": [
    "os.mkdir('python folder')\n",
    "print('success')"
   ]
  },
  {
   "cell_type": "code",
   "execution_count": 50,
   "id": "b33feed6",
   "metadata": {},
   "outputs": [
    {
     "name": "stdout",
     "output_type": "stream",
     "text": [
      "65\n",
      "103\n"
     ]
    }
   ],
   "source": [
    "# To print the ascii value of a given character?\n",
    "print(ord('A'))\n",
    "print(ord('g'))"
   ]
  },
  {
   "cell_type": "code",
   "execution_count": 52,
   "id": "0a9230e8",
   "metadata": {},
   "outputs": [
    {
     "name": "stdout",
     "output_type": "stream",
     "text": [
      "32\n"
     ]
    }
   ],
   "source": [
    "print(ord(' '))"
   ]
  },
  {
   "cell_type": "code",
   "execution_count": 53,
   "id": "1570704f",
   "metadata": {},
   "outputs": [
    {
     "name": "stdout",
     "output_type": "stream",
     "text": [
      "\u0017\n"
     ]
    }
   ],
   "source": [
    "print(chr(23))"
   ]
  },
  {
   "cell_type": "code",
   "execution_count": 54,
   "id": "d9681113",
   "metadata": {},
   "outputs": [
    {
     "name": "stdout",
     "output_type": "stream",
     "text": [
      ":\n"
     ]
    }
   ],
   "source": [
    "print(chr(58))"
   ]
  },
  {
   "cell_type": "code",
   "execution_count": 56,
   "id": "342f05e1",
   "metadata": {},
   "outputs": [
    {
     "name": "stdout",
     "output_type": "stream",
     "text": [
      "p -> 112\n",
      "y -> 121\n",
      "t -> 116\n",
      "h -> 104\n",
      "o -> 111\n",
      "n -> 110\n",
      "@ -> 64\n",
      "1 -> 49\n",
      "2 -> 50\n",
      "3 -> 51\n"
     ]
    }
   ],
   "source": [
    "s = 'python@123'\n",
    "# TO print the each character of ascii value...\n",
    "for i in s:\n",
    "    print(i,'->',ord(i))"
   ]
  },
  {
   "cell_type": "code",
   "execution_count": null,
   "id": "3c86d489",
   "metadata": {},
   "outputs": [],
   "source": []
  }
 ],
 "metadata": {
  "kernelspec": {
   "display_name": "Python 3",
   "language": "python",
   "name": "python3"
  },
  "language_info": {
   "codemirror_mode": {
    "name": "ipython",
    "version": 3
   },
   "file_extension": ".py",
   "mimetype": "text/x-python",
   "name": "python",
   "nbconvert_exporter": "python",
   "pygments_lexer": "ipython3",
   "version": "3.8.8"
  }
 },
 "nbformat": 4,
 "nbformat_minor": 5
}
